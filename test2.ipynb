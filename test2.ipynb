{
 "cells": [
  {
   "cell_type": "code",
   "execution_count": 1,
   "metadata": {},
   "outputs": [
    {
     "name": "stderr",
     "output_type": "stream",
     "text": [
      "Using TensorFlow backend.\n"
     ]
    }
   ],
   "source": [
    "import pandas as pd\n",
    "import matplotlib.pyplot as plt\n",
    "from keras.models import Sequential\n",
    "from keras.layers import Dense\n",
    "from keras.layers import LSTM\n",
    "import math\n",
    "from sklearn.preprocessing import MinMaxScaler\n",
    "from sklearn.metrics import mean_squared_error\n",
    "import numpy as np\n",
    "\n",
    "%matplotlib inline\n",
    "plt.rcParams['figure.figsize'] = (16, 10)"
   ]
  },
  {
   "cell_type": "code",
   "execution_count": 2,
   "metadata": {
    "collapsed": true
   },
   "outputs": [],
   "source": [
    "np.random.seed(7)"
   ]
  },
  {
   "cell_type": "code",
   "execution_count": 3,
   "metadata": {
    "collapsed": true
   },
   "outputs": [],
   "source": [
    "# number of features used in the regression\n",
    "window_size = 10\n",
    "#\n",
    "\n",
    "\n",
    "# lstm_num_timesteps\n",
    "lstm_num_timesteps = 10\n",
    "# whether to use LSTM or MLP\n",
    "use_LSTM = True\n",
    "# lstm_num_features\n",
    "lstm_num_features = 1\n",
    "# stateful?\n",
    "lstm_stateful = False\n",
    "# use two lstm layers?\n",
    "lstm_stack_layers = False\n",
    "\n",
    "\n",
    "batch_size = 1\n",
    "num_epochs = 2\n",
    "num_neurons = 4\n",
    "\n",
    "# scale the dataset to values between scale_min and scale_max\n",
    "scale = True\n",
    "scale_min = -1\n",
    "scale_max = 1"
   ]
  },
  {
   "cell_type": "code",
   "execution_count": 4,
   "metadata": {
    "collapsed": true
   },
   "outputs": [],
   "source": [
    "# load the dataset\n",
    "#df_train = pd.read_csv('international-airline-passengers.csv', usecols=[1], engine='python', skipfooter=3)\n",
    "df_train = pd.read_csv('108_7_3.train.csv', usecols=[1], engine='python', skipfooter=3)\n",
    "ts_train = df_train.values.astype('float64')\n",
    "df_test = pd.read_csv('108_7_3.test.csv', usecols=[1], engine='python', skipfooter=3)\n",
    "ts_test = df_test.values.astype('float64')\n",
    "ts_all = np.append(ts_train, ts_test).reshape(-1,1)\n",
    "len_overall = len(ts_all)"
   ]
  },
  {
   "cell_type": "code",
   "execution_count": 5,
   "metadata": {
    "collapsed": true
   },
   "outputs": [],
   "source": [
    "#for testing\n",
    "#ts_train = np.arange(1,101, dtype='float64').reshape(-1,1)  \n",
    "#ts_test = np.arange(101,121, dtype='float64').reshape(-1,1)\n",
    "#window_size = 5\n",
    "#ts_all = np.append(ts_train, ts_test).reshape(-1,1)\n",
    "#len_overall = len(ts_all)"
   ]
  },
  {
   "cell_type": "code",
   "execution_count": 6,
   "metadata": {},
   "outputs": [
    {
     "data": {
      "text/plain": [
       "983"
      ]
     },
     "execution_count": 6,
     "metadata": {},
     "output_type": "execute_result"
    }
   ],
   "source": [
    "len_overall"
   ]
  },
  {
   "cell_type": "code",
   "execution_count": 7,
   "metadata": {},
   "outputs": [
    {
     "data": {
      "text/plain": [
       "dtype('float64')"
      ]
     },
     "execution_count": 7,
     "metadata": {},
     "output_type": "execute_result"
    }
   ],
   "source": [
    "ts_all.dtype"
   ]
  },
  {
   "cell_type": "code",
   "execution_count": 8,
   "metadata": {},
   "outputs": [
    {
     "data": {
      "text/plain": [
       "((896, 1), (87, 1))"
      ]
     },
     "execution_count": 8,
     "metadata": {},
     "output_type": "execute_result"
    }
   ],
   "source": [
    "ts_train.shape, ts_test.shape"
   ]
  },
  {
   "cell_type": "code",
   "execution_count": 9,
   "metadata": {},
   "outputs": [
    {
     "data": {
      "text/plain": [
       "array([[ 4164.],\n",
       "       [ 3540.],\n",
       "       [ 3560.],\n",
       "       [ 3094.],\n",
       "       [ 3658.],\n",
       "       [ 3049.],\n",
       "       [ 3526.],\n",
       "       [ 3290.],\n",
       "       [ 4447.],\n",
       "       [ 2305.]])"
      ]
     },
     "execution_count": 9,
     "metadata": {},
     "output_type": "execute_result"
    }
   ],
   "source": [
    "ts_train[:10]"
   ]
  },
  {
   "cell_type": "code",
   "execution_count": 10,
   "metadata": {},
   "outputs": [
    {
     "data": {
      "text/plain": [
       "array([[ 1131.],\n",
       "       [  816.],\n",
       "       [ 1084.],\n",
       "       [ 1283.],\n",
       "       [ 1363.],\n",
       "       [ 1060.],\n",
       "       [ 1272.],\n",
       "       [  636.],\n",
       "       [ 1095.],\n",
       "       [ 1284.]])"
      ]
     },
     "execution_count": 10,
     "metadata": {},
     "output_type": "execute_result"
    }
   ],
   "source": [
    "ts_test[:10]"
   ]
  },
  {
   "cell_type": "code",
   "execution_count": 11,
   "metadata": {
    "collapsed": true
   },
   "outputs": [],
   "source": [
    "if scale:\n",
    "    scaler = MinMaxScaler(feature_range=(scale_min, scale_max))\n",
    "    ts_train = scaler.fit_transform(ts_train)\n",
    "    ts_test = scaler.transform(ts_test)"
   ]
  },
  {
   "cell_type": "code",
   "execution_count": 12,
   "metadata": {},
   "outputs": [
    {
     "data": {
      "text/plain": [
       "(array([ 322.]), array([ 4749.]))"
      ]
     },
     "execution_count": 12,
     "metadata": {},
     "output_type": "execute_result"
    }
   ],
   "source": [
    "scaler.data_min_, scaler.data_max_"
   ]
  },
  {
   "cell_type": "code",
   "execution_count": 13,
   "metadata": {},
   "outputs": [
    {
     "data": {
      "text/plain": [
       "array([[ 0.73571267],\n",
       "       [ 0.45380619],\n",
       "       [ 0.46284165],\n",
       "       [ 0.25231534],\n",
       "       [ 0.50711543],\n",
       "       [ 0.23198554],\n",
       "       [ 0.44748136],\n",
       "       [ 0.34086289],\n",
       "       [ 0.86356449],\n",
       "       [-0.10413372]])"
      ]
     },
     "execution_count": 13,
     "metadata": {},
     "output_type": "execute_result"
    }
   ],
   "source": [
    "ts_train[:10]"
   ]
  },
  {
   "cell_type": "code",
   "execution_count": 14,
   "metadata": {},
   "outputs": [
    {
     "data": {
      "text/plain": [
       "array([[-0.63451547],\n",
       "       [-0.77682403],\n",
       "       [-0.65574881],\n",
       "       [-0.56584595],\n",
       "       [-0.52970409],\n",
       "       [-0.66659137],\n",
       "       [-0.57081545],\n",
       "       [-0.85814321],\n",
       "       [-0.65077931],\n",
       "       [-0.56539417]])"
      ]
     },
     "execution_count": 14,
     "metadata": {},
     "output_type": "execute_result"
    }
   ],
   "source": [
    "ts_test[:10]"
   ]
  },
  {
   "cell_type": "code",
   "execution_count": 15,
   "metadata": {
    "collapsed": true
   },
   "outputs": [],
   "source": [
    "# split into train and test sets\n",
    "#train_size = int(len(ts) * 0.67)\n",
    "#test_size = len(ts) - train_size\n",
    "#ts_train, ts_test = ts[0:train_size,:], ts[train_size:len(ts),:]\n",
    "#print(len(ts_train), len(ts_test))\n"
   ]
  },
  {
   "cell_type": "code",
   "execution_count": 16,
   "metadata": {
    "collapsed": true
   },
   "outputs": [],
   "source": [
    "# convert an array of values into a dataset matrix\n",
    "def create_dataset(dataset, window_size):\n",
    "    dataX, dataY = [], []\n",
    "    for i in range(len(dataset) - window_size):\n",
    "        a = dataset[i:(i + window_size), 0]\n",
    "        dataX.append(a)\n",
    "        dataY.append(dataset[i + window_size, 0])\n",
    "    return np.array(dataX), np.array(dataY)"
   ]
  },
  {
   "cell_type": "code",
   "execution_count": 17,
   "metadata": {
    "collapsed": true
   },
   "outputs": [],
   "source": [
    "def timeseries_to_supervised(data, lag=1):\n",
    "\tdf = DataFrame(data)\n",
    "\tcolumns = [df.shift(i) for i in range(1, lag+1)]\n",
    "\tcolumns.append(df)\n",
    "\tdf = concat(columns, axis=1)\n",
    "\tdf = df.drop(0)\n",
    "\treturn df"
   ]
  },
  {
   "cell_type": "code",
   "execution_count": 18,
   "metadata": {},
   "outputs": [
    {
     "data": {
      "text/plain": [
       "((886, 10), (77, 10), (886,), (77,))"
      ]
     },
     "execution_count": 18,
     "metadata": {},
     "output_type": "execute_result"
    }
   ],
   "source": [
    "X_train, y_train = create_dataset(ts_train, window_size)\n",
    "X_test, y_test = create_dataset(ts_test, window_size)\n",
    "# the train and test matrices end up shorter than the respective timeseries by window_size + 1!\n",
    "X_train.shape, X_test.shape, y_train.shape, y_test.shape"
   ]
  },
  {
   "cell_type": "code",
   "execution_count": 19,
   "metadata": {},
   "outputs": [
    {
     "data": {
      "text/plain": [
       "array([[ 0.73571267,  0.45380619,  0.46284165,  0.25231534,  0.50711543,\n",
       "         0.23198554,  0.44748136,  0.34086289,  0.86356449, -0.10413372],\n",
       "       [ 0.45380619,  0.46284165,  0.25231534,  0.50711543,  0.23198554,\n",
       "         0.44748136,  0.34086289,  0.86356449, -0.10413372,  0.05489044],\n",
       "       [ 0.46284165,  0.25231534,  0.50711543,  0.23198554,  0.44748136,\n",
       "         0.34086289,  0.86356449, -0.10413372,  0.05489044,  0.11226564],\n",
       "       [ 0.25231534,  0.50711543,  0.23198554,  0.44748136,  0.34086289,\n",
       "         0.86356449, -0.10413372,  0.05489044,  0.11226564,  0.24056923],\n",
       "       [ 0.50711543,  0.23198554,  0.44748136,  0.34086289,  0.86356449,\n",
       "        -0.10413372,  0.05489044,  0.11226564,  0.24056923,  0.6778857 ]])"
      ]
     },
     "execution_count": 19,
     "metadata": {},
     "output_type": "execute_result"
    }
   ],
   "source": [
    "X_train[:5,:]"
   ]
  },
  {
   "cell_type": "code",
   "execution_count": 20,
   "metadata": {},
   "outputs": [
    {
     "data": {
      "text/plain": [
       "array([ 0.05489044,  0.11226564,  0.24056923,  0.6778857 ,  0.17957985])"
      ]
     },
     "execution_count": 20,
     "metadata": {},
     "output_type": "execute_result"
    }
   ],
   "source": [
    "y_train[:5]"
   ]
  },
  {
   "cell_type": "code",
   "execution_count": 21,
   "metadata": {},
   "outputs": [
    {
     "data": {
      "text/plain": [
       "array([[-0.63451547, -0.77682403, -0.65574881, -0.56584595, -0.52970409,\n",
       "        -0.66659137, -0.57081545, -0.85814321, -0.65077931, -0.56539417],\n",
       "       [-0.77682403, -0.65574881, -0.56584595, -0.52970409, -0.66659137,\n",
       "        -0.57081545, -0.85814321, -0.65077931, -0.56539417, -0.62909419],\n",
       "       [-0.65574881, -0.56584595, -0.52970409, -0.66659137, -0.57081545,\n",
       "        -0.85814321, -0.65077931, -0.56539417, -0.62909419, -0.68601762],\n",
       "       [-0.56584595, -0.52970409, -0.66659137, -0.57081545, -0.85814321,\n",
       "        -0.65077931, -0.56539417, -0.62909419, -0.68601762, -0.55590693],\n",
       "       [-0.52970409, -0.66659137, -0.57081545, -0.85814321, -0.65077931,\n",
       "        -0.56539417, -0.62909419, -0.68601762, -0.55590693, -0.73480913]])"
      ]
     },
     "execution_count": 21,
     "metadata": {},
     "output_type": "execute_result"
    }
   ],
   "source": [
    "X_test[:5,:]"
   ]
  },
  {
   "cell_type": "code",
   "execution_count": 22,
   "metadata": {},
   "outputs": [
    {
     "data": {
      "text/plain": [
       "array([-0.62909419, -0.68601762, -0.55590693, -0.73480913, -0.84730066])"
      ]
     },
     "execution_count": 22,
     "metadata": {},
     "output_type": "execute_result"
    }
   ],
   "source": [
    "y_test[:5]"
   ]
  },
  {
   "cell_type": "code",
   "execution_count": 23,
   "metadata": {
    "collapsed": true
   },
   "outputs": [],
   "source": [
    "if use_LSTM:\n",
    "    # reshape input to be [samples, time steps, features]\n",
    "    X_train = np.reshape(X_train, (X_train.shape[0], lstm_num_timesteps, lstm_num_features))\n",
    "    X_test = np.reshape(X_test, (X_test.shape[0], lstm_num_timesteps, lstm_num_features))"
   ]
  },
  {
   "cell_type": "code",
   "execution_count": 25,
   "metadata": {},
   "outputs": [
    {
     "name": "stdout",
     "output_type": "stream",
     "text": [
      "Epoch 1/2\n",
      "886/886 [==============================] - 11s - loss: 0.0396    \n",
      "Epoch 2/2\n",
      "886/886 [==============================] - 11s - loss: 0.0334    \n"
     ]
    }
   ],
   "source": [
    "model = Sequential()\n",
    "\n",
    "if use_LSTM:\n",
    "    \n",
    "    # the last state for each sample at index i in a batch will be used as initial state\n",
    "    # for the sample of index i in the following batch\n",
    "    if lstm_stateful:\n",
    "        #\n",
    "        #\n",
    "        if lstm_stack_layers:\n",
    "            model.add(LSTM(num_neurons,\n",
    "                       batch_input_shape=(batch_size, X_train.shape[1], X_train.shape[2]),\n",
    "                       stateful = True,\n",
    "                       return_sequences = True))\n",
    "            model.add(LSTM(num_neurons,\n",
    "                       batch_input_shape=(batch_size, X_train.shape[1], X_train.shape[2]),\n",
    "                       stateful = True))\n",
    "        # \n",
    "        else:\n",
    "            model.add(LSTM(num_neurons,\n",
    "                       batch_input_shape=(batch_size, X_train.shape[1], X_train.shape[2]),\n",
    "                       stateful = True))\n",
    "          \n",
    "        model.add(Dense(1))\n",
    "        model.compile(loss='mean_squared_error', optimizer='adam')\n",
    "        \n",
    "        train_rmse, test_rmse = list(), list()\n",
    "        for i in range(num_epochs):\n",
    "            # shuffle must be False!\n",
    "            model.fit(X, y, epochs=1, batch_size = batch_size, verbose = 0, shuffle = False)\n",
    "            model.reset_states()\n",
    "            # evaluate model on train data\n",
    "            #raw_train = raw[-(len(train)+len(test)+1):-len(test)]\n",
    "            #train_rmse.append(evaluate(model, raw_train, train, scaler, 0, batch_size))\n",
    "            #model.reset_states()\n",
    "            # evaluate model on test data\n",
    "            #raw_test = raw[-(len(test)+1):]\n",
    "            #test_rmse.append(evaluate(model, raw_test, test, scaler, 0, batch_size))\n",
    "            #model.reset_states()\n",
    "        history = DataFrame()\n",
    "        history['train'], history['test'] = train_rmse, test_rmse\n",
    "        \n",
    "        print(history)\n",
    "        \n",
    "    # stateful == False    \n",
    "    else:\n",
    "        \n",
    "        \n",
    "        if lstm_stack_layers:\n",
    "            # input_dim: dimensionality of the input (alternatively, input_shape)\n",
    "            # required when using this layer as the first layer in a model\n",
    "            model.add(LSTM(num_neurons, input_dim = lstm_num_features, return_sequences = True)\n",
    "            model.add(LSTM(num_neurons))\n",
    "        # \n",
    "        else:\n",
    "            model.add(LSTM(num_neurons, input_dim = lstm_num_features, return_sequences = True)\n",
    "        \n",
    "        model.add(Dense(1))\n",
    "        model.compile(loss='mean_squared_error', optimizer='adam')\n",
    "        model.fit(X_train, y_train, nb_epoch = num_epochs, batch_size = batch_size)\n",
    "        \n",
    "   \n",
    "\n",
    "# feedforward\n",
    "else:\n",
    "    \n",
    "    model.add(Dense(num_neurons, input_dim = window_size, activation='relu'))\n",
    "    model.add(Dense(1))\n",
    "    model.compile(loss='mean_squared_error', optimizer='adam')\n",
    "    model.fit(X_train, y_train, nb_epoch = num_epochs, batch_size = batch_size)\n"
   ]
  },
  {
   "cell_type": "code",
   "execution_count": 26,
   "metadata": {},
   "outputs": [
    {
     "name": "stdout",
     "output_type": "stream",
     "text": [
      "77/77 [==============================] - 0s\n"
     ]
    },
    {
     "data": {
      "text/plain": [
       "0.018286425620317459"
      ]
     },
     "execution_count": 26,
     "metadata": {},
     "output_type": "execute_result"
    }
   ],
   "source": [
    "model.evaluate(X_test, y_test, batch_size = X_test.shape[0])"
   ]
  },
  {
   "cell_type": "code",
   "execution_count": null,
   "metadata": {
    "collapsed": true
   },
   "outputs": [],
   "source": [
    "pred_train = model.predict(X_train)\n",
    "pred_test = model.predict(X_test)"
   ]
  },
  {
   "cell_type": "code",
   "execution_count": null,
   "metadata": {},
   "outputs": [],
   "source": [
    "y_train[:10]"
   ]
  },
  {
   "cell_type": "code",
   "execution_count": null,
   "metadata": {},
   "outputs": [],
   "source": [
    "pred_train[:10,0]"
   ]
  },
  {
   "cell_type": "code",
   "execution_count": null,
   "metadata": {},
   "outputs": [],
   "source": [
    "y_test[:10]"
   ]
  },
  {
   "cell_type": "code",
   "execution_count": null,
   "metadata": {},
   "outputs": [],
   "source": [
    "pred_test[:10,0]"
   ]
  },
  {
   "cell_type": "code",
   "execution_count": null,
   "metadata": {},
   "outputs": [],
   "source": [
    "if scale:\n",
    "    pred_train = scaler.inverse_transform(pred_train)\n",
    "    y_train = scaler.inverse_transform(y_train.reshape(-1,1))\n",
    "    pred_test = scaler.inverse_transform(pred_test)\n",
    "    y_test = scaler.inverse_transform(y_test.reshape(-1,1))\n"
   ]
  },
  {
   "cell_type": "code",
   "execution_count": null,
   "metadata": {},
   "outputs": [],
   "source": [
    "y_train[:10],pred_train[:10,0]"
   ]
  },
  {
   "cell_type": "code",
   "execution_count": null,
   "metadata": {},
   "outputs": [],
   "source": [
    "y_test[:10],pred_test[:10,0]"
   ]
  },
  {
   "cell_type": "code",
   "execution_count": null,
   "metadata": {},
   "outputs": [],
   "source": [
    "# calculate root mean squared error\n",
    "rsme_train = math.sqrt(mean_squared_error(y_train, pred_train[:,0]))\n",
    "print('Train Score: %.2f RMSE' % (rsme_train))\n",
    "rsme_test = math.sqrt(mean_squared_error(y_test, pred_test[:,0]))\n",
    "print('Test Score: %.2f RMSE' % (rsme_test))"
   ]
  },
  {
   "cell_type": "code",
   "execution_count": null,
   "metadata": {},
   "outputs": [],
   "source": [
    "print(len(ts_train), len(pred_train), len(y_train))\n",
    "len(ts_test), len(pred_test), len(y_test) "
   ]
  },
  {
   "cell_type": "code",
   "execution_count": null,
   "metadata": {},
   "outputs": [],
   "source": [
    "# shift train predictions for plotting\n",
    "pred_train_shifted = np.empty_like(ts_all)\n",
    "print(pred_train_shifted.size)\n",
    "pred_train_shifted[:, :] = np.nan\n",
    "# train predictions start at position window_size + 1 (or window_size, if counting from 0)\n",
    "pred_train_shifted[window_size : len(pred_train) + window_size, :] = pred_train\n",
    "pred_train_shifted[:13]"
   ]
  },
  {
   "cell_type": "code",
   "execution_count": null,
   "metadata": {},
   "outputs": [],
   "source": [
    "# shift test predictions for plotting\n",
    "pred_test_shifted = np.empty_like(ts_all)\n",
    "pred_test_shifted[:, :] = np.nan\n",
    "pred_test_shifted[len(pred_train) + (window_size * 2) : len_overall + 1, :] = pred_test\n",
    "pred_test_shifted[-13:]"
   ]
  },
  {
   "cell_type": "code",
   "execution_count": null,
   "metadata": {},
   "outputs": [],
   "source": [
    "plt.plot(ts_all)\n",
    "plt.plot(pred_train_shifted)\n",
    "plt.plot(pred_test_shifted)\n",
    "plt.show()"
   ]
  },
  {
   "cell_type": "code",
   "execution_count": null,
   "metadata": {},
   "outputs": [],
   "source": [
    "plot_start = -100\n",
    "plot_end = -1\n",
    "plt.plot(ts_all[plot_start:plot_end])\n",
    "plt.plot(pred_train_shifted[plot_start:plot_end])\n",
    "plt.plot(pred_test_shifted[plot_start:plot_end])\n",
    "plt.show()"
   ]
  },
  {
   "cell_type": "code",
   "execution_count": null,
   "metadata": {
    "collapsed": true
   },
   "outputs": [],
   "source": []
  },
  {
   "cell_type": "code",
   "execution_count": null,
   "metadata": {
    "collapsed": true
   },
   "outputs": [],
   "source": []
  },
  {
   "cell_type": "code",
   "execution_count": null,
   "metadata": {
    "collapsed": true
   },
   "outputs": [],
   "source": []
  },
  {
   "cell_type": "code",
   "execution_count": null,
   "metadata": {
    "collapsed": true
   },
   "outputs": [],
   "source": []
  },
  {
   "cell_type": "code",
   "execution_count": null,
   "metadata": {
    "collapsed": true
   },
   "outputs": [],
   "source": []
  }
 ],
 "metadata": {
  "anaconda-cloud": {},
  "kernelspec": {
   "display_name": "Python 3",
   "language": "python",
   "name": "python3"
  },
  "language_info": {
   "codemirror_mode": {
    "name": "ipython",
    "version": 3
   },
   "file_extension": ".py",
   "mimetype": "text/x-python",
   "name": "python",
   "nbconvert_exporter": "python",
   "pygments_lexer": "ipython3",
   "version": "3.5.3"
  }
 },
 "nbformat": 4,
 "nbformat_minor": 1
}

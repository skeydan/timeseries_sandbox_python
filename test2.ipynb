{
 "cells": [
  {
   "cell_type": "code",
   "execution_count": 145,
   "metadata": {},
   "outputs": [],
   "source": [
    "import pandas as pd\n",
    "import matplotlib.pyplot as plt\n",
    "from keras.models import Sequential\n",
    "from keras.layers import Dense\n",
    "from keras.layers import LSTM\n",
    "import math\n",
    "from sklearn.preprocessing import MinMaxScaler\n",
    "from sklearn.metrics import mean_squared_error\n",
    "import numpy as np\n",
    "\n",
    "%matplotlib inline\n",
    "pylab.rcParams['figure.figsize'] = (16, 10)"
   ]
  },
  {
   "cell_type": "code",
   "execution_count": 146,
   "metadata": {
    "collapsed": true
   },
   "outputs": [],
   "source": [
    "np.random.seed(7)"
   ]
  },
  {
   "cell_type": "code",
   "execution_count": 147,
   "metadata": {
    "collapsed": true
   },
   "outputs": [],
   "source": [
    "# number of features used in the regression\n",
    "window_size = 10\n",
    "\n",
    "# lstm_num_timesteps\n",
    "lstm_num_timesteps = 10\n",
    "# whether to use LSTM or MLP\n",
    "use_LSTM = True\n",
    "# lstm_num_features\n",
    "lstm_num_features = 1\n",
    "# stateful?\n",
    "lstm_stateful = False\n",
    "# shuffle?\n",
    "lstm_shuffle = True\n",
    "\n",
    "batch_size = 1\n",
    "num_epochs = 2\n",
    "\n",
    "# scale the dataset to values between scale_min and scale_max\n",
    "scale = True\n",
    "scale_min = -1\n",
    "scale_max = 1"
   ]
  },
  {
   "cell_type": "code",
   "execution_count": 148,
   "metadata": {
    "collapsed": true
   },
   "outputs": [],
   "source": [
    "# load the dataset\n",
    "#df_train = pd.read_csv('international-airline-passengers.csv', usecols=[1], engine='python', skipfooter=3)\n",
    "df_train = pd.read_csv('108_7_3.train.csv', usecols=[1], engine='python', skipfooter=3)\n",
    "ts_train = df_train.values.astype('float64')\n",
    "df_test = pd.read_csv('108_7_3.test.csv', usecols=[1], engine='python', skipfooter=3)\n",
    "ts_test = df_test.values.astype('float64')\n",
    "ts_all = np.append(ts_train, ts_test).reshape(-1,1)\n",
    "len_overall = len(ts_all)"
   ]
  },
  {
   "cell_type": "code",
   "execution_count": 149,
   "metadata": {
    "collapsed": true
   },
   "outputs": [],
   "source": [
    "#for testing\n",
    "#ts_train = np.arange(1,101, dtype='float64').reshape(-1,1)  \n",
    "#ts_test = np.arange(101,121, dtype='float64').reshape(-1,1)\n",
    "#window_size = 5\n",
    "#ts_all = np.append(ts_train, ts_test).reshape(-1,1)\n",
    "#len_overall = len(ts_all)"
   ]
  },
  {
   "cell_type": "code",
   "execution_count": 150,
   "metadata": {},
   "outputs": [
    {
     "data": {
      "text/plain": [
       "983"
      ]
     },
     "execution_count": 150,
     "metadata": {},
     "output_type": "execute_result"
    }
   ],
   "source": [
    "len_overall"
   ]
  },
  {
   "cell_type": "code",
   "execution_count": 151,
   "metadata": {},
   "outputs": [
    {
     "data": {
      "text/plain": [
       "dtype('float64')"
      ]
     },
     "execution_count": 151,
     "metadata": {},
     "output_type": "execute_result"
    }
   ],
   "source": [
    "ts_all.dtype"
   ]
  },
  {
   "cell_type": "code",
   "execution_count": 152,
   "metadata": {},
   "outputs": [
    {
     "data": {
      "text/plain": [
       "((896, 1), (87, 1))"
      ]
     },
     "execution_count": 152,
     "metadata": {},
     "output_type": "execute_result"
    }
   ],
   "source": [
    "ts_train.shape, ts_test.shape"
   ]
  },
  {
   "cell_type": "code",
   "execution_count": 153,
   "metadata": {},
   "outputs": [
    {
     "data": {
      "text/plain": [
       "array([[ 4164.],\n",
       "       [ 3540.],\n",
       "       [ 3560.],\n",
       "       [ 3094.],\n",
       "       [ 3658.],\n",
       "       [ 3049.],\n",
       "       [ 3526.],\n",
       "       [ 3290.],\n",
       "       [ 4447.],\n",
       "       [ 2305.]])"
      ]
     },
     "execution_count": 153,
     "metadata": {},
     "output_type": "execute_result"
    }
   ],
   "source": [
    "ts_train[:10]"
   ]
  },
  {
   "cell_type": "code",
   "execution_count": 154,
   "metadata": {},
   "outputs": [
    {
     "data": {
      "text/plain": [
       "array([[ 1131.],\n",
       "       [  816.],\n",
       "       [ 1084.],\n",
       "       [ 1283.],\n",
       "       [ 1363.],\n",
       "       [ 1060.],\n",
       "       [ 1272.],\n",
       "       [  636.],\n",
       "       [ 1095.],\n",
       "       [ 1284.]])"
      ]
     },
     "execution_count": 154,
     "metadata": {},
     "output_type": "execute_result"
    }
   ],
   "source": [
    "ts_test[:10]"
   ]
  },
  {
   "cell_type": "code",
   "execution_count": 155,
   "metadata": {
    "collapsed": true
   },
   "outputs": [],
   "source": [
    "if scale:\n",
    "    scaler = MinMaxScaler(feature_range=(scale_min, scale_max))\n",
    "    ts_train = scaler.fit_transform(ts_train)\n",
    "    ts_test = scaler.transform(ts_test)"
   ]
  },
  {
   "cell_type": "code",
   "execution_count": 156,
   "metadata": {},
   "outputs": [
    {
     "data": {
      "text/plain": [
       "(array([ 322.]), array([ 4749.]))"
      ]
     },
     "execution_count": 156,
     "metadata": {},
     "output_type": "execute_result"
    }
   ],
   "source": [
    "scaler.data_min_, scaler.data_max_"
   ]
  },
  {
   "cell_type": "code",
   "execution_count": 157,
   "metadata": {},
   "outputs": [
    {
     "data": {
      "text/plain": [
       "array([[ 0.73571267],\n",
       "       [ 0.45380619],\n",
       "       [ 0.46284165],\n",
       "       [ 0.25231534],\n",
       "       [ 0.50711543],\n",
       "       [ 0.23198554],\n",
       "       [ 0.44748136],\n",
       "       [ 0.34086289],\n",
       "       [ 0.86356449],\n",
       "       [-0.10413372]])"
      ]
     },
     "execution_count": 157,
     "metadata": {},
     "output_type": "execute_result"
    }
   ],
   "source": [
    "ts_train[:10]"
   ]
  },
  {
   "cell_type": "code",
   "execution_count": 158,
   "metadata": {},
   "outputs": [
    {
     "data": {
      "text/plain": [
       "array([[-0.63451547],\n",
       "       [-0.77682403],\n",
       "       [-0.65574881],\n",
       "       [-0.56584595],\n",
       "       [-0.52970409],\n",
       "       [-0.66659137],\n",
       "       [-0.57081545],\n",
       "       [-0.85814321],\n",
       "       [-0.65077931],\n",
       "       [-0.56539417]])"
      ]
     },
     "execution_count": 158,
     "metadata": {},
     "output_type": "execute_result"
    }
   ],
   "source": [
    "ts_test[:10]"
   ]
  },
  {
   "cell_type": "code",
   "execution_count": 159,
   "metadata": {
    "collapsed": true
   },
   "outputs": [],
   "source": [
    "# split into train and test sets\n",
    "#train_size = int(len(ts) * 0.67)\n",
    "#test_size = len(ts) - train_size\n",
    "#ts_train, ts_test = ts[0:train_size,:], ts[train_size:len(ts),:]\n",
    "#print(len(ts_train), len(ts_test))\n"
   ]
  },
  {
   "cell_type": "code",
   "execution_count": 160,
   "metadata": {
    "collapsed": true
   },
   "outputs": [],
   "source": [
    "# convert an array of values into a dataset matrix\n",
    "def create_dataset(dataset, window_size):\n",
    "    dataX, dataY = [], []\n",
    "    for i in range(len(dataset) - window_size):\n",
    "        a = dataset[i:(i + window_size), 0]\n",
    "        dataX.append(a)\n",
    "        dataY.append(dataset[i + window_size, 0])\n",
    "    return np.array(dataX), np.array(dataY)"
   ]
  },
  {
   "cell_type": "code",
   "execution_count": 161,
   "metadata": {},
   "outputs": [
    {
     "data": {
      "text/plain": [
       "((886, 10), (77, 10), (886,), (77,))"
      ]
     },
     "execution_count": 161,
     "metadata": {},
     "output_type": "execute_result"
    }
   ],
   "source": [
    "X_train, y_train = create_dataset(ts_train, window_size)\n",
    "X_test, y_test = create_dataset(ts_test, window_size)\n",
    "# the train and test matrices end up shorter than the respective timeseries by window_size + 1!\n",
    "X_train.shape, X_test.shape, y_train.shape, y_test.shape"
   ]
  },
  {
   "cell_type": "code",
   "execution_count": 162,
   "metadata": {},
   "outputs": [
    {
     "data": {
      "text/plain": [
       "array([[ 0.73571267,  0.45380619,  0.46284165,  0.25231534,  0.50711543,\n",
       "         0.23198554,  0.44748136,  0.34086289,  0.86356449, -0.10413372],\n",
       "       [ 0.45380619,  0.46284165,  0.25231534,  0.50711543,  0.23198554,\n",
       "         0.44748136,  0.34086289,  0.86356449, -0.10413372,  0.05489044],\n",
       "       [ 0.46284165,  0.25231534,  0.50711543,  0.23198554,  0.44748136,\n",
       "         0.34086289,  0.86356449, -0.10413372,  0.05489044,  0.11226564],\n",
       "       [ 0.25231534,  0.50711543,  0.23198554,  0.44748136,  0.34086289,\n",
       "         0.86356449, -0.10413372,  0.05489044,  0.11226564,  0.24056923],\n",
       "       [ 0.50711543,  0.23198554,  0.44748136,  0.34086289,  0.86356449,\n",
       "        -0.10413372,  0.05489044,  0.11226564,  0.24056923,  0.6778857 ]])"
      ]
     },
     "execution_count": 162,
     "metadata": {},
     "output_type": "execute_result"
    }
   ],
   "source": [
    "X_train[:5,:]"
   ]
  },
  {
   "cell_type": "code",
   "execution_count": 163,
   "metadata": {},
   "outputs": [
    {
     "data": {
      "text/plain": [
       "array([ 0.05489044,  0.11226564,  0.24056923,  0.6778857 ,  0.17957985])"
      ]
     },
     "execution_count": 163,
     "metadata": {},
     "output_type": "execute_result"
    }
   ],
   "source": [
    "y_train[:5]"
   ]
  },
  {
   "cell_type": "code",
   "execution_count": 164,
   "metadata": {},
   "outputs": [
    {
     "data": {
      "text/plain": [
       "array([[-0.63451547, -0.77682403, -0.65574881, -0.56584595, -0.52970409,\n",
       "        -0.66659137, -0.57081545, -0.85814321, -0.65077931, -0.56539417],\n",
       "       [-0.77682403, -0.65574881, -0.56584595, -0.52970409, -0.66659137,\n",
       "        -0.57081545, -0.85814321, -0.65077931, -0.56539417, -0.62909419],\n",
       "       [-0.65574881, -0.56584595, -0.52970409, -0.66659137, -0.57081545,\n",
       "        -0.85814321, -0.65077931, -0.56539417, -0.62909419, -0.68601762],\n",
       "       [-0.56584595, -0.52970409, -0.66659137, -0.57081545, -0.85814321,\n",
       "        -0.65077931, -0.56539417, -0.62909419, -0.68601762, -0.55590693],\n",
       "       [-0.52970409, -0.66659137, -0.57081545, -0.85814321, -0.65077931,\n",
       "        -0.56539417, -0.62909419, -0.68601762, -0.55590693, -0.73480913]])"
      ]
     },
     "execution_count": 164,
     "metadata": {},
     "output_type": "execute_result"
    }
   ],
   "source": [
    "X_test[:5,:]"
   ]
  },
  {
   "cell_type": "code",
   "execution_count": 165,
   "metadata": {},
   "outputs": [
    {
     "data": {
      "text/plain": [
       "array([-0.62909419, -0.68601762, -0.55590693, -0.73480913, -0.84730066])"
      ]
     },
     "execution_count": 165,
     "metadata": {},
     "output_type": "execute_result"
    }
   ],
   "source": [
    "y_test[:5]"
   ]
  },
  {
   "cell_type": "code",
   "execution_count": 166,
   "metadata": {
    "collapsed": true
   },
   "outputs": [],
   "source": [
    "if use_LSTM:\n",
    "    # reshape input to be [samples, time steps, features]\n",
    "    X_train = np.reshape(X_train, (X_train.shape[0], lstm_num_timesteps, lstm_num_features))\n",
    "    X_test = np.reshape(X_test, (X_test.shape[0], lstm_num_timesteps, lstm_num_features))"
   ]
  },
  {
   "cell_type": "code",
   "execution_count": 167,
   "metadata": {},
   "outputs": [
    {
     "name": "stdout",
     "output_type": "stream",
     "text": [
      "Epoch 1/2\n",
      "886/886 [==============================] - 12s - loss: 0.0396    \n",
      "Epoch 2/2\n",
      "886/886 [==============================] - 11s - loss: 0.0334    \n"
     ]
    }
   ],
   "source": [
    "model = Sequential()\n",
    "\n",
    "if use_LSTM:\n",
    "    model.add(LSTM(4, input_dim=lstm_num_features))\n",
    "else:\n",
    "    model.add(Dense(8, input_dim=window_size, activation='relu'))\n",
    "    \n",
    "model.add(Dense(1))\n",
    "model.compile(loss='mean_squared_error', optimizer='adam')\n",
    "\n",
    "if use_LSTM:\n",
    "    hist = model.fit(X_train, y_train, nb_epoch=num_epochs, batch_size=batch_size)\n",
    "else:\n",
    "    hist = model.fit(X_train, y_train, nb_epoch=num_epochs, batch_size=batch_size, verbose = 1)\n",
    "    \n",
    "    \n",
    "#######\n",
    "def fit_lstm(train, batch_size, nb_epoch, neurons):\n",
    "\tX, y = train[:, 0:-1], train[:, -1]\n",
    "\tX = X.reshape(X.shape[0], 1, X.shape[1])\n",
    "\tmodel = Sequential()\n",
    "\tmodel.add(LSTM(neurons, batch_input_shape=(batch_size, X.shape[1], X.shape[2]), stateful=True))\n",
    "\tmodel.add(Dense(1))\n",
    "\tmodel.compile(loss='mean_squared_error', optimizer='adam')\n",
    "\tfor i in range(nb_epoch):\n",
    "\t\tmodel.fit(X, y, epochs=1, batch_size=batch_size, verbose=0, shuffle=lstm_shuffle)\n",
    "\t\tmodel.reset_states()\n",
    "\treturn model"
   ]
  },
  {
   "cell_type": "code",
   "execution_count": 168,
   "metadata": {},
   "outputs": [
    {
     "data": {
      "text/plain": [
       "{'batch_size': 1,\n",
       " 'do_validation': False,\n",
       " 'metrics': ['loss'],\n",
       " 'nb_epoch': 2,\n",
       " 'nb_sample': 886,\n",
       " 'verbose': 1}"
      ]
     },
     "execution_count": 168,
     "metadata": {},
     "output_type": "execute_result"
    }
   ],
   "source": [
    "hist.params"
   ]
  },
  {
   "cell_type": "code",
   "execution_count": 169,
   "metadata": {},
   "outputs": [
    {
     "data": {
      "text/plain": [
       "(['loss'], [])"
      ]
     },
     "execution_count": 169,
     "metadata": {},
     "output_type": "execute_result"
    }
   ],
   "source": [
    "model.metrics_names, model.metrics_tensors"
   ]
  },
  {
   "cell_type": "code",
   "execution_count": 170,
   "metadata": {},
   "outputs": [
    {
     "name": "stdout",
     "output_type": "stream",
     "text": [
      "77/77 [==============================] - 0s\n"
     ]
    },
    {
     "data": {
      "text/plain": [
       "0.01828649640083313"
      ]
     },
     "execution_count": 170,
     "metadata": {},
     "output_type": "execute_result"
    }
   ],
   "source": [
    "model.evaluate(X_test, y_test, batch_size = X_test.shape[0])"
   ]
  },
  {
   "cell_type": "code",
   "execution_count": 171,
   "metadata": {
    "collapsed": true
   },
   "outputs": [],
   "source": [
    "pred_train = model.predict(X_train)\n",
    "pred_test = model.predict(X_test)"
   ]
  },
  {
   "cell_type": "code",
   "execution_count": 172,
   "metadata": {},
   "outputs": [
    {
     "data": {
      "text/plain": [
       "(array([ 0.05489044,  0.11226564,  0.24056923,  0.6778857 ,  0.17957985,\n",
       "         1.        ,  0.64942399,  0.23243732,  0.2613508 ,  0.47820194]),\n",
       " array([ 0.19429353,  0.18644124,  0.19592005,  0.20803422,  0.22026816,\n",
       "         0.2172339 ,  0.21330166,  0.2063874 ,  0.1820372 ,  0.14347023], dtype=float32))"
      ]
     },
     "execution_count": 172,
     "metadata": {},
     "output_type": "execute_result"
    }
   ],
   "source": [
    "y_train[:10],pred_train[:10,0]"
   ]
  },
  {
   "cell_type": "code",
   "execution_count": 173,
   "metadata": {},
   "outputs": [
    {
     "data": {
      "text/plain": [
       "(array([-0.62909419, -0.68601762, -0.55590693, -0.73480913, -0.84730066,\n",
       "        -0.4705218 , -0.69053535, -0.69866727, -0.6914389 , -0.48994805]),\n",
       " array([-0.57083225, -0.57206643, -0.5726825 , -0.56156969, -0.57677346,\n",
       "        -0.5967083 , -0.57073742, -0.58382326, -0.57977384, -0.58130175], dtype=float32))"
      ]
     },
     "execution_count": 173,
     "metadata": {},
     "output_type": "execute_result"
    }
   ],
   "source": [
    "y_test[:10],pred_test[:10,0]"
   ]
  },
  {
   "cell_type": "code",
   "execution_count": 174,
   "metadata": {},
   "outputs": [
    {
     "name": "stderr",
     "output_type": "stream",
     "text": [
      "/home/key/software/anaconda3/envs/tf3.5/lib/python3.5/site-packages/sklearn/preprocessing/data.py:374: DeprecationWarning: Passing 1d arrays as data is deprecated in 0.17 and will raise ValueError in 0.19. Reshape your data either using X.reshape(-1, 1) if your data has a single feature or X.reshape(1, -1) if it contains a single sample.\n",
      "  warnings.warn(DEPRECATION_MSG_1D, DeprecationWarning)\n",
      "/home/key/software/anaconda3/envs/tf3.5/lib/python3.5/site-packages/sklearn/preprocessing/data.py:374: DeprecationWarning: Passing 1d arrays as data is deprecated in 0.17 and will raise ValueError in 0.19. Reshape your data either using X.reshape(-1, 1) if your data has a single feature or X.reshape(1, -1) if it contains a single sample.\n",
      "  warnings.warn(DEPRECATION_MSG_1D, DeprecationWarning)\n"
     ]
    }
   ],
   "source": [
    "if scale:\n",
    "    pred_train = scaler.inverse_transform(pred_train)\n",
    "    y_train = scaler.inverse_transform(y_train.reshape(-1,1)))\n",
    "    pred_test = scaler.inverse_transform(pred_test)\n",
    "    y_test = scaler.inverse_transform(y_test.reshape(-1,1)))\n"
   ]
  },
  {
   "cell_type": "code",
   "execution_count": 176,
   "metadata": {},
   "outputs": [
    {
     "data": {
      "text/plain": [
       "(array([ 2657.,  2784.,  3068.,  4036.,  2933.,  4749.,  3973.,  3050.,\n",
       "         3114.,  3594.]),\n",
       " array([ 2965.56860352,  2948.1875    ,  2969.16894531,  2995.98364258,\n",
       "         3023.06347656,  3016.34716797,  3007.64331055,  2992.33862305,\n",
       "         2938.43945312,  2853.07128906], dtype=float32))"
      ]
     },
     "execution_count": 176,
     "metadata": {},
     "output_type": "execute_result"
    }
   ],
   "source": [
    "y_train[:10],pred_train[:10,0]"
   ]
  },
  {
   "cell_type": "code",
   "execution_count": null,
   "metadata": {
    "collapsed": true
   },
   "outputs": [],
   "source": []
  },
  {
   "cell_type": "code",
   "execution_count": 177,
   "metadata": {},
   "outputs": [
    {
     "name": "stdout",
     "output_type": "stream",
     "text": [
      "Train Score: 396.97 RMSE\n",
      "Test Score: 299.33 RMSE\n"
     ]
    }
   ],
   "source": [
    "# calculate root mean squared error\n",
    "rsme_train = math.sqrt(mean_squared_error(y_train, pred_train[:,0]))\n",
    "print('Train Score: %.2f RMSE' % (rsme_train))\n",
    "rsme_test = math.sqrt(mean_squared_error(y_test, pred_test[:,0]))\n",
    "print('Test Score: %.2f RMSE' % (rsme_test))"
   ]
  },
  {
   "cell_type": "code",
   "execution_count": 178,
   "metadata": {},
   "outputs": [
    {
     "name": "stdout",
     "output_type": "stream",
     "text": [
      "896 886 886\n"
     ]
    },
    {
     "data": {
      "text/plain": [
       "(87, 77, 77)"
      ]
     },
     "execution_count": 178,
     "metadata": {},
     "output_type": "execute_result"
    }
   ],
   "source": [
    "print(len(ts_train), len(pred_train), len(y_train))\n",
    "len(ts_test), len(pred_test), len(y_test) "
   ]
  },
  {
   "cell_type": "code",
   "execution_count": 180,
   "metadata": {},
   "outputs": [
    {
     "name": "stdout",
     "output_type": "stream",
     "text": [
      "983\n"
     ]
    },
    {
     "data": {
      "text/plain": [
       "array([[           nan],\n",
       "       [           nan],\n",
       "       [           nan],\n",
       "       [           nan],\n",
       "       [           nan],\n",
       "       [           nan],\n",
       "       [           nan],\n",
       "       [           nan],\n",
       "       [           nan],\n",
       "       [           nan],\n",
       "       [ 2965.56860352],\n",
       "       [ 2948.1875    ],\n",
       "       [ 2969.16894531]])"
      ]
     },
     "execution_count": 180,
     "metadata": {},
     "output_type": "execute_result"
    }
   ],
   "source": [
    "# shift train predictions for plotting\n",
    "pred_train_shifted = np.empty_like(ts_all)\n",
    "print(pred_train_shifted.size)\n",
    "pred_train_shifted[:, :] = np.nan\n",
    "# train predictions start at position window_size + 1 (or window_size, if counting from 0)\n",
    "pred_train_shifted[window_size : len(pred_train) + window_size, :] = pred_train\n",
    "pred_train_shifted[:13]"
   ]
  },
  {
   "cell_type": "code",
   "execution_count": 181,
   "metadata": {},
   "outputs": [
    {
     "data": {
      "text/plain": [
       "array([[ 1184.87341309],\n",
       "       [ 1195.46105957],\n",
       "       [ 1235.58105469],\n",
       "       [ 1208.41564941],\n",
       "       [ 1182.91772461],\n",
       "       [ 1221.85205078],\n",
       "       [ 1202.9107666 ],\n",
       "       [ 1238.75732422],\n",
       "       [ 1206.2677002 ],\n",
       "       [ 1257.22302246],\n",
       "       [ 1237.73803711],\n",
       "       [ 1220.53771973],\n",
       "       [ 1216.40478516]])"
      ]
     },
     "execution_count": 181,
     "metadata": {},
     "output_type": "execute_result"
    }
   ],
   "source": [
    "# shift test predictions for plotting\n",
    "pred_test_shifted = np.empty_like(ts_all)\n",
    "pred_test_shifted[:, :] = np.nan\n",
    "pred_test_shifted[len(pred_train) + (window_size * 2) : len_overall + 1, :] = pred_test\n",
    "pred_test_shifted[-13:]"
   ]
  },
  {
   "cell_type": "code",
   "execution_count": 182,
   "metadata": {},
   "outputs": [
    {
     "data": {
      "image/png": "[encoded data removed]",
      "text/plain": [
       "<matplotlib.figure.Figure at 0x7f837fa24710>"
      ]
     },
     "metadata": {},
     "output_type": "display_data"
    }
   ],
   "source": [
    "plt.plot(ts_all)\n",
    "plt.plot(pred_train_shifted)\n",
    "plt.plot(pred_test_shifted)\n",
    "plt.show()"
   ]
  },
  {
   "cell_type": "code",
   "execution_count": null,
   "metadata": {},
   "outputs": [],
   "source": []
  },
  {
   "cell_type": "code",
   "execution_count": null,
   "metadata": {
    "collapsed": true
   },
   "outputs": [],
   "source": []
  }
 ],
 "metadata": {
  "anaconda-cloud": {},
  "kernelspec": {
   "display_name": "Python 3",
   "language": "python",
   "name": "python3"
  },
  "language_info": {
   "codemirror_mode": {
    "name": "ipython",
    "version": 3
   },
   "file_extension": ".py",
   "mimetype": "text/x-python",
   "name": "python",
   "nbconvert_exporter": "python",
   "pygments_lexer": "ipython3",
   "version": "3.5.3"
  }
 },
 "nbformat": 4,
 "nbformat_minor": 1
}

{
 "cells": [
  {
   "cell_type": "code",
   "execution_count": 1,
   "metadata": {},
   "outputs": [
    {
     "name": "stderr",
     "output_type": "stream",
     "text": [
      "Using TensorFlow backend.\n"
     ]
    }
   ],
   "source": [
    "import pandas as pd\n",
    "import matplotlib.pyplot as plt\n",
    "from keras.models import Sequential\n",
    "from keras.layers import Dense\n",
    "from keras.layers import LSTM\n",
    "import math\n",
    "from sklearn.preprocessing import MinMaxScaler\n",
    "from sklearn.preprocessing import StandardScaler\n",
    "from sklearn.metrics import mean_squared_error\n",
    "import numpy as np\n",
    "\n",
    "%matplotlib inline\n",
    "plt.rcParams['figure.figsize'] = (16, 10)"
   ]
  },
  {
   "cell_type": "code",
   "execution_count": 2,
   "metadata": {
    "collapsed": true
   },
   "outputs": [],
   "source": [
    "# TBD different random seeds\n",
    "np.random.seed(7)"
   ]
  },
  {
   "cell_type": "markdown",
   "metadata": {},
   "source": [
    "### On statefulness\n",
    "\n",
    "Making a RNN stateful means that the states for the samples of each batch will be reused as initial states for the samples in the next batch.\n",
    "\n",
    "When using stateful RNNs, it is therefore assumed that:\n",
    "\n",
    "- all batches have the same number of samples\n",
    "- if X1 and X2 are successive batches of samples, then X2[i] is the follow-up sequence to X1[i], for every i.\n",
    "\n",
    "Notes that the methods predict, fit, train_on_batch, predict_classes, etc. will all update the states of the stateful layers in a model. This allows you to do not only stateful training, but also stateful prediction.\n",
    "\n",
    "\n"
   ]
  },
  {
   "cell_type": "raw",
   "metadata": {},
   "source": [
    "X  # this is our input data, of shape (32, 21, 16)\n",
    "# we will feed it to our model in sequences of length 10\n",
    "\n",
    "model = Sequential()\n",
    "model.add(LSTM(32, input_shape=(10, 16), batch_size=32, stateful=True))\n",
    "model.add(Dense(16, activation='softmax'))\n",
    "\n",
    "model.compile(optimizer='rmsprop', loss='categorical_crossentropy')\n",
    "\n",
    "# we train the network to predict the 11th timestep given the first 10:\n",
    "model.train_on_batch(X[:, :10, :], np.reshape(X[:, 10, :], (32, 16)))\n",
    "\n",
    "# the state of the network has changed. We can feed the follow-up sequences:\n",
    "model.train_on_batch(X[:, 10:20, :], np.reshape(X[:, 20, :], (32, 16)))\n",
    "\n",
    "# let's reset the states of the LSTM layer:\n",
    "model.reset_states()"
   ]
  },
  {
   "cell_type": "code",
   "execution_count": 3,
   "metadata": {
    "collapsed": true
   },
   "outputs": [],
   "source": [
    "# whether to use LSTM or MLP\n",
    "use_LSTM = True\n",
    "\n",
    "# number of features used in the regression (for MLP)\n",
    "mlp_num_features = 10\n",
    "#\n",
    "\n",
    "# predict several timesteps at once\n",
    "lstm_predict_sequences = True\n",
    "lstm_num_predictions = 5\n",
    "\n",
    "# lstm_num_timesteps\n",
    "lstm_num_timesteps = 5\n",
    "# lstm_num_features\n",
    "lstm_num_features = 1\n",
    "# stateful?\n",
    "lstm_stateful = False\n",
    "# use two lstm layers?\n",
    "lstm_stack_layers = False\n",
    "\n",
    "# window_size\n",
    "window_size = lstm_num_timesteps if use_LSTM else mlp_num_features\n",
    "\n",
    "batch_size = 1\n",
    "num_epochs = 200\n",
    "num_neurons = 4\n",
    "\n",
    "# scale the dataset to values between scale_min and scale_max\n",
    "scale = False\n",
    "scale_min = -1\n",
    "scale_max = 1\n",
    "#scaler = MinMaxScaler(feature_range=(scale_min, scale_max))\n",
    "scaler = StandardScaler()"
   ]
  },
  {
   "cell_type": "code",
   "execution_count": 4,
   "metadata": {
    "collapsed": true
   },
   "outputs": [],
   "source": [
    "# various test datasets\n",
    "ts_train_lineartrend = np.arange(1,101, dtype='float64').reshape(-1,1)  \n",
    "ts_test_lineartrend_outofrange = np.arange(101,121, dtype='float64').reshape(-1,1)\n",
    "ts_test_lineartrend_withinrange = np.arange(21,41, dtype='float64').reshape(-1,1)\n"
   ]
  },
  {
   "cell_type": "code",
   "execution_count": 5,
   "metadata": {
    "collapsed": true
   },
   "outputs": [],
   "source": [
    "testname = 'linear_trend_within_range'\n",
    "ts_train = ts_train_lineartrend\n",
    "ts_test = ts_test_lineartrend_withinrange\n",
    "ts_all = np.append(ts_train, ts_test).reshape(-1,1)\n",
    "len_overall = len(ts_all)"
   ]
  },
  {
   "cell_type": "code",
   "execution_count": 6,
   "metadata": {},
   "outputs": [
    {
     "data": {
      "text/plain": [
       "120"
      ]
     },
     "execution_count": 6,
     "metadata": {},
     "output_type": "execute_result"
    }
   ],
   "source": [
    "len_overall"
   ]
  },
  {
   "cell_type": "code",
   "execution_count": 7,
   "metadata": {},
   "outputs": [
    {
     "data": {
      "text/plain": [
       "dtype('float64')"
      ]
     },
     "execution_count": 7,
     "metadata": {},
     "output_type": "execute_result"
    }
   ],
   "source": [
    "ts_all.dtype"
   ]
  },
  {
   "cell_type": "code",
   "execution_count": 8,
   "metadata": {},
   "outputs": [
    {
     "data": {
      "text/plain": [
       "((100, 1), (20, 1))"
      ]
     },
     "execution_count": 8,
     "metadata": {},
     "output_type": "execute_result"
    }
   ],
   "source": [
    "ts_train.shape, ts_test.shape"
   ]
  },
  {
   "cell_type": "code",
   "execution_count": 9,
   "metadata": {},
   "outputs": [
    {
     "data": {
      "text/plain": [
       "array([[  1.],\n",
       "       [  2.],\n",
       "       [  3.],\n",
       "       [  4.],\n",
       "       [  5.],\n",
       "       [  6.],\n",
       "       [  7.],\n",
       "       [  8.],\n",
       "       [  9.],\n",
       "       [ 10.]])"
      ]
     },
     "execution_count": 9,
     "metadata": {},
     "output_type": "execute_result"
    }
   ],
   "source": [
    "ts_train[:10]"
   ]
  },
  {
   "cell_type": "code",
   "execution_count": 10,
   "metadata": {},
   "outputs": [
    {
     "data": {
      "text/plain": [
       "array([[ 21.],\n",
       "       [ 22.],\n",
       "       [ 23.],\n",
       "       [ 24.],\n",
       "       [ 25.],\n",
       "       [ 26.],\n",
       "       [ 27.],\n",
       "       [ 28.],\n",
       "       [ 29.],\n",
       "       [ 30.]])"
      ]
     },
     "execution_count": 10,
     "metadata": {},
     "output_type": "execute_result"
    }
   ],
   "source": [
    "ts_test[:10]"
   ]
  },
  {
   "cell_type": "code",
   "execution_count": 11,
   "metadata": {
    "collapsed": true
   },
   "outputs": [],
   "source": [
    "if scale:\n",
    "    ts_train = scaler.fit_transform(ts_train)\n",
    "    ts_test = scaler.transform(ts_test)"
   ]
  },
  {
   "cell_type": "code",
   "execution_count": 12,
   "metadata": {},
   "outputs": [
    {
     "data": {
      "text/plain": [
       "array([[  1.],\n",
       "       [  2.],\n",
       "       [  3.],\n",
       "       [  4.],\n",
       "       [  5.],\n",
       "       [  6.],\n",
       "       [  7.],\n",
       "       [  8.],\n",
       "       [  9.],\n",
       "       [ 10.]])"
      ]
     },
     "execution_count": 12,
     "metadata": {},
     "output_type": "execute_result"
    }
   ],
   "source": [
    "ts_train[:10]"
   ]
  },
  {
   "cell_type": "code",
   "execution_count": 13,
   "metadata": {},
   "outputs": [
    {
     "data": {
      "text/plain": [
       "array([[ 21.],\n",
       "       [ 22.],\n",
       "       [ 23.],\n",
       "       [ 24.],\n",
       "       [ 25.],\n",
       "       [ 26.],\n",
       "       [ 27.],\n",
       "       [ 28.],\n",
       "       [ 29.],\n",
       "       [ 30.]])"
      ]
     },
     "execution_count": 13,
     "metadata": {},
     "output_type": "execute_result"
    }
   ],
   "source": [
    "ts_test[:10]"
   ]
  },
  {
   "cell_type": "code",
   "execution_count": 14,
   "metadata": {
    "collapsed": true
   },
   "outputs": [],
   "source": [
    "# convert an array of values into a dataset matrix\n",
    "def create_dataset(dataset, window_size):\n",
    "    dataX, dataY = [], []\n",
    "    for i in range(len(dataset) - window_size):\n",
    "        a = dataset[i:(i + window_size), 0]\n",
    "        dataX.append(a)\n",
    "        dataY.append(dataset[i + window_size, 0])\n",
    "    return np.array(dataX), np.array(dataY)"
   ]
  },
  {
   "cell_type": "code",
   "execution_count": 15,
   "metadata": {},
   "outputs": [
    {
     "data": {
      "text/plain": [
       "((95, 5), (15, 5), (95,), (15,))"
      ]
     },
     "execution_count": 15,
     "metadata": {},
     "output_type": "execute_result"
    }
   ],
   "source": [
    "if use_LSTM:\n",
    "    X_train, y_train = create_dataset(ts_train, lstm_num_timesteps)\n",
    "    X_test, y_test = create_dataset(ts_test, lstm_num_timesteps)\n",
    "else:\n",
    "    X_train, y_train = create_dataset(ts_train, mlp_num_features)\n",
    "    X_test, y_test = create_dataset(ts_test, mlp_num_features)\n",
    "    \n",
    "# the train and test matrices end up shorter than the respective timeseries by window_size + 1!\n",
    "X_train.shape, X_test.shape, y_train.shape, y_test.shape"
   ]
  },
  {
   "cell_type": "code",
   "execution_count": 16,
   "metadata": {},
   "outputs": [
    {
     "data": {
      "text/plain": [
       "array([[ 1.,  2.,  3.,  4.,  5.],\n",
       "       [ 2.,  3.,  4.,  5.,  6.],\n",
       "       [ 3.,  4.,  5.,  6.,  7.],\n",
       "       [ 4.,  5.,  6.,  7.,  8.],\n",
       "       [ 5.,  6.,  7.,  8.,  9.]])"
      ]
     },
     "execution_count": 16,
     "metadata": {},
     "output_type": "execute_result"
    }
   ],
   "source": [
    "X_train[:5,:]"
   ]
  },
  {
   "cell_type": "code",
   "execution_count": 17,
   "metadata": {},
   "outputs": [
    {
     "data": {
      "text/plain": [
       "array([  6.,   7.,   8.,   9.,  10.])"
      ]
     },
     "execution_count": 17,
     "metadata": {},
     "output_type": "execute_result"
    }
   ],
   "source": [
    "y_train[:5]"
   ]
  },
  {
   "cell_type": "code",
   "execution_count": 18,
   "metadata": {},
   "outputs": [
    {
     "data": {
      "text/plain": [
       "array([[ 21.,  22.,  23.,  24.,  25.],\n",
       "       [ 22.,  23.,  24.,  25.,  26.],\n",
       "       [ 23.,  24.,  25.,  26.,  27.],\n",
       "       [ 24.,  25.,  26.,  27.,  28.],\n",
       "       [ 25.,  26.,  27.,  28.,  29.]])"
      ]
     },
     "execution_count": 18,
     "metadata": {},
     "output_type": "execute_result"
    }
   ],
   "source": [
    "X_test[:5,:]"
   ]
  },
  {
   "cell_type": "code",
   "execution_count": 19,
   "metadata": {},
   "outputs": [
    {
     "data": {
      "text/plain": [
       "array([ 26.,  27.,  28.,  29.,  30.])"
      ]
     },
     "execution_count": 19,
     "metadata": {},
     "output_type": "execute_result"
    }
   ],
   "source": [
    "y_test[:5]"
   ]
  },
  {
   "cell_type": "code",
   "execution_count": 20,
   "metadata": {
    "collapsed": true
   },
   "outputs": [],
   "source": [
    "if use_LSTM:\n",
    "    # reshape input to be [samples, time steps, features]\n",
    "    X_train = np.reshape(X_train, (X_train.shape[0], lstm_num_timesteps, lstm_num_features))\n",
    "    X_test = np.reshape(X_test, (X_test.shape[0], lstm_num_timesteps, lstm_num_features))"
   ]
  },
  {
   "cell_type": "code",
   "execution_count": 23,
   "metadata": {},
   "outputs": [
    {
     "name": "stdout",
     "output_type": "stream",
     "text": [
      "Epoch 1/200\n",
      "95/95 [==============================] - 0s - loss: 3510.3083     \n",
      "Epoch 2/200\n",
      "95/95 [==============================] - 0s - loss: 3490.1218     \n",
      "Epoch 3/200\n",
      "95/95 [==============================] - 0s - loss: 3472.2401     \n",
      "Epoch 4/200\n",
      "95/95 [==============================] - 0s - loss: 3454.6179     \n",
      "Epoch 5/200\n",
      "95/95 [==============================] - 0s - loss: 3437.1336     \n",
      "Epoch 6/200\n",
      "95/95 [==============================] - 0s - loss: 3419.8760     \n",
      "Epoch 7/200\n",
      "95/95 [==============================] - 0s - loss: 3402.5859     \n",
      "Epoch 8/200\n",
      "95/95 [==============================] - 0s - loss: 3385.4633     \n",
      "Epoch 9/200\n",
      "95/95 [==============================] - 0s - loss: 3368.3849     \n",
      "Epoch 10/200\n",
      "95/95 [==============================] - 0s - loss: 3351.3777     \n",
      "Epoch 11/200\n",
      "95/95 [==============================] - 1s - loss: 3334.5039     \n",
      "Epoch 12/200\n",
      "95/95 [==============================] - 1s - loss: 3317.7359     \n",
      "Epoch 13/200\n",
      "95/95 [==============================] - 0s - loss: 3300.9940     \n",
      "Epoch 14/200\n",
      "95/95 [==============================] - 0s - loss: 3284.3782     \n",
      "Epoch 15/200\n",
      "95/95 [==============================] - 0s - loss: 3267.7738     \n",
      "Epoch 16/200\n",
      "95/95 [==============================] - 0s - loss: 3251.3109     \n",
      "Epoch 17/200\n",
      "95/95 [==============================] - 0s - loss: 3234.7099     \n",
      "Epoch 18/200\n",
      "95/95 [==============================] - 0s - loss: 3195.0076     \n",
      "Epoch 19/200\n",
      "95/95 [==============================] - 0s - loss: 3029.1572     \n",
      "Epoch 20/200\n",
      "95/95 [==============================] - 0s - loss: 2990.4487     \n",
      "Epoch 21/200\n",
      "95/95 [==============================] - 0s - loss: 2958.7125     \n",
      "Epoch 22/200\n",
      "95/95 [==============================] - 0s - loss: 2930.0685     \n",
      "Epoch 23/200\n",
      "95/95 [==============================] - 0s - loss: 2903.0723     \n",
      "Epoch 24/200\n",
      "95/95 [==============================] - 0s - loss: 2877.2365     \n",
      "Epoch 25/200\n",
      "95/95 [==============================] - 0s - loss: 2852.3472     \n",
      "Epoch 26/200\n",
      "95/95 [==============================] - 0s - loss: 2828.1513     \n",
      "Epoch 27/200\n",
      "95/95 [==============================] - 0s - loss: 2804.4576     \n",
      "Epoch 28/200\n",
      "95/95 [==============================] - 0s - loss: 2781.3357     \n",
      "Epoch 29/200\n",
      "95/95 [==============================] - 0s - loss: 2758.6000     \n",
      "Epoch 30/200\n",
      "95/95 [==============================] - 0s - loss: 2736.2114     \n",
      "Epoch 31/200\n",
      "95/95 [==============================] - ETA: 0s - loss: 2738.95 - 0s - loss: 2714.4030     \n",
      "Epoch 32/200\n",
      "95/95 [==============================] - 0s - loss: 2692.5192     \n",
      "Epoch 33/200\n",
      "95/95 [==============================] - 0s - loss: 2671.1644     \n",
      "Epoch 34/200\n",
      "95/95 [==============================] - 0s - loss: 2650.0283     \n",
      "Epoch 35/200\n",
      "95/95 [==============================] - 0s - loss: 2629.0299     \n",
      "Epoch 36/200\n",
      "95/95 [==============================] - 0s - loss: 2608.4358     \n",
      "Epoch 37/200\n",
      "95/95 [==============================] - 0s - loss: 2587.9086     \n",
      "Epoch 38/200\n",
      "95/95 [==============================] - 0s - loss: 2567.6942     \n",
      "Epoch 39/200\n",
      "95/95 [==============================] - 0s - loss: 2547.6686     \n",
      "Epoch 40/200\n",
      "95/95 [==============================] - 0s - loss: 2527.8203     \n",
      "Epoch 41/200\n",
      "95/95 [==============================] - 0s - loss: 2508.1204     \n",
      "Epoch 42/200\n",
      "95/95 [==============================] - 0s - loss: 2488.5953     \n",
      "Epoch 43/200\n",
      "95/95 [==============================] - 0s - loss: 2469.3765     \n",
      "Epoch 44/200\n",
      "95/95 [==============================] - 0s - loss: 2450.1734     \n",
      "Epoch 45/200\n",
      "95/95 [==============================] - 0s - loss: 2431.2260     \n",
      "Epoch 46/200\n",
      "95/95 [==============================] - 0s - loss: 2412.4108     \n",
      "Epoch 47/200\n",
      "95/95 [==============================] - 0s - loss: 2393.7854     \n",
      "Epoch 48/200\n",
      "95/95 [==============================] - 0s - loss: 2375.2054     \n",
      "Epoch 49/200\n",
      "95/95 [==============================] - 0s - loss: 2356.8055     \n",
      "Epoch 50/200\n",
      "95/95 [==============================] - 0s - loss: 2338.2614     \n",
      "Epoch 51/200\n",
      "95/95 [==============================] - 1s - loss: 2319.5926     \n",
      "Epoch 52/200\n",
      "95/95 [==============================] - 0s - loss: 2301.0226     \n",
      "Epoch 53/200\n",
      "95/95 [==============================] - 0s - loss: 2282.9051     \n",
      "Epoch 54/200\n",
      "95/95 [==============================] - 0s - loss: 2265.0326     \n",
      "Epoch 55/200\n",
      "95/95 [==============================] - 0s - loss: 2247.2425     \n",
      "Epoch 56/200\n",
      "95/95 [==============================] - 0s - loss: 2229.5071     \n",
      "Epoch 57/200\n",
      "95/95 [==============================] - 0s - loss: 2211.9796     \n",
      "Epoch 58/200\n",
      "95/95 [==============================] - 0s - loss: 2194.5077     \n",
      "Epoch 59/200\n",
      "95/95 [==============================] - 0s - loss: 2177.2440     \n",
      "Epoch 60/200\n",
      "95/95 [==============================] - 0s - loss: 2160.0879     \n",
      "Epoch 61/200\n",
      "95/95 [==============================] - 0s - loss: 2143.0171     \n",
      "Epoch 62/200\n",
      "95/95 [==============================] - 1s - loss: 2126.1895     \n",
      "Epoch 63/200\n",
      "95/95 [==============================] - 0s - loss: 2109.2550     \n",
      "Epoch 64/200\n",
      "95/95 [==============================] - 0s - loss: 2092.5860     \n",
      "Epoch 65/200\n",
      "95/95 [==============================] - 0s - loss: 2075.9875     \n",
      "Epoch 66/200\n",
      "95/95 [==============================] - 0s - loss: 2059.4699     \n",
      "Epoch 67/200\n",
      "95/95 [==============================] - 0s - loss: 2043.2339     \n",
      "Epoch 68/200\n",
      "95/95 [==============================] - 0s - loss: 2026.8575     \n",
      "Epoch 69/200\n",
      "95/95 [==============================] - 0s - loss: 2010.7676     \n",
      "Epoch 70/200\n",
      "95/95 [==============================] - 1s - loss: 1994.7959     \n",
      "Epoch 71/200\n",
      "95/95 [==============================] - 0s - loss: 1978.7489     \n",
      "Epoch 72/200\n",
      "95/95 [==============================] - 0s - loss: 1963.0590     \n",
      "Epoch 73/200\n",
      "95/95 [==============================] - 0s - loss: 1947.2688     \n",
      "Epoch 74/200\n",
      "95/95 [==============================] - 0s - loss: 1931.7173     \n",
      "Epoch 75/200\n",
      "95/95 [==============================] - 0s - loss: 1916.2534     \n",
      "Epoch 76/200\n",
      "95/95 [==============================] - 0s - loss: 1900.8391     \n",
      "Epoch 77/200\n",
      "95/95 [==============================] - 0s - loss: 1885.5542     \n",
      "Epoch 78/200\n",
      "95/95 [==============================] - 0s - loss: 1870.5035     \n",
      "Epoch 79/200\n",
      "95/95 [==============================] - 0s - loss: 1855.3000     \n",
      "Epoch 80/200\n",
      "95/95 [==============================] - 0s - loss: 1840.4511     \n",
      "Epoch 81/200\n",
      "95/95 [==============================] - 0s - loss: 1825.5878     \n",
      "Epoch 82/200\n",
      "95/95 [==============================] - 0s - loss: 1810.7487     \n",
      "Epoch 83/200\n",
      "95/95 [==============================] - 0s - loss: 1796.1514     \n",
      "Epoch 84/200\n",
      "95/95 [==============================] - 0s - loss: 1781.5863     \n",
      "Epoch 85/200\n",
      "95/95 [==============================] - 1s - loss: 1767.1008     \n",
      "Epoch 86/200\n",
      "95/95 [==============================] - 1s - loss: 1752.7829      ETA\n",
      "Epoch 87/200\n",
      "95/95 [==============================] - 0s - loss: 1738.5151     \n",
      "Epoch 88/200\n",
      "95/95 [==============================] - 0s - loss: 1724.3411     \n",
      "Epoch 89/200\n",
      "95/95 [==============================] - 0s - loss: 1710.2954     \n",
      "Epoch 90/200\n",
      "95/95 [==============================] - 0s - loss: 1696.3086     \n",
      "Epoch 91/200\n",
      "95/95 [==============================] - 0s - loss: 1682.5157     \n",
      "Epoch 92/200\n",
      "95/95 [==============================] - 0s - loss: 1668.7463     \n",
      "Epoch 93/200\n",
      "95/95 [==============================] - 0s - loss: 1655.0785     \n",
      "Epoch 94/200\n",
      "95/95 [==============================] - 0s - loss: 1641.4131     \n",
      "Epoch 95/200\n",
      "95/95 [==============================] - 0s - loss: 1627.9632     \n",
      "Epoch 96/200\n",
      "95/95 [==============================] - 0s - loss: 1614.5180     \n",
      "Epoch 97/200\n",
      "95/95 [==============================] - 0s - loss: 1601.2454      ETA\n",
      "Epoch 98/200\n",
      "95/95 [==============================] - 0s - loss: 1588.0797     \n",
      "Epoch 99/200\n",
      "95/95 [==============================] - 0s - loss: 1574.8547     \n",
      "Epoch 100/200\n",
      "95/95 [==============================] - 0s - loss: 1561.8982     \n",
      "Epoch 101/200\n",
      "95/95 [==============================] - 0s - loss: 1548.9023     \n",
      "Epoch 102/200\n",
      "95/95 [==============================] - 0s - loss: 1536.0946     \n",
      "Epoch 103/200\n"
     ]
    },
    {
     "name": "stdout",
     "output_type": "stream",
     "text": [
      "95/95 [==============================] - 0s - loss: 1523.3337     \n",
      "Epoch 104/200\n",
      "95/95 [==============================] - 0s - loss: 1510.7102     \n",
      "Epoch 105/200\n",
      "95/95 [==============================] - 0s - loss: 1498.1338     \n",
      "Epoch 106/200\n",
      "95/95 [==============================] - 0s - loss: 1485.6285     \n",
      "Epoch 107/200\n",
      "95/95 [==============================] - 0s - loss: 1473.1746     \n",
      "Epoch 108/200\n",
      "95/95 [==============================] - 0s - loss: 1460.8568     \n",
      "Epoch 109/200\n",
      "95/95 [==============================] - 0s - loss: 1448.6560     \n",
      "Epoch 110/200\n",
      "95/95 [==============================] - 0s - loss: 1436.5087     \n",
      "Epoch 111/200\n",
      "95/95 [==============================] - 0s - loss: 1424.4053     \n",
      "Epoch 112/200\n",
      "95/95 [==============================] - 0s - loss: 1412.4540     \n",
      "Epoch 113/200\n",
      "95/95 [==============================] - 0s - loss: 1400.6548     \n",
      "Epoch 114/200\n",
      "95/95 [==============================] - 0s - loss: 1388.8416     \n",
      "Epoch 115/200\n",
      "95/95 [==============================] - 0s - loss: 1377.1565     \n",
      "Epoch 116/200\n",
      "95/95 [==============================] - 0s - loss: 1365.4481     \n",
      "Epoch 117/200\n",
      "95/95 [==============================] - 0s - loss: 1353.8902     \n",
      "Epoch 118/200\n",
      "95/95 [==============================] - 0s - loss: 1342.5285     \n",
      "Epoch 119/200\n",
      "95/95 [==============================] - 0s - loss: 1331.1311     \n",
      "Epoch 120/200\n",
      "95/95 [==============================] - 0s - loss: 1319.7380     \n",
      "Epoch 121/200\n",
      "95/95 [==============================] - 0s - loss: 1308.5408     \n",
      "Epoch 122/200\n",
      "95/95 [==============================] - 0s - loss: 1297.4301     \n",
      "Epoch 123/200\n",
      "95/95 [==============================] - 0s - loss: 1286.3682     \n",
      "Epoch 124/200\n",
      "95/95 [==============================] - 0s - loss: 1275.3956     \n",
      "Epoch 125/200\n",
      "95/95 [==============================] - 0s - loss: 1264.4585     \n",
      "Epoch 126/200\n",
      "95/95 [==============================] - 0s - loss: 1253.6851     \n",
      "Epoch 127/200\n",
      "95/95 [==============================] - 0s - loss: 1242.8625     \n",
      "Epoch 128/200\n",
      "95/95 [==============================] - 0s - loss: 1232.3527     \n",
      "Epoch 129/200\n",
      "95/95 [==============================] - 0s - loss: 1221.5803     \n",
      "Epoch 130/200\n",
      "95/95 [==============================] - 0s - loss: 1211.1461     \n",
      "Epoch 131/200\n",
      "95/95 [==============================] - 0s - loss: 1200.6436     \n",
      "Epoch 132/200\n",
      "95/95 [==============================] - 0s - loss: 1190.3699     \n",
      "Epoch 133/200\n",
      "95/95 [==============================] - 0s - loss: 1180.0854     \n",
      "Epoch 134/200\n",
      "95/95 [==============================] - 0s - loss: 1169.9707     \n",
      "Epoch 135/200\n",
      "95/95 [==============================] - 0s - loss: 1159.8203     \n",
      "Epoch 136/200\n",
      "95/95 [==============================] - 0s - loss: 1149.6556     \n",
      "Epoch 137/200\n",
      "95/95 [==============================] - 0s - loss: 1139.6412     \n",
      "Epoch 138/200\n",
      "95/95 [==============================] - 0s - loss: 1129.7655     \n",
      "Epoch 139/200\n",
      "95/95 [==============================] - 0s - loss: 1119.7797     \n",
      "Epoch 140/200\n",
      "95/95 [==============================] - 0s - loss: 1110.1325     \n",
      "Epoch 141/200\n",
      "95/95 [==============================] - 0s - loss: 1100.5446     \n",
      "Epoch 142/200\n",
      "95/95 [==============================] - 0s - loss: 1090.7035     \n",
      "Epoch 143/200\n",
      "95/95 [==============================] - 0s - loss: 1081.1746     \n",
      "Epoch 144/200\n",
      "95/95 [==============================] - 0s - loss: 1071.7147     \n",
      "Epoch 145/200\n",
      "95/95 [==============================] - 0s - loss: 1062.3302     \n",
      "Epoch 146/200\n",
      "95/95 [==============================] - 0s - loss: 1052.9576     \n",
      "Epoch 147/200\n",
      "95/95 [==============================] - 0s - loss: 1043.7282     \n",
      "Epoch 148/200\n",
      "95/95 [==============================] - 0s - loss: 1034.5466     \n",
      "Epoch 149/200\n",
      "95/95 [==============================] - 0s - loss: 1025.3999     \n",
      "Epoch 150/200\n",
      "95/95 [==============================] - 0s - loss: 1016.2513     \n",
      "Epoch 151/200\n",
      "95/95 [==============================] - 0s - loss: 1007.3007     \n",
      "Epoch 152/200\n",
      "95/95 [==============================] - 0s - loss: 998.3395     \n",
      "Epoch 153/200\n",
      "95/95 [==============================] - 0s - loss: 989.4579     \n",
      "Epoch 154/200\n",
      "95/95 [==============================] - 0s - loss: 980.6241     \n",
      "Epoch 155/200\n",
      "95/95 [==============================] - 0s - loss: 971.9262     \n",
      "Epoch 156/200\n",
      "95/95 [==============================] - 0s - loss: 963.2053     \n",
      "Epoch 157/200\n",
      "95/95 [==============================] - 0s - loss: 954.5724     \n",
      "Epoch 158/200\n",
      "95/95 [==============================] - 0s - loss: 946.0513     \n",
      "Epoch 159/200\n",
      "95/95 [==============================] - 0s - loss: 937.5352     \n",
      "Epoch 160/200\n",
      "95/95 [==============================] - 0s - loss: 929.2535     \n",
      "Epoch 161/200\n",
      "95/95 [==============================] - 0s - loss: 920.7522     \n",
      "Epoch 162/200\n",
      "95/95 [==============================] - 0s - loss: 912.6025     \n",
      "Epoch 163/200\n",
      "95/95 [==============================] - 0s - loss: 904.3882     \n",
      "Epoch 164/200\n",
      "95/95 [==============================] - 0s - loss: 896.2272     \n",
      "Epoch 165/200\n",
      "95/95 [==============================] - 0s - loss: 888.0080     \n",
      "Epoch 166/200\n",
      "95/95 [==============================] - 0s - loss: 880.0580     \n",
      "Epoch 167/200\n",
      "95/95 [==============================] - 0s - loss: 872.0407     \n",
      "Epoch 168/200\n",
      "95/95 [==============================] - 0s - loss: 864.1924     \n",
      "Epoch 169/200\n",
      "95/95 [==============================] - 0s - loss: 856.3735     \n",
      "Epoch 170/200\n",
      "95/95 [==============================] - 0s - loss: 848.5194     \n",
      "Epoch 171/200\n",
      "95/95 [==============================] - 0s - loss: 840.9564     \n",
      "Epoch 172/200\n",
      "95/95 [==============================] - 0s - loss: 833.2554     \n",
      "Epoch 173/200\n",
      "95/95 [==============================] - 0s - loss: 825.4818     \n",
      "Epoch 174/200\n",
      "95/95 [==============================] - 0s - loss: 818.0977     \n",
      "Epoch 175/200\n",
      "95/95 [==============================] - 0s - loss: 810.5943     \n",
      "Epoch 176/200\n",
      "95/95 [==============================] - 0s - loss: 803.0062     \n",
      "Epoch 177/200\n",
      "95/95 [==============================] - 0s - loss: 795.6172     \n",
      "Epoch 178/200\n",
      "95/95 [==============================] - 0s - loss: 788.3242     \n",
      "Epoch 179/200\n",
      "95/95 [==============================] - 0s - loss: 781.0462     \n",
      "Epoch 180/200\n",
      "95/95 [==============================] - 0s - loss: 774.2376     \n",
      "Epoch 181/200\n",
      "95/95 [==============================] - 0s - loss: 766.7960     \n",
      "Epoch 182/200\n",
      "95/95 [==============================] - 0s - loss: 759.7004     \n",
      "Epoch 183/200\n",
      "95/95 [==============================] - 0s - loss: 752.5861     \n",
      "Epoch 184/200\n",
      "95/95 [==============================] - 0s - loss: 745.5212     \n",
      "Epoch 185/200\n",
      "95/95 [==============================] - 0s - loss: 738.5173     \n",
      "Epoch 186/200\n",
      "95/95 [==============================] - 0s - loss: 731.6951     \n",
      "Epoch 187/200\n",
      "95/95 [==============================] - 0s - loss: 724.8598     \n",
      "Epoch 188/200\n",
      "95/95 [==============================] - 0s - loss: 718.0579     \n",
      "Epoch 189/200\n",
      "95/95 [==============================] - 0s - loss: 711.3785     \n",
      "Epoch 190/200\n",
      "95/95 [==============================] - 0s - loss: 704.7240     \n",
      "Epoch 191/200\n",
      "95/95 [==============================] - 0s - loss: 698.0991     \n",
      "Epoch 192/200\n",
      "95/95 [==============================] - 0s - loss: 691.4724     \n",
      "Epoch 193/200\n",
      "95/95 [==============================] - 0s - loss: 685.0044     \n",
      "Epoch 194/200\n",
      "95/95 [==============================] - 0s - loss: 678.6215     \n",
      "Epoch 195/200\n",
      "95/95 [==============================] - 0s - loss: 672.1308     - ETA: \n",
      "Epoch 196/200\n",
      "95/95 [==============================] - 0s - loss: 665.8238     \n",
      "Epoch 197/200\n",
      "95/95 [==============================] - 0s - loss: 659.4837     \n",
      "Epoch 198/200\n",
      "95/95 [==============================] - 0s - loss: 653.2263     \n",
      "Epoch 199/200\n",
      "95/95 [==============================] - 0s - loss: 647.4132     \n",
      "Epoch 200/200\n",
      "95/95 [==============================] - 0s - loss: 640.9337     \n"
     ]
    }
   ],
   "source": [
    "model = Sequential()\n",
    "\n",
    "if use_LSTM:\n",
    "    \n",
    "    # the last state for each sample at index i in a batch will be used as initial state\n",
    "    # for the sample of index i in the following batch\n",
    "    if lstm_stateful:\n",
    "        #\n",
    "        #\n",
    "        if lstm_stack_layers:\n",
    "            model.add(LSTM(num_neurons,\n",
    "                       batch_input_shape=(batch_size, X_train.shape[1], X_train.shape[2]),\n",
    "                       stateful = True,\n",
    "                       return_sequences = True))\n",
    "            model.add(LSTM(num_neurons,\n",
    "                       stateful = True))\n",
    "            model.add(Dense(1))\n",
    "            model.compile(loss='mean_squared_error', optimizer='adam')\n",
    "            \n",
    "        # \n",
    "        elif lstm_predict_sequences:\n",
    "            model.add(LSTM(num_neurons,\n",
    "                       batch_input_shape=(batch_size, X_train.shape[1], X_train.shape[2]),\n",
    "                       stateful = True,\n",
    "                       return_sequences = True))\n",
    "            model.add(TimeDistributedDense(lstm_num_predictions))  \n",
    "            model.add(Activation(\"linear\"))  \n",
    "            model.compile(loss='mean_squared_error', optimizer='adam')\n",
    "            \n",
    "        #    \n",
    "        else:\n",
    "            model.add(LSTM(num_neurons,\n",
    "                       batch_input_shape=(batch_size, X_train.shape[1], X_train.shape[2]),\n",
    "                       stateful = True))\n",
    "            model.add(Dense(1))\n",
    "            model.compile(loss='mean_squared_error', optimizer='adam')\n",
    "        \n",
    "        for i in range(num_epochs):\n",
    "            print('epoch: ' + str(i))\n",
    "            # shuffle must be False!\n",
    "            model.fit(X_train, y_train, nb_epoch = 1, batch_size = batch_size, shuffle = False)\n",
    "            model.reset_states()\n",
    " \n",
    "\n",
    "    # stateful == False    \n",
    "    else:        \n",
    "        \n",
    "        if lstm_stack_layers:\n",
    "            # input_dim: dimensionality of the input (alternatively, input_shape)\n",
    "            # required when using this layer as the first layer in a model\n",
    "            model.add(LSTM(num_neurons, input_dim = lstm_num_features, return_sequences = True))\n",
    "            model.add(LSTM(num_neurons))\n",
    "        # \n",
    "        else:\n",
    "            model.add(LSTM(num_neurons, input_dim = lstm_num_features))\n",
    "        \n",
    "        model.add(Dense(1))\n",
    "        model.compile(loss='mean_squared_error', optimizer='adam')\n",
    "        model.fit(X_train, y_train, nb_epoch = num_epochs, batch_size = batch_size)\n",
    "        \n",
    "   \n",
    "\n",
    "# feedforward\n",
    "else:\n",
    "    \n",
    "    model.add(Dense(num_neurons, input_dim = mlp_num_features, activation='relu'))\n",
    "    model.add(Dense(1))\n",
    "    model.compile(loss='mean_squared_error', optimizer='adam')\n",
    "    model.fit(X_train, y_train, nb_epoch = num_epochs, batch_size = batch_size)\n"
   ]
  },
  {
   "cell_type": "code",
   "execution_count": null,
   "metadata": {},
   "outputs": [],
   "source": [
    "test_loss = np.nan\n",
    "if lstm_stateful:\n",
    "    test_loss = model.evaluate(X_test, y_test, batch_size = batch_size)\n",
    "else:\n",
    "    test_loss = model.evaluate(X_test, y_test, batch_size = X_test.shape[0])\n",
    "test_loss"
   ]
  },
  {
   "cell_type": "code",
   "execution_count": null,
   "metadata": {
    "collapsed": true
   },
   "outputs": [],
   "source": [
    "if lstm_stateful:\n",
    "    model.reset_states()\n",
    "    pred_train = model.predict(X_train, batch_size = batch_size)\n",
    "    model.reset_states()\n",
    "    pred_test = model.predict(X_test, batch_size = batch_size)\n",
    "else:\n",
    "    pred_train1 = model.predict(X_train, batch_size = X_train.shape[0])\n",
    "    pred_test1 = model.predict(X_test, batch_size = X_test.shape[0])\n",
    "    pred_train2 = model.predict(X_train, batch_size = batch_size)\n",
    "    pred_test2 = model.predict(X_test, batch_size = batch_size)"
   ]
  },
  {
   "cell_type": "code",
   "execution_count": null,
   "metadata": {},
   "outputs": [],
   "source": [
    "if not lstm_stateful:\n",
    "    print(np.round(pred_test1) == np.round(pred_test2))"
   ]
  },
  {
   "cell_type": "code",
   "execution_count": null,
   "metadata": {
    "collapsed": true
   },
   "outputs": [],
   "source": [
    "if not lstm_stateful:\n",
    "    pred_test = pred_test1\n",
    "    pred_train = pred_train1"
   ]
  },
  {
   "cell_type": "code",
   "execution_count": null,
   "metadata": {},
   "outputs": [],
   "source": [
    "for i in X_test:\n",
    "    if lstm_stateful:\n",
    "        model.reset_states()\n",
    "    #print(i)\n",
    "    r = i.reshape(1, len(i), 1)\n",
    "    #print(i.shape), print(r.shape)\n",
    "    print(model.predict(r))"
   ]
  },
  {
   "cell_type": "code",
   "execution_count": null,
   "metadata": {},
   "outputs": [],
   "source": [
    "def calc_dependent_predictions(model, data, prediction_window):\n",
    "    prediction_seqs = []\n",
    "    for i in range(int(len(data)/prediction_window)):\n",
    "        print('Calculating predictions starting from: {}'.format(i))\n",
    "        curr_frame = data[i*prediction_window]\n",
    "        predicted = []\n",
    "        for j in range(prediction_window):\n",
    "            #print('Calculating single prediction: {}'.format(j))\n",
    "            #print(curr_frame)\n",
    "            pred = model.predict(curr_frame[np.newaxis,:,:])[0,0]\n",
    "            #pred = model.predict(curr_frame.reshape(1, len(curr_frame), 1)) # same\n",
    "            #print(pred)\n",
    "            predicted.append(pred)\n",
    "            curr_frame = curr_frame[1:] \n",
    "            curr_frame = np.insert(curr_frame, [window_size-1], predicted[-1], axis=0)\n",
    "        prediction_seqs.append(predicted)\n",
    "    return prediction_seqs"
   ]
  },
  {
   "cell_type": "code",
   "execution_count": null,
   "metadata": {},
   "outputs": [],
   "source": [
    "prediction_window = 5 \n",
    "\n",
    "prediction_seqs_train = calc_dependent_predictions(model, X_train, prediction_window)\n",
    "prediction_seqs_test = calc_dependent_predictions(model, X_test, prediction_window)"
   ]
  },
  {
   "cell_type": "code",
   "execution_count": null,
   "metadata": {},
   "outputs": [],
   "source": [
    "prediction_seqs_train "
   ]
  },
  {
   "cell_type": "code",
   "execution_count": null,
   "metadata": {},
   "outputs": [],
   "source": [
    "prediction_seqs_test"
   ]
  },
  {
   "cell_type": "code",
   "execution_count": null,
   "metadata": {},
   "outputs": [],
   "source": [
    "y_train[:10]"
   ]
  },
  {
   "cell_type": "code",
   "execution_count": null,
   "metadata": {},
   "outputs": [],
   "source": [
    "pred_train[:10,0]"
   ]
  },
  {
   "cell_type": "code",
   "execution_count": null,
   "metadata": {},
   "outputs": [],
   "source": [
    "y_test[:10]"
   ]
  },
  {
   "cell_type": "code",
   "execution_count": null,
   "metadata": {},
   "outputs": [],
   "source": [
    "pred_test[:10,0]"
   ]
  },
  {
   "cell_type": "code",
   "execution_count": null,
   "metadata": {
    "collapsed": true
   },
   "outputs": [],
   "source": [
    "if scale:\n",
    "    pred_train = scaler.inverse_transform(pred_train)\n",
    "    y_train = scaler.inverse_transform(y_train.reshape(-1,1))\n",
    "    pred_test = scaler.inverse_transform(pred_test)\n",
    "    y_test = scaler.inverse_transform(y_test.reshape(-1,1))\n"
   ]
  },
  {
   "cell_type": "code",
   "execution_count": null,
   "metadata": {},
   "outputs": [],
   "source": [
    "y_train[:10],pred_train[:10,0]"
   ]
  },
  {
   "cell_type": "code",
   "execution_count": null,
   "metadata": {},
   "outputs": [],
   "source": [
    "y_test[:],pred_test[:,0]"
   ]
  },
  {
   "cell_type": "code",
   "execution_count": null,
   "metadata": {},
   "outputs": [],
   "source": [
    "# calculate root mean squared error\n",
    "rsme_train = math.sqrt(mean_squared_error(y_train, pred_train[:,0]))\n",
    "print('Train Score: %.2f RMSE' % (rsme_train))\n",
    "rsme_test = math.sqrt(mean_squared_error(y_test, pred_test[:,0]))\n",
    "print('Test Score: %.2f RMSE' % (rsme_test))"
   ]
  },
  {
   "cell_type": "code",
   "execution_count": null,
   "metadata": {},
   "outputs": [],
   "source": [
    "print(len(ts_train), len(pred_train), len(y_train))\n",
    "len(ts_test), len(pred_test), len(y_test) "
   ]
  },
  {
   "cell_type": "code",
   "execution_count": null,
   "metadata": {},
   "outputs": [],
   "source": [
    "# shift train predictions for plotting\n",
    "pred_train_shifted = np.empty_like(ts_all)\n",
    "print(pred_train_shifted.size)\n",
    "pred_train_shifted[:, :] = np.nan\n",
    "# train predictions start at position window_size + 1 (or window_size, if counting from 0)\n",
    "pred_train_shifted[window_size : len(pred_train) + window_size, :] = pred_train\n",
    "pred_train_shifted[:13]"
   ]
  },
  {
   "cell_type": "code",
   "execution_count": null,
   "metadata": {},
   "outputs": [],
   "source": [
    "# shift test predictions for plotting\n",
    "window_size = lstm_num_timesteps if use_LSTM else mlp_num_features\n",
    "pred_test_shifted = np.empty_like(ts_all)\n",
    "pred_test_shifted[:, :] = np.nan\n",
    "pred_test_shifted[len(pred_train) + (window_size * 2) : len_overall + 1, :] = pred_test\n",
    "pred_test_shifted[-13:]"
   ]
  },
  {
   "cell_type": "code",
   "execution_count": null,
   "metadata": {},
   "outputs": [],
   "source": [
    "plt.plot(ts_all)\n",
    "plt.plot(pred_train_shifted)\n",
    "plt.plot(pred_test_shifted)\n",
    "plt.savefig(testname + '_lstm_' + str(use_LSTM) + '_stateful_' + str(lstm_stateful) + '_window_' + str(window_size) +\n",
    "            '_epochs_' + str(num_epochs) + '_2layers_' + str(lstm_stack_layers) + '_scale_' + str(scale) + '.png')\n",
    "plt.show()"
   ]
  },
  {
   "cell_type": "code",
   "execution_count": null,
   "metadata": {},
   "outputs": [],
   "source": [
    "plot_start = -30\n",
    "plot_end = -1\n",
    "plt.plot(ts_all[plot_start:plot_end])\n",
    "plt.plot(pred_train_shifted[plot_start:plot_end])\n",
    "plt.plot(pred_test_shifted[plot_start:plot_end])\n",
    "plt.show()\n"
   ]
  },
  {
   "cell_type": "code",
   "execution_count": null,
   "metadata": {
    "collapsed": true
   },
   "outputs": [],
   "source": [
    "def plot_results(predicted_data, true_data):\n",
    "    fig = plt.figure(facecolor='white')\n",
    "    ax = fig.add_subplot(111)\n",
    "    ax.plot(true_data, label='True Data')\n",
    "    plt.plot(predicted_data, label='Prediction')\n",
    "    plt.legend()\n",
    "    plt.show()"
   ]
  },
  {
   "cell_type": "code",
   "execution_count": null,
   "metadata": {
    "collapsed": true
   },
   "outputs": [],
   "source": [
    "plot_results(pred_train, y_train)"
   ]
  },
  {
   "cell_type": "code",
   "execution_count": null,
   "metadata": {},
   "outputs": [],
   "source": [
    "plot_results(pred_test, y_test)"
   ]
  },
  {
   "cell_type": "code",
   "execution_count": null,
   "metadata": {
    "collapsed": true
   },
   "outputs": [],
   "source": [
    "def plot_results_multiple(predicted_data, true_data, prediction_window):\n",
    "    fig = plt.figure(facecolor='white')\n",
    "    ax = fig.add_subplot(111)\n",
    "    ax.plot(true_data, label='True Data')\n",
    "    #Pad the list of predictions to shift it in the graph to it's correct start\n",
    "    for i, data in enumerate(predicted_data):\n",
    "        padding = [None for p in range(i * prediction_window)]\n",
    "        plt.plot(padding + data, label='Prediction')\n",
    "        plt.legend()\n",
    "    plt.show()"
   ]
  },
  {
   "cell_type": "code",
   "execution_count": null,
   "metadata": {},
   "outputs": [],
   "source": [
    "plot_results_multiple(prediction_seqs_train, y_test, prediction_window)"
   ]
  },
  {
   "cell_type": "code",
   "execution_count": null,
   "metadata": {
    "collapsed": true
   },
   "outputs": [],
   "source": [
    "plot_results_multiple(prediction_seqs_test, y_test, prediction_window)"
   ]
  },
  {
   "cell_type": "code",
   "execution_count": null,
   "metadata": {
    "collapsed": true
   },
   "outputs": [],
   "source": [
    "#seq2seq\n",
    "# predict and append prediction to existing values\n",
    "# TimeDistributedDense after return_sequences True"
   ]
  },
  {
   "cell_type": "code",
   "execution_count": null,
   "metadata": {
    "collapsed": true
   },
   "outputs": [],
   "source": [
    "# https://groups.google.com/forum/#!topic/keras-users/9GsDwkSdqBg"
   ]
  },
  {
   "cell_type": "code",
   "execution_count": null,
   "metadata": {},
   "outputs": [],
   "source": [
    "# https://github.com/fchollet/keras/issues/1029#issuecomment-160845826\n",
    "from keras.models import Sequential  \n",
    "from keras.layers.core import TimeDistributedDense, Activation, Dropout  \n",
    "from keras.layers.recurrent import GRU\n",
    "import numpy as np\n",
    "\n",
    "def _load_data(data, steps = 40):  \n",
    "    docX, docY = [], []\n",
    "    for i in range(0, data.shape[0]/steps-1):\n",
    "        docX.append(data[i*steps:(i+1)*steps,:])\n",
    "        docY.append(data[(i*steps+1):((i+1)*steps+1),:])\n",
    "    return np.array(docX), np.array(docY)\n",
    "\n",
    "def train_test_split(data, test_size=0.15):  \n",
    "    #    This just splits data to training and testing parts\n",
    "    X,Y = _load_data(data)\n",
    "    ntrn = round(X.shape[0] * (1 - test_size))\n",
    "    perms = np.random.permutation(X.shape[0])\n",
    "    X_train, Y_train = X.take(perms[0:ntrn],axis=0), Y.take(perms[0:ntrn],axis=0)\n",
    "    X_test, Y_test = X.take(perms[ntrn:],axis=0),Y.take(perms[ntrn:],axis=0)\n",
    "    return (X_train, Y_train), (X_test, Y_test) \n",
    "\n",
    "np.random.seed(0)  # For reproducability\n",
    "data = np.genfromtxt('closingAdjLog.csv', delimiter=',')  # data = a TxN matrix\n",
    "(X_train, y_train), (X_test, y_test) = train_test_split(np.flipud(data))  # retrieve data\n",
    "print \"Data loaded.\"\n",
    "\n",
    "in_out_neurons = 20  \n",
    "hidden_neurons = 200\n",
    "\n",
    "model = Sequential()  \n",
    "model.add(GRU(hidden_neurons, input_dim=in_out_neurons, return_sequences=True))\n",
    "model.add(Dropout(0.2))\n",
    "model.add(TimeDistributedDense(in_out_neurons))  \n",
    "model.add(Activation(\"linear\"))  \n",
    "model.compile(loss=\"mean_squared_error\", optimizer=\"rmsprop\") \n",
    "print \"Model compiled.\"\n",
    "\n",
    "# and now train the model. \n",
    "model.fit(X_train, y_train, batch_size=30, nb_epoch=200, validation_split=0.1)  \n",
    "predicted = model.predict(X_test)  \n",
    "print np.sqrt(((predicted - y_test) ** 2).mean(axis=0)).mean()  # Printing RMSE \n",
    "\n",
    "@joetigger\n",
    "joetigger commented on Nov 20, 2015\n",
    "\n",
    "@M-Taha Thanks for the example. According to you, TimeDistributedDense is for saving time/memory. Therefore it should work if I set in_out_neurons to 1. However, according to @EdwardRaff it is for constraining many outputs to use the same function. I'm confused.. Which one is correct?\n",
    "@viveksck\n",
    "viveksck commented on Nov 20, 2015\n",
    "\n",
    "@placebokkk : Thanks for the sample code. I tried it, but it seems that it is not able to even memorize the training data.\n",
    "\n",
    "from keras.models import Sequential  \n",
    "from keras.layers.core import TimeDistributedDense, Activation, Dropout  \n",
    "from keras.layers.recurrent import GRU, LSTM\n",
    "from keras.layers.embeddings import Embedding\n",
    "from keras.preprocessing import sequence\n",
    "from keras.optimizers import RMSprop\n",
    "import numpy as np\n",
    "maxlen = 2\n",
    "\n",
    "batch_size = 1\n",
    "nb_word = 4\n",
    "nb_tag = 2\n",
    "\n",
    "X_train = [[1,2],[1,3]]#two sequences, one is [1,2] and another is [1,3]\n",
    "Y_train = [[[0,1],[1,0]],[[0,1],[1,0]]] #the output should be 3D and one-hot for softmax output with categorical_crossentropy\n",
    "X_test = [[1,2],[1,3]]\n",
    "Y_test = [[[0,1],[1,0]],[[0,1],[1,0]]]\n",
    "\n",
    "X_train = sequence.pad_sequences(X_train, maxlen=maxlen)\n",
    "X_test = sequence.pad_sequences(X_test, maxlen=maxlen)\n",
    "\n",
    "Y_train = np.asarray(Y_train, dtype='int32')\n",
    "Y_test = np.asarray(Y_test, dtype='int32')\n",
    "\n",
    "model = Sequential()\n",
    "model.add(Embedding(nb_word, 128))\n",
    "model.add(LSTM(128, return_sequences=True))\n",
    "model.add(TimeDistributedDense(nb_tag))\n",
    "model.add(Activation('softmax'))\n",
    "\n",
    "rms = RMSprop()\n",
    "model.compile(loss='categorical_crossentropy', optimizer=rms)\n",
    "\n",
    "model.fit(X_train, Y_train, batch_size=batch_size, nb_epoch=100, show_accuracy=True)\n",
    "res = model.predict_classes(X_test)\n",
    "print('res',res)"
   ]
  },
  {
   "cell_type": "code",
   "execution_count": null,
   "metadata": {
    "collapsed": true
   },
   "outputs": [],
   "source": []
  },
  {
   "cell_type": "code",
   "execution_count": null,
   "metadata": {
    "collapsed": true
   },
   "outputs": [],
   "source": []
  },
  {
   "cell_type": "code",
   "execution_count": null,
   "metadata": {
    "collapsed": true
   },
   "outputs": [],
   "source": []
  },
  {
   "cell_type": "code",
   "execution_count": null,
   "metadata": {
    "collapsed": true
   },
   "outputs": [],
   "source": []
  },
  {
   "cell_type": "code",
   "execution_count": null,
   "metadata": {
    "collapsed": true
   },
   "outputs": [],
   "source": []
  },
  {
   "cell_type": "code",
   "execution_count": null,
   "metadata": {
    "collapsed": true
   },
   "outputs": [],
   "source": []
  },
  {
   "cell_type": "code",
   "execution_count": null,
   "metadata": {
    "collapsed": true
   },
   "outputs": [],
   "source": []
  },
  {
   "cell_type": "code",
   "execution_count": null,
   "metadata": {
    "collapsed": true
   },
   "outputs": [],
   "source": []
  },
  {
   "cell_type": "code",
   "execution_count": null,
   "metadata": {
    "collapsed": true
   },
   "outputs": [],
   "source": []
  },
  {
   "cell_type": "code",
   "execution_count": null,
   "metadata": {
    "collapsed": true
   },
   "outputs": [],
   "source": []
  },
  {
   "cell_type": "code",
   "execution_count": null,
   "metadata": {
    "collapsed": true
   },
   "outputs": [],
   "source": []
  },
  {
   "cell_type": "code",
   "execution_count": null,
   "metadata": {
    "collapsed": true
   },
   "outputs": [],
   "source": []
  },
  {
   "cell_type": "code",
   "execution_count": null,
   "metadata": {
    "collapsed": true
   },
   "outputs": [],
   "source": []
  },
  {
   "cell_type": "code",
   "execution_count": null,
   "metadata": {
    "collapsed": true
   },
   "outputs": [],
   "source": []
  },
  {
   "cell_type": "code",
   "execution_count": null,
   "metadata": {
    "collapsed": true
   },
   "outputs": [],
   "source": []
  },
  {
   "cell_type": "code",
   "execution_count": null,
   "metadata": {
    "collapsed": true
   },
   "outputs": [],
   "source": []
  },
  {
   "cell_type": "code",
   "execution_count": null,
   "metadata": {
    "collapsed": true
   },
   "outputs": [],
   "source": []
  },
  {
   "cell_type": "code",
   "execution_count": null,
   "metadata": {
    "collapsed": true
   },
   "outputs": [],
   "source": []
  },
  {
   "cell_type": "code",
   "execution_count": null,
   "metadata": {
    "collapsed": true
   },
   "outputs": [],
   "source": []
  },
  {
   "cell_type": "code",
   "execution_count": null,
   "metadata": {
    "collapsed": true
   },
   "outputs": [],
   "source": []
  },
  {
   "cell_type": "code",
   "execution_count": null,
   "metadata": {
    "collapsed": true
   },
   "outputs": [],
   "source": []
  },
  {
   "cell_type": "code",
   "execution_count": null,
   "metadata": {
    "collapsed": true
   },
   "outputs": [],
   "source": []
  }
 ],
 "metadata": {
  "anaconda-cloud": {},
  "kernelspec": {
   "display_name": "Python 3",
   "language": "python",
   "name": "python3"
  },
  "language_info": {
   "codemirror_mode": {
    "name": "ipython",
    "version": 3
   },
   "file_extension": ".py",
   "mimetype": "text/x-python",
   "name": "python",
   "nbconvert_exporter": "python",
   "pygments_lexer": "ipython3",
   "version": "3.5.3"
  }
 },
 "nbformat": 4,
 "nbformat_minor": 1
}

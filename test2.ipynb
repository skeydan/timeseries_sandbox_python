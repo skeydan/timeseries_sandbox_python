{
 "cells": [
  {
   "cell_type": "code",
   "execution_count": 46,
   "metadata": {},
   "outputs": [],
   "source": [
    "import pandas as pd\n",
    "import matplotlib.pyplot as plt\n",
    "from keras.models import Sequential\n",
    "from keras.layers import Dense\n",
    "from keras.layers import LSTM\n",
    "import math\n",
    "from sklearn.preprocessing import MinMaxScaler\n",
    "from sklearn.metrics import mean_squared_error\n",
    "import numpy as np"
   ]
  },
  {
   "cell_type": "code",
   "execution_count": 47,
   "metadata": {
    "collapsed": true
   },
   "outputs": [],
   "source": [
    "np.random.seed(7)"
   ]
  },
  {
   "cell_type": "code",
   "execution_count": 48,
   "metadata": {
    "collapsed": true
   },
   "outputs": [],
   "source": [
    "# number of features used in the regression\n",
    "window_size = 10\n",
    "# lstm_num_timesteps\n",
    "lstm_num_timesteps = 10\n",
    "# whether to use LSTM or MLP\n",
    "use_LSTM = False\n",
    "# lstm_num_features\n",
    "lstm_num_features = 1"
   ]
  },
  {
   "cell_type": "code",
   "execution_count": 219,
   "metadata": {},
   "outputs": [],
   "source": [
    "# load the dataset\n",
    "#df_train = pd.read_csv('international-airline-passengers.csv', usecols=[1], engine='python', skipfooter=3)\n",
    "df_train = pd.read_csv('108_7_3.train.csv', usecols=[1], engine='python', skipfooter=3)\n",
    "ts_train = df_train.values\n",
    "df_test = pd.read_csv('108_7_3.test.csv', usecols=[1], engine='python', skipfooter=3)\n",
    "ts_test = df_test.values\n",
    "ts_all = np.append(ts_train, ts_test).reshape(-1,1)\n",
    "len_overall = len(ts_all)"
   ]
  },
  {
   "cell_type": "code",
   "execution_count": 304,
   "metadata": {},
   "outputs": [],
   "source": [
    "#for testing\n",
    "ts_train = np.arange(1,101).reshape(-1,1)  \n",
    "ts_test = np.arange(101,121).reshape(-1,1)\n",
    "window_size = 5\n",
    "ts_all = np.append(ts_train, ts_test).reshape(-1,1)\n",
    "len_overall = len(ts_all)"
   ]
  },
  {
   "cell_type": "code",
   "execution_count": 305,
   "metadata": {},
   "outputs": [
    {
     "data": {
      "text/plain": [
       "120"
      ]
     },
     "execution_count": 305,
     "metadata": {},
     "output_type": "execute_result"
    }
   ],
   "source": [
    "len_overall"
   ]
  },
  {
   "cell_type": "code",
   "execution_count": 306,
   "metadata": {},
   "outputs": [
    {
     "data": {
      "text/plain": [
       "array([[  1],\n",
       "       [  2],\n",
       "       [  3],\n",
       "       [  4],\n",
       "       [  5],\n",
       "       [  6],\n",
       "       [  7],\n",
       "       [  8],\n",
       "       [  9],\n",
       "       [ 10],\n",
       "       [ 11],\n",
       "       [ 12],\n",
       "       [ 13],\n",
       "       [ 14],\n",
       "       [ 15],\n",
       "       [ 16],\n",
       "       [ 17],\n",
       "       [ 18],\n",
       "       [ 19],\n",
       "       [ 20],\n",
       "       [ 21],\n",
       "       [ 22],\n",
       "       [ 23],\n",
       "       [ 24],\n",
       "       [ 25],\n",
       "       [ 26],\n",
       "       [ 27],\n",
       "       [ 28],\n",
       "       [ 29],\n",
       "       [ 30],\n",
       "       [ 31],\n",
       "       [ 32],\n",
       "       [ 33],\n",
       "       [ 34],\n",
       "       [ 35],\n",
       "       [ 36],\n",
       "       [ 37],\n",
       "       [ 38],\n",
       "       [ 39],\n",
       "       [ 40],\n",
       "       [ 41],\n",
       "       [ 42],\n",
       "       [ 43],\n",
       "       [ 44],\n",
       "       [ 45],\n",
       "       [ 46],\n",
       "       [ 47],\n",
       "       [ 48],\n",
       "       [ 49],\n",
       "       [ 50],\n",
       "       [ 51],\n",
       "       [ 52],\n",
       "       [ 53],\n",
       "       [ 54],\n",
       "       [ 55],\n",
       "       [ 56],\n",
       "       [ 57],\n",
       "       [ 58],\n",
       "       [ 59],\n",
       "       [ 60],\n",
       "       [ 61],\n",
       "       [ 62],\n",
       "       [ 63],\n",
       "       [ 64],\n",
       "       [ 65],\n",
       "       [ 66],\n",
       "       [ 67],\n",
       "       [ 68],\n",
       "       [ 69],\n",
       "       [ 70],\n",
       "       [ 71],\n",
       "       [ 72],\n",
       "       [ 73],\n",
       "       [ 74],\n",
       "       [ 75],\n",
       "       [ 76],\n",
       "       [ 77],\n",
       "       [ 78],\n",
       "       [ 79],\n",
       "       [ 80],\n",
       "       [ 81],\n",
       "       [ 82],\n",
       "       [ 83],\n",
       "       [ 84],\n",
       "       [ 85],\n",
       "       [ 86],\n",
       "       [ 87],\n",
       "       [ 88],\n",
       "       [ 89],\n",
       "       [ 90],\n",
       "       [ 91],\n",
       "       [ 92],\n",
       "       [ 93],\n",
       "       [ 94],\n",
       "       [ 95],\n",
       "       [ 96],\n",
       "       [ 97],\n",
       "       [ 98],\n",
       "       [ 99],\n",
       "       [100],\n",
       "       [101],\n",
       "       [102],\n",
       "       [103],\n",
       "       [104],\n",
       "       [105],\n",
       "       [106],\n",
       "       [107],\n",
       "       [108],\n",
       "       [109],\n",
       "       [110],\n",
       "       [111],\n",
       "       [112],\n",
       "       [113],\n",
       "       [114],\n",
       "       [115],\n",
       "       [116],\n",
       "       [117],\n",
       "       [118],\n",
       "       [119],\n",
       "       [120]])"
      ]
     },
     "execution_count": 306,
     "metadata": {},
     "output_type": "execute_result"
    }
   ],
   "source": [
    "ts_all"
   ]
  },
  {
   "cell_type": "code",
   "execution_count": 307,
   "metadata": {},
   "outputs": [
    {
     "data": {
      "text/plain": [
       "((100, 1), (20, 1))"
      ]
     },
     "execution_count": 307,
     "metadata": {},
     "output_type": "execute_result"
    }
   ],
   "source": [
    "ts_train.shape, ts_test.shape"
   ]
  },
  {
   "cell_type": "code",
   "execution_count": 308,
   "metadata": {},
   "outputs": [
    {
     "data": {
      "text/plain": [
       "array([[ 1],\n",
       "       [ 2],\n",
       "       [ 3],\n",
       "       [ 4],\n",
       "       [ 5],\n",
       "       [ 6],\n",
       "       [ 7],\n",
       "       [ 8],\n",
       "       [ 9],\n",
       "       [10],\n",
       "       [11]])"
      ]
     },
     "execution_count": 308,
     "metadata": {},
     "output_type": "execute_result"
    }
   ],
   "source": [
    "ts_train[:11]"
   ]
  },
  {
   "cell_type": "code",
   "execution_count": 309,
   "metadata": {},
   "outputs": [
    {
     "data": {
      "text/plain": [
       "array([[101],\n",
       "       [102],\n",
       "       [103],\n",
       "       [104],\n",
       "       [105],\n",
       "       [106],\n",
       "       [107],\n",
       "       [108],\n",
       "       [109],\n",
       "       [110],\n",
       "       [111]])"
      ]
     },
     "execution_count": 309,
     "metadata": {},
     "output_type": "execute_result"
    }
   ],
   "source": [
    "ts_test[:11]"
   ]
  },
  {
   "cell_type": "code",
   "execution_count": 310,
   "metadata": {
    "collapsed": true
   },
   "outputs": [],
   "source": [
    "# normalize the dataset\n",
    "#scaler = MinMaxScaler(feature_range=(0, 1))\n",
    "#ts = scaler.fit_transform(ts)"
   ]
  },
  {
   "cell_type": "code",
   "execution_count": 311,
   "metadata": {
    "collapsed": true
   },
   "outputs": [],
   "source": [
    "# split into train and test sets\n",
    "#train_size = int(len(ts) * 0.67)\n",
    "#test_size = len(ts) - train_size\n",
    "#ts_train, ts_test = ts[0:train_size,:], ts[train_size:len(ts),:]\n",
    "#print(len(ts_train), len(ts_test))\n"
   ]
  },
  {
   "cell_type": "code",
   "execution_count": 312,
   "metadata": {
    "collapsed": true
   },
   "outputs": [],
   "source": [
    "# convert an array of values into a dataset matrix\n",
    "def create_dataset(dataset, window_size):\n",
    "    dataX, dataY = [], []\n",
    "    for i in range(len(dataset) - window_size):\n",
    "        a = dataset[i:(i + window_size), 0]\n",
    "        dataX.append(a)\n",
    "        dataY.append(dataset[i + window_size, 0])\n",
    "    return np.array(dataX), np.array(dataY)"
   ]
  },
  {
   "cell_type": "code",
   "execution_count": 313,
   "metadata": {},
   "outputs": [
    {
     "data": {
      "text/plain": [
       "((95, 5), (15, 5), (95,), (15,))"
      ]
     },
     "execution_count": 313,
     "metadata": {},
     "output_type": "execute_result"
    }
   ],
   "source": [
    "X_train, y_train = create_dataset(ts_train, window_size)\n",
    "X_test, y_test = create_dataset(ts_test, window_size)\n",
    "# the train and test matrices end up shorter than the respective timeseries by window_size + 1!\n",
    "X_train.shape, X_test.shape, y_train.shape, y_test.shape"
   ]
  },
  {
   "cell_type": "code",
   "execution_count": 314,
   "metadata": {},
   "outputs": [
    {
     "data": {
      "text/plain": [
       "array([[ 1,  2,  3,  4,  5],\n",
       "       [ 2,  3,  4,  5,  6],\n",
       "       [ 3,  4,  5,  6,  7],\n",
       "       [ 4,  5,  6,  7,  8],\n",
       "       [ 5,  6,  7,  8,  9],\n",
       "       [ 6,  7,  8,  9, 10],\n",
       "       [ 7,  8,  9, 10, 11],\n",
       "       [ 8,  9, 10, 11, 12],\n",
       "       [ 9, 10, 11, 12, 13],\n",
       "       [10, 11, 12, 13, 14],\n",
       "       [11, 12, 13, 14, 15],\n",
       "       [12, 13, 14, 15, 16],\n",
       "       [13, 14, 15, 16, 17],\n",
       "       [14, 15, 16, 17, 18],\n",
       "       [15, 16, 17, 18, 19],\n",
       "       [16, 17, 18, 19, 20],\n",
       "       [17, 18, 19, 20, 21],\n",
       "       [18, 19, 20, 21, 22],\n",
       "       [19, 20, 21, 22, 23],\n",
       "       [20, 21, 22, 23, 24],\n",
       "       [21, 22, 23, 24, 25],\n",
       "       [22, 23, 24, 25, 26],\n",
       "       [23, 24, 25, 26, 27],\n",
       "       [24, 25, 26, 27, 28],\n",
       "       [25, 26, 27, 28, 29],\n",
       "       [26, 27, 28, 29, 30],\n",
       "       [27, 28, 29, 30, 31],\n",
       "       [28, 29, 30, 31, 32],\n",
       "       [29, 30, 31, 32, 33],\n",
       "       [30, 31, 32, 33, 34],\n",
       "       [31, 32, 33, 34, 35],\n",
       "       [32, 33, 34, 35, 36],\n",
       "       [33, 34, 35, 36, 37],\n",
       "       [34, 35, 36, 37, 38],\n",
       "       [35, 36, 37, 38, 39],\n",
       "       [36, 37, 38, 39, 40],\n",
       "       [37, 38, 39, 40, 41],\n",
       "       [38, 39, 40, 41, 42],\n",
       "       [39, 40, 41, 42, 43],\n",
       "       [40, 41, 42, 43, 44],\n",
       "       [41, 42, 43, 44, 45],\n",
       "       [42, 43, 44, 45, 46],\n",
       "       [43, 44, 45, 46, 47],\n",
       "       [44, 45, 46, 47, 48],\n",
       "       [45, 46, 47, 48, 49],\n",
       "       [46, 47, 48, 49, 50],\n",
       "       [47, 48, 49, 50, 51],\n",
       "       [48, 49, 50, 51, 52],\n",
       "       [49, 50, 51, 52, 53],\n",
       "       [50, 51, 52, 53, 54],\n",
       "       [51, 52, 53, 54, 55],\n",
       "       [52, 53, 54, 55, 56],\n",
       "       [53, 54, 55, 56, 57],\n",
       "       [54, 55, 56, 57, 58],\n",
       "       [55, 56, 57, 58, 59],\n",
       "       [56, 57, 58, 59, 60],\n",
       "       [57, 58, 59, 60, 61],\n",
       "       [58, 59, 60, 61, 62],\n",
       "       [59, 60, 61, 62, 63],\n",
       "       [60, 61, 62, 63, 64],\n",
       "       [61, 62, 63, 64, 65],\n",
       "       [62, 63, 64, 65, 66],\n",
       "       [63, 64, 65, 66, 67],\n",
       "       [64, 65, 66, 67, 68],\n",
       "       [65, 66, 67, 68, 69],\n",
       "       [66, 67, 68, 69, 70],\n",
       "       [67, 68, 69, 70, 71],\n",
       "       [68, 69, 70, 71, 72],\n",
       "       [69, 70, 71, 72, 73],\n",
       "       [70, 71, 72, 73, 74],\n",
       "       [71, 72, 73, 74, 75],\n",
       "       [72, 73, 74, 75, 76],\n",
       "       [73, 74, 75, 76, 77],\n",
       "       [74, 75, 76, 77, 78],\n",
       "       [75, 76, 77, 78, 79],\n",
       "       [76, 77, 78, 79, 80],\n",
       "       [77, 78, 79, 80, 81],\n",
       "       [78, 79, 80, 81, 82],\n",
       "       [79, 80, 81, 82, 83],\n",
       "       [80, 81, 82, 83, 84],\n",
       "       [81, 82, 83, 84, 85],\n",
       "       [82, 83, 84, 85, 86],\n",
       "       [83, 84, 85, 86, 87],\n",
       "       [84, 85, 86, 87, 88],\n",
       "       [85, 86, 87, 88, 89],\n",
       "       [86, 87, 88, 89, 90],\n",
       "       [87, 88, 89, 90, 91],\n",
       "       [88, 89, 90, 91, 92],\n",
       "       [89, 90, 91, 92, 93],\n",
       "       [90, 91, 92, 93, 94],\n",
       "       [91, 92, 93, 94, 95],\n",
       "       [92, 93, 94, 95, 96],\n",
       "       [93, 94, 95, 96, 97],\n",
       "       [94, 95, 96, 97, 98],\n",
       "       [95, 96, 97, 98, 99]])"
      ]
     },
     "execution_count": 314,
     "metadata": {},
     "output_type": "execute_result"
    }
   ],
   "source": [
    "X_train[:,:]"
   ]
  },
  {
   "cell_type": "code",
   "execution_count": 315,
   "metadata": {},
   "outputs": [
    {
     "data": {
      "text/plain": [
       "array([  6,   7,   8,   9,  10,  11,  12,  13,  14,  15,  16,  17,  18,\n",
       "        19,  20,  21,  22,  23,  24,  25,  26,  27,  28,  29,  30,  31,\n",
       "        32,  33,  34,  35,  36,  37,  38,  39,  40,  41,  42,  43,  44,\n",
       "        45,  46,  47,  48,  49,  50,  51,  52,  53,  54,  55,  56,  57,\n",
       "        58,  59,  60,  61,  62,  63,  64,  65,  66,  67,  68,  69,  70,\n",
       "        71,  72,  73,  74,  75,  76,  77,  78,  79,  80,  81,  82,  83,\n",
       "        84,  85,  86,  87,  88,  89,  90,  91,  92,  93,  94,  95,  96,\n",
       "        97,  98,  99, 100])"
      ]
     },
     "execution_count": 315,
     "metadata": {},
     "output_type": "execute_result"
    }
   ],
   "source": [
    "y_train[:]"
   ]
  },
  {
   "cell_type": "code",
   "execution_count": 316,
   "metadata": {},
   "outputs": [
    {
     "data": {
      "text/plain": [
       "array([[101, 102, 103, 104, 105],\n",
       "       [102, 103, 104, 105, 106],\n",
       "       [103, 104, 105, 106, 107],\n",
       "       [104, 105, 106, 107, 108],\n",
       "       [105, 106, 107, 108, 109],\n",
       "       [106, 107, 108, 109, 110],\n",
       "       [107, 108, 109, 110, 111],\n",
       "       [108, 109, 110, 111, 112],\n",
       "       [109, 110, 111, 112, 113],\n",
       "       [110, 111, 112, 113, 114],\n",
       "       [111, 112, 113, 114, 115],\n",
       "       [112, 113, 114, 115, 116],\n",
       "       [113, 114, 115, 116, 117],\n",
       "       [114, 115, 116, 117, 118],\n",
       "       [115, 116, 117, 118, 119]])"
      ]
     },
     "execution_count": 316,
     "metadata": {},
     "output_type": "execute_result"
    }
   ],
   "source": [
    "X_test"
   ]
  },
  {
   "cell_type": "code",
   "execution_count": 317,
   "metadata": {},
   "outputs": [
    {
     "data": {
      "text/plain": [
       "array([106, 107, 108, 109, 110, 111, 112, 113, 114, 115, 116, 117, 118,\n",
       "       119, 120])"
      ]
     },
     "execution_count": 317,
     "metadata": {},
     "output_type": "execute_result"
    }
   ],
   "source": [
    "y_test"
   ]
  },
  {
   "cell_type": "code",
   "execution_count": 318,
   "metadata": {
    "collapsed": true
   },
   "outputs": [],
   "source": [
    "if use_LSTM:\n",
    "    # reshape input to be [samples, time steps, features]\n",
    "    X_train = np.reshape(X_train, (X_train.shape[0], lstm_num_timesteps, lstm_num_features))\n",
    "    X_test = np.reshape(X_test, (X_test.shape[0], lstm_num_timesteps, lstm_num_features))"
   ]
  },
  {
   "cell_type": "code",
   "execution_count": 331,
   "metadata": {},
   "outputs": [
    {
     "name": "stdout",
     "output_type": "stream",
     "text": [
      "Epoch 1/100\n",
      "95/95 [==============================] - 0s - loss: 1903.3793     \n",
      "Epoch 2/100\n",
      "95/95 [==============================] - 0s - loss: 313.0043     \n",
      "Epoch 3/100\n",
      "95/95 [==============================] - 0s - loss: 11.6479     \n",
      "Epoch 4/100\n",
      "95/95 [==============================] - 0s - loss: 3.6512     \n",
      "Epoch 5/100\n",
      "95/95 [==============================] - 0s - loss: 3.6223     \n",
      "Epoch 6/100\n",
      "95/95 [==============================] - 0s - loss: 3.5881     \n",
      "Epoch 7/100\n",
      "95/95 [==============================] - 0s - loss: 3.5611     \n",
      "Epoch 8/100\n",
      "95/95 [==============================] - 0s - loss: 3.5458     \n",
      "Epoch 9/100\n",
      "95/95 [==============================] - 0s - loss: 3.4458     \n",
      "Epoch 10/100\n",
      "95/95 [==============================] - 0s - loss: 3.4961     \n",
      "Epoch 11/100\n",
      "95/95 [==============================] - 0s - loss: 3.4285     \n",
      "Epoch 12/100\n",
      "95/95 [==============================] - 0s - loss: 3.3570     \n",
      "Epoch 13/100\n",
      "95/95 [==============================] - 0s - loss: 3.3473     \n",
      "Epoch 14/100\n",
      "95/95 [==============================] - 0s - loss: 3.2743     \n",
      "Epoch 15/100\n",
      "95/95 [==============================] - 0s - loss: 3.2149     \n",
      "Epoch 16/100\n",
      "95/95 [==============================] - 0s - loss: 3.1430     \n",
      "Epoch 17/100\n",
      "95/95 [==============================] - 0s - loss: 3.1281     \n",
      "Epoch 18/100\n",
      "95/95 [==============================] - 0s - loss: 3.0606     - ETA: 0s - lo - ETA: 0s - loss: 3.050\n",
      "Epoch 19/100\n",
      "95/95 [==============================] - 0s - loss: 2.9640     \n",
      "Epoch 20/100\n",
      "95/95 [==============================] - 0s - loss: 2.9304     \n",
      "Epoch 21/100\n",
      "95/95 [==============================] - 0s - loss: 2.8873     - ETA: 0s\n",
      "Epoch 22/100\n",
      "95/95 [==============================] - 0s - loss: 2.8940     \n",
      "Epoch 23/100\n",
      "95/95 [==============================] - 0s - loss: 2.7046     \n",
      "Epoch 24/100\n",
      "95/95 [==============================] - 0s - loss: 2.7453     \n",
      "Epoch 25/100\n",
      "95/95 [==============================] - 0s - loss: 2.6845     \n",
      "Epoch 26/100\n",
      "95/95 [==============================] - 0s - loss: 2.5484     \n",
      "Epoch 27/100\n",
      "95/95 [==============================] - 0s - loss: 2.5289     - ETA: 0s - loss: 2.482\n",
      "Epoch 28/100\n",
      "95/95 [==============================] - 0s - loss: 2.4040     - ETA: 0s - loss\n",
      "Epoch 29/100\n",
      "95/95 [==============================] - 0s - loss: 2.3396     - ETA: 0s - lo\n",
      "Epoch 30/100\n",
      "95/95 [==============================] - 0s - loss: 2.2556     \n",
      "Epoch 31/100\n",
      "95/95 [==============================] - 0s - loss: 2.1547     \n",
      "Epoch 32/100\n",
      "95/95 [==============================] - 0s - loss: 2.0291     \n",
      "Epoch 33/100\n",
      "95/95 [==============================] - 0s - loss: 1.9920     \n",
      "Epoch 34/100\n",
      "95/95 [==============================] - 0s - loss: 1.8845     \n",
      "Epoch 35/100\n",
      "95/95 [==============================] - 0s - loss: 1.9167     \n",
      "Epoch 36/100\n",
      "95/95 [==============================] - 0s - loss: 1.7666     \n",
      "Epoch 37/100\n",
      "95/95 [==============================] - 0s - loss: 1.7032     \n",
      "Epoch 38/100\n",
      "95/95 [==============================] - 0s - loss: 1.5950     \n",
      "Epoch 39/100\n",
      "95/95 [==============================] - 0s - loss: 1.6104     \n",
      "Epoch 40/100\n",
      "95/95 [==============================] - 0s - loss: 1.4728     \n",
      "Epoch 41/100\n",
      "95/95 [==============================] - 0s - loss: 1.5377     \n",
      "Epoch 42/100\n",
      "95/95 [==============================] - 0s - loss: 1.4131     \n",
      "Epoch 43/100\n",
      "95/95 [==============================] - 0s - loss: 1.2270     \n",
      "Epoch 44/100\n",
      "95/95 [==============================] - 0s - loss: 1.2097     \n",
      "Epoch 45/100\n",
      "95/95 [==============================] - 0s - loss: 1.0880     \n",
      "Epoch 46/100\n",
      "95/95 [==============================] - 0s - loss: 1.0665     \n",
      "Epoch 47/100\n",
      "95/95 [==============================] - 0s - loss: 0.9818     \n",
      "Epoch 48/100\n",
      "95/95 [==============================] - 0s - loss: 0.8969     \n",
      "Epoch 49/100\n",
      "95/95 [==============================] - 0s - loss: 0.8746     \n",
      "Epoch 50/100\n",
      "95/95 [==============================] - 0s - loss: 0.7936     \n",
      "Epoch 51/100\n",
      "95/95 [==============================] - 0s - loss: 0.7726     \n",
      "Epoch 52/100\n",
      "95/95 [==============================] - 0s - loss: 0.8190     \n",
      "Epoch 53/100\n",
      "95/95 [==============================] - 0s - loss: 0.6210     \n",
      "Epoch 54/100\n",
      "95/95 [==============================] - 0s - loss: 0.5893     - ETA: 0s - l\n",
      "Epoch 55/100\n",
      "95/95 [==============================] - 0s - loss: 0.5428     \n",
      "Epoch 56/100\n",
      "95/95 [==============================] - 0s - loss: 0.5269     \n",
      "Epoch 57/100\n",
      "95/95 [==============================] - 0s - loss: 0.4888     \n",
      "Epoch 58/100\n",
      "95/95 [==============================] - 0s - loss: 0.4948     \n",
      "Epoch 59/100\n",
      "95/95 [==============================] - 0s - loss: 0.3820     \n",
      "Epoch 60/100\n",
      "95/95 [==============================] - 0s - loss: 0.3319     \n",
      "Epoch 61/100\n",
      "95/95 [==============================] - 0s - loss: 0.3507     - ETA: \n",
      "Epoch 62/100\n",
      "95/95 [==============================] - 0s - loss: 0.2681     \n",
      "Epoch 63/100\n",
      "95/95 [==============================] - 0s - loss: 0.2570     \n",
      "Epoch 64/100\n",
      "95/95 [==============================] - 0s - loss: 0.2594     \n",
      "Epoch 65/100\n",
      "95/95 [==============================] - 0s - loss: 0.1837     - ETA: 0s - loss: 0\n",
      "Epoch 66/100\n",
      "95/95 [==============================] - 0s - loss: 0.1884     \n",
      "Epoch 67/100\n",
      "95/95 [==============================] - 0s - loss: 0.1328     \n",
      "Epoch 68/100\n",
      "95/95 [==============================] - 0s - loss: 0.1236     \n",
      "Epoch 69/100\n",
      "95/95 [==============================] - 0s - loss: 0.1201     \n",
      "Epoch 70/100\n",
      "95/95 [==============================] - 0s - loss: 0.1092     \n",
      "Epoch 71/100\n",
      "95/95 [==============================] - 0s - loss: 0.0862     \n",
      "Epoch 72/100\n",
      "95/95 [==============================] - 0s - loss: 0.0744     \n",
      "Epoch 73/100\n",
      "95/95 [==============================] - 0s - loss: 0.0635     \n",
      "Epoch 74/100\n",
      "95/95 [==============================] - 0s - loss: 0.0459     \n",
      "Epoch 75/100\n",
      "95/95 [==============================] - 0s - loss: 0.0375     \n",
      "Epoch 76/100\n",
      "95/95 [==============================] - 0s - loss: 0.0370     \n",
      "Epoch 77/100\n",
      "95/95 [==============================] - 0s - loss: 0.0289     \n",
      "Epoch 78/100\n",
      "95/95 [==============================] - 0s - loss: 0.0224     \n",
      "Epoch 79/100\n",
      "95/95 [==============================] - 0s - loss: 0.0277     \n",
      "Epoch 80/100\n",
      "95/95 [==============================] - 0s - loss: 0.0167     \n",
      "Epoch 81/100\n",
      "95/95 [==============================] - 0s - loss: 0.0107     \n",
      "Epoch 82/100\n",
      "95/95 [==============================] - 0s - loss: 0.0078     - ETA: 0\n",
      "Epoch 83/100\n",
      "95/95 [==============================] - 0s - loss: 0.0059     \n",
      "Epoch 84/100\n",
      "95/95 [==============================] - 0s - loss: 0.0050     \n",
      "Epoch 85/100\n",
      "95/95 [==============================] - 0s - loss: 0.0043     \n",
      "Epoch 86/100\n",
      "95/95 [==============================] - 0s - loss: 0.0039     \n",
      "Epoch 87/100\n",
      "95/95 [==============================] - ETA: 0s - loss: 0.001 - 0s - loss: 0.0017     \n",
      "Epoch 88/100\n",
      "95/95 [==============================] - 0s - loss: 0.0051     \n",
      "Epoch 89/100\n",
      "95/95 [==============================] - 0s - loss: 0.0027     \n",
      "Epoch 90/100\n",
      "95/95 [==============================] - 0s - loss: 5.7341e-04     \n",
      "Epoch 91/100\n",
      "95/95 [==============================] - 0s - loss: 5.8481e-04     \n",
      "Epoch 92/100\n",
      "95/95 [==============================] - 0s - loss: 4.5740e-04     \n",
      "Epoch 93/100\n",
      "95/95 [==============================] - 0s - loss: 3.0312e-04     \n",
      "Epoch 94/100\n",
      "95/95 [==============================] - 0s - loss: 1.7325e-04     \n",
      "Epoch 95/100\n",
      "95/95 [==============================] - 0s - loss: 1.9363e-04     \n",
      "Epoch 96/100\n",
      "95/95 [==============================] - 0s - loss: 7.1068e-05     \n",
      "Epoch 97/100\n",
      "95/95 [==============================] - 0s - loss: 2.1942e-05     \n",
      "Epoch 98/100\n",
      "95/95 [==============================] - 0s - loss: 1.5319e-05     \n",
      "Epoch 99/100\n",
      "95/95 [==============================] - 0s - loss: 2.7794e-05     \n",
      "Epoch 100/100\n",
      "95/95 [==============================] - 0s - loss: 1.8771e-05     - ETA: 0s - loss:\n"
     ]
    }
   ],
   "source": [
    "model = Sequential()\n",
    "\n",
    "if use_LSTM:\n",
    "    model.add(LSTM(4, input_dim=lstm_num_features))\n",
    "else:\n",
    "    model.add(Dense(8, input_dim=window_size, activation='relu'))\n",
    "    \n",
    "model.add(Dense(1))\n",
    "model.compile(loss='mean_squared_error', optimizer='adam')\n",
    "\n",
    "if use_LSTM:\n",
    "    model.fit(X_train, y_train, nb_epoch=10, batch_size=1)\n",
    "else:\n",
    "    hist = model.fit(X_train, y_train, nb_epoch=100, batch_size=1, verbose = 1)"
   ]
  },
  {
   "cell_type": "code",
   "execution_count": 332,
   "metadata": {},
   "outputs": [
    {
     "data": {
      "text/plain": [
       "{'batch_size': 1,\n",
       " 'do_validation': False,\n",
       " 'metrics': ['loss'],\n",
       " 'nb_epoch': 100,\n",
       " 'nb_sample': 95,\n",
       " 'verbose': 1}"
      ]
     },
     "execution_count": 332,
     "metadata": {},
     "output_type": "execute_result"
    }
   ],
   "source": [
    "hist.params"
   ]
  },
  {
   "cell_type": "code",
   "execution_count": 333,
   "metadata": {},
   "outputs": [
    {
     "data": {
      "text/plain": [
       "(['loss'], [])"
      ]
     },
     "execution_count": 333,
     "metadata": {},
     "output_type": "execute_result"
    }
   ],
   "source": [
    "model.metrics_names, model.metrics_tensors"
   ]
  },
  {
   "cell_type": "code",
   "execution_count": 334,
   "metadata": {},
   "outputs": [
    {
     "name": "stdout",
     "output_type": "stream",
     "text": [
      "15/15 [==============================] - 0s\n"
     ]
    },
    {
     "data": {
      "text/plain": [
       "0.00012289897131267935"
      ]
     },
     "execution_count": 334,
     "metadata": {},
     "output_type": "execute_result"
    }
   ],
   "source": [
    "model.evaluate(X_test, y_test, batch_size = X_test.shape[0])"
   ]
  },
  {
   "cell_type": "code",
   "execution_count": 335,
   "metadata": {
    "collapsed": true
   },
   "outputs": [],
   "source": [
    "pred_train = model.predict(X_train)\n",
    "pred_test = model.predict(X_test)"
   ]
  },
  {
   "cell_type": "code",
   "execution_count": 336,
   "metadata": {},
   "outputs": [
    {
     "data": {
      "text/plain": [
       "(array([ 6,  7,  8,  9, 10, 11, 12, 13, 14, 15]),\n",
       " array([  5.9979248 ,   6.99804735,   7.9981699 ,   8.99829292,\n",
       "          9.99841595,  10.99853897,  11.99866199,  12.99878407,\n",
       "         13.99890804,  14.99903011], dtype=float32))"
      ]
     },
     "execution_count": 336,
     "metadata": {},
     "output_type": "execute_result"
    }
   ],
   "source": [
    "y_train[:10],pred_train[:10,0]"
   ]
  },
  {
   "cell_type": "code",
   "execution_count": 337,
   "metadata": {},
   "outputs": [
    {
     "data": {
      "text/plain": [
       "(array([106, 107, 108, 109, 110, 111, 112, 113, 114, 115]),\n",
       " array([ 106.01021576,  107.0103302 ,  108.0104599 ,  109.0105896 ,\n",
       "         110.01070404,  111.01082611,  112.01095581,  113.01107025,\n",
       "         114.01119232,  115.01132965], dtype=float32))"
      ]
     },
     "execution_count": 337,
     "metadata": {},
     "output_type": "execute_result"
    }
   ],
   "source": [
    "y_test[:10],pred_test[:10,0]"
   ]
  },
  {
   "cell_type": "code",
   "execution_count": 338,
   "metadata": {},
   "outputs": [
    {
     "name": "stdout",
     "output_type": "stream",
     "text": [
      "Train Score: 0.01 RMSE\n",
      "Test Score: 0.01 RMSE\n"
     ]
    }
   ],
   "source": [
    "# invert predictions\n",
    "#pred_train = scaler.inverse_transform(pred_train)\n",
    "#y_train = scaler.inverse_transform([y_train])\n",
    "#pred_test = scaler.inverse_transform(pred_test)\n",
    "#y_test = scaler.inverse_transform([y_test])\n",
    "\n",
    "# calculate root mean squared error\n",
    "rsme_train = math.sqrt(mean_squared_error(y_train, pred_train[:,0]))\n",
    "print('Train Score: %.2f RMSE' % (rsme_train))\n",
    "rsme_test = math.sqrt(mean_squared_error(y_test, pred_test[:,0]))\n",
    "print('Test Score: %.2f RMSE' % (rsme_test))"
   ]
  },
  {
   "cell_type": "code",
   "execution_count": 339,
   "metadata": {},
   "outputs": [
    {
     "name": "stdout",
     "output_type": "stream",
     "text": [
      "100 95 95\n"
     ]
    },
    {
     "data": {
      "text/plain": [
       "(20, 15, 15)"
      ]
     },
     "execution_count": 339,
     "metadata": {},
     "output_type": "execute_result"
    }
   ],
   "source": [
    "print(len(ts_train), len(pred_train), len(y_train))\n",
    "len(ts_test), len(pred_test), len(y_test) "
   ]
  },
  {
   "cell_type": "code",
   "execution_count": 340,
   "metadata": {},
   "outputs": [
    {
     "name": "stdout",
     "output_type": "stream",
     "text": [
      "120\n"
     ]
    },
    {
     "data": {
      "text/plain": [
       "array([[-9223372036854775808],\n",
       "       [-9223372036854775808],\n",
       "       [-9223372036854775808],\n",
       "       [-9223372036854775808],\n",
       "       [-9223372036854775808],\n",
       "       [                   5],\n",
       "       [                   6],\n",
       "       [                   7],\n",
       "       [                   8],\n",
       "       [                   9],\n",
       "       [                  10],\n",
       "       [                  11],\n",
       "       [                  12],\n",
       "       [                  13],\n",
       "       [                  14],\n",
       "       [                  15],\n",
       "       [                  16],\n",
       "       [                  17],\n",
       "       [                  18],\n",
       "       [                  19],\n",
       "       [                  20],\n",
       "       [                  21],\n",
       "       [                  23],\n",
       "       [                  24],\n",
       "       [                  25],\n",
       "       [                  26],\n",
       "       [                  27],\n",
       "       [                  28],\n",
       "       [                  29],\n",
       "       [                  30],\n",
       "       [                  31],\n",
       "       [                  32],\n",
       "       [                  33],\n",
       "       [                  34],\n",
       "       [                  35],\n",
       "       [                  36],\n",
       "       [                  37],\n",
       "       [                  38],\n",
       "       [                  39],\n",
       "       [                  40],\n",
       "       [                  41],\n",
       "       [                  42],\n",
       "       [                  43],\n",
       "       [                  44],\n",
       "       [                  45],\n",
       "       [                  46],\n",
       "       [                  47],\n",
       "       [                  48],\n",
       "       [                  49],\n",
       "       [                  50],\n",
       "       [                  51],\n",
       "       [                  52],\n",
       "       [                  53],\n",
       "       [                  54],\n",
       "       [                  55],\n",
       "       [                  56],\n",
       "       [                  57],\n",
       "       [                  58],\n",
       "       [                  59],\n",
       "       [                  60],\n",
       "       [                  61],\n",
       "       [                  62],\n",
       "       [                  63],\n",
       "       [                  64],\n",
       "       [                  65],\n",
       "       [                  66],\n",
       "       [                  67],\n",
       "       [                  68],\n",
       "       [                  69],\n",
       "       [                  70],\n",
       "       [                  71],\n",
       "       [                  72],\n",
       "       [                  73],\n",
       "       [                  74],\n",
       "       [                  75],\n",
       "       [                  76],\n",
       "       [                  77],\n",
       "       [                  78],\n",
       "       [                  79],\n",
       "       [                  80],\n",
       "       [                  81],\n",
       "       [                  82],\n",
       "       [                  83],\n",
       "       [                  84],\n",
       "       [                  85],\n",
       "       [                  86],\n",
       "       [                  87],\n",
       "       [                  88],\n",
       "       [                  89],\n",
       "       [                  90],\n",
       "       [                  91],\n",
       "       [                  92],\n",
       "       [                  93],\n",
       "       [                  94],\n",
       "       [                  95],\n",
       "       [                  96],\n",
       "       [                  97],\n",
       "       [                  98],\n",
       "       [                  99],\n",
       "       [                 100],\n",
       "       [-9223372036854775808],\n",
       "       [-9223372036854775808],\n",
       "       [-9223372036854775808],\n",
       "       [-9223372036854775808],\n",
       "       [-9223372036854775808],\n",
       "       [-9223372036854775808],\n",
       "       [-9223372036854775808],\n",
       "       [-9223372036854775808],\n",
       "       [-9223372036854775808],\n",
       "       [-9223372036854775808],\n",
       "       [-9223372036854775808],\n",
       "       [-9223372036854775808],\n",
       "       [-9223372036854775808],\n",
       "       [-9223372036854775808],\n",
       "       [-9223372036854775808],\n",
       "       [-9223372036854775808],\n",
       "       [-9223372036854775808],\n",
       "       [-9223372036854775808],\n",
       "       [-9223372036854775808],\n",
       "       [-9223372036854775808]])"
      ]
     },
     "execution_count": 340,
     "metadata": {},
     "output_type": "execute_result"
    }
   ],
   "source": [
    "# shift train predictions for plotting\n",
    "pred_train_shifted = np.empty_like(ts_all)\n",
    "print(pred_train_shifted.size)\n",
    "pred_train_shifted[:, :] = np.nan\n",
    "# train predictions start at position window_size + 1 (or window_size, if counting from 0)\n",
    "pred_train_shifted[window_size : len(pred_train) + window_size, :] = pred_train\n",
    "pred_train_shifted[:]"
   ]
  },
  {
   "cell_type": "code",
   "execution_count": 344,
   "metadata": {},
   "outputs": [
    {
     "data": {
      "text/plain": [
       "array([[-9223372036854775808],\n",
       "       [-9223372036854775808],\n",
       "       [-9223372036854775808],\n",
       "       [-9223372036854775808],\n",
       "       [-9223372036854775808],\n",
       "       [-9223372036854775808],\n",
       "       [-9223372036854775808],\n",
       "       [-9223372036854775808],\n",
       "       [-9223372036854775808],\n",
       "       [-9223372036854775808],\n",
       "       [-9223372036854775808],\n",
       "       [-9223372036854775808],\n",
       "       [-9223372036854775808],\n",
       "       [-9223372036854775808],\n",
       "       [-9223372036854775808],\n",
       "       [-9223372036854775808],\n",
       "       [-9223372036854775808],\n",
       "       [-9223372036854775808],\n",
       "       [-9223372036854775808],\n",
       "       [-9223372036854775808],\n",
       "       [-9223372036854775808],\n",
       "       [-9223372036854775808],\n",
       "       [-9223372036854775808],\n",
       "       [-9223372036854775808],\n",
       "       [-9223372036854775808],\n",
       "       [-9223372036854775808],\n",
       "       [-9223372036854775808],\n",
       "       [-9223372036854775808],\n",
       "       [-9223372036854775808],\n",
       "       [-9223372036854775808],\n",
       "       [-9223372036854775808],\n",
       "       [-9223372036854775808],\n",
       "       [-9223372036854775808],\n",
       "       [-9223372036854775808],\n",
       "       [-9223372036854775808],\n",
       "       [-9223372036854775808],\n",
       "       [-9223372036854775808],\n",
       "       [-9223372036854775808],\n",
       "       [-9223372036854775808],\n",
       "       [-9223372036854775808],\n",
       "       [-9223372036854775808],\n",
       "       [-9223372036854775808],\n",
       "       [-9223372036854775808],\n",
       "       [-9223372036854775808],\n",
       "       [-9223372036854775808],\n",
       "       [-9223372036854775808],\n",
       "       [-9223372036854775808],\n",
       "       [-9223372036854775808],\n",
       "       [-9223372036854775808],\n",
       "       [-9223372036854775808],\n",
       "       [-9223372036854775808],\n",
       "       [-9223372036854775808],\n",
       "       [-9223372036854775808],\n",
       "       [-9223372036854775808],\n",
       "       [-9223372036854775808],\n",
       "       [-9223372036854775808],\n",
       "       [-9223372036854775808],\n",
       "       [-9223372036854775808],\n",
       "       [-9223372036854775808],\n",
       "       [-9223372036854775808],\n",
       "       [-9223372036854775808],\n",
       "       [-9223372036854775808],\n",
       "       [-9223372036854775808],\n",
       "       [-9223372036854775808],\n",
       "       [-9223372036854775808],\n",
       "       [-9223372036854775808],\n",
       "       [-9223372036854775808],\n",
       "       [-9223372036854775808],\n",
       "       [-9223372036854775808],\n",
       "       [-9223372036854775808],\n",
       "       [-9223372036854775808],\n",
       "       [-9223372036854775808],\n",
       "       [-9223372036854775808],\n",
       "       [-9223372036854775808],\n",
       "       [-9223372036854775808],\n",
       "       [-9223372036854775808],\n",
       "       [-9223372036854775808],\n",
       "       [-9223372036854775808],\n",
       "       [-9223372036854775808],\n",
       "       [-9223372036854775808],\n",
       "       [-9223372036854775808],\n",
       "       [-9223372036854775808],\n",
       "       [-9223372036854775808],\n",
       "       [-9223372036854775808],\n",
       "       [-9223372036854775808],\n",
       "       [-9223372036854775808],\n",
       "       [-9223372036854775808],\n",
       "       [-9223372036854775808],\n",
       "       [-9223372036854775808],\n",
       "       [-9223372036854775808],\n",
       "       [-9223372036854775808],\n",
       "       [-9223372036854775808],\n",
       "       [-9223372036854775808],\n",
       "       [-9223372036854775808],\n",
       "       [-9223372036854775808],\n",
       "       [-9223372036854775808],\n",
       "       [-9223372036854775808],\n",
       "       [-9223372036854775808],\n",
       "       [-9223372036854775808],\n",
       "       [-9223372036854775808],\n",
       "       [-9223372036854775808],\n",
       "       [-9223372036854775808],\n",
       "       [-9223372036854775808],\n",
       "       [-9223372036854775808],\n",
       "       [-9223372036854775808],\n",
       "       [                 106],\n",
       "       [                 107],\n",
       "       [                 108],\n",
       "       [                 109],\n",
       "       [                 110],\n",
       "       [                 111],\n",
       "       [                 112],\n",
       "       [                 113],\n",
       "       [                 114],\n",
       "       [                 115],\n",
       "       [                 116],\n",
       "       [                 117],\n",
       "       [                 118],\n",
       "       [                 119],\n",
       "       [                 120]])"
      ]
     },
     "execution_count": 344,
     "metadata": {},
     "output_type": "execute_result"
    }
   ],
   "source": [
    "# shift test predictions for plotting\n",
    "pred_test_shifted = np.empty_like(ts_all)\n",
    "pred_test_shifted[:, :] = np.nan\n",
    "pred_test_shifted[len(pred_train) + (window_size * 2) : len_overall + 1, :] = pred_test\n",
    "pred_test_shifted[:]"
   ]
  },
  {
   "cell_type": "code",
   "execution_count": 343,
   "metadata": {},
   "outputs": [
    {
     "data": {
      "image/png": "[encoded data removed]",
      "text/plain": [
       "<matplotlib.figure.Figure at 0x7f58f11aef28>"
      ]
     },
     "metadata": {},
     "output_type": "display_data"
    }
   ],
   "source": [
    "#plt.plot(scaler.inverse_transform(dataset))\n",
    "plt.plot(ts_all)\n",
    "#plt.plot(pred_train_shifted)\n",
    "#plt.plot(pred_test_shifted)\n",
    "plt.show()"
   ]
  },
  {
   "cell_type": "code",
   "execution_count": null,
   "metadata": {
    "collapsed": true
   },
   "outputs": [],
   "source": []
  },
  {
   "cell_type": "code",
   "execution_count": null,
   "metadata": {
    "collapsed": true
   },
   "outputs": [],
   "source": []
  }
 ],
 "metadata": {
  "anaconda-cloud": {},
  "kernelspec": {
   "display_name": "Python 3",
   "language": "python",
   "name": "python3"
  },
  "language_info": {
   "codemirror_mode": {
    "name": "ipython",
    "version": 3
   },
   "file_extension": ".py",
   "mimetype": "text/x-python",
   "name": "python",
   "nbconvert_exporter": "python",
   "pygments_lexer": "ipython3",
   "version": "3.5.3"
  }
 },
 "nbformat": 4,
 "nbformat_minor": 1
}

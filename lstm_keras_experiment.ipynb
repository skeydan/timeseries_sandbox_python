{
 "cells": [
  {
   "cell_type": "code",
   "execution_count": 1,
   "metadata": {},
   "outputs": [
    {
     "name": "stderr",
     "output_type": "stream",
     "text": [
      "Using TensorFlow backend.\n"
     ]
    }
   ],
   "source": [
    "import pandas as pd\n",
    "import matplotlib.pyplot as plt\n",
    "from keras.models import Sequential\n",
    "from keras.models import load_model\n",
    "from keras.layers import Dense\n",
    "from keras.layers import TimeDistributed\n",
    "from keras.layers import LSTM\n",
    "from keras.layers import Activation\n",
    "import math\n",
    "from sklearn.preprocessing import MinMaxScaler\n",
    "from sklearn.preprocessing import StandardScaler\n",
    "from sklearn.metrics import mean_squared_error\n",
    "import numpy as np\n",
    "\n",
    "%matplotlib inline\n",
    "plt.rcParams['figure.figsize'] = (16, 10)"
   ]
  },
  {
   "cell_type": "code",
   "execution_count": 2,
   "metadata": {
    "collapsed": true
   },
   "outputs": [],
   "source": [
    "# TBD different random seeds\n",
    "np.random.seed(7)"
   ]
  },
  {
   "cell_type": "code",
   "execution_count": 3,
   "metadata": {
    "collapsed": true
   },
   "outputs": [],
   "source": [
    "# whether to use LSTM or MLP\n",
    "use_LSTM = True\n",
    "\n",
    "# number of features used in the regression (for MLP)\n",
    "mlp_num_features = 5\n",
    "#\n",
    "\n",
    "# lstm_num_timesteps\n",
    "lstm_num_timesteps = 5\n",
    "\n",
    "# predict several timesteps at once\n",
    "lstm_predict_sequences = True\n",
    "lstm_num_predictions = lstm_num_timesteps\n",
    "\n",
    "# lstm_num_features\n",
    "lstm_num_features = 1\n",
    "# stateful?\n",
    "lstm_stateful = False\n",
    "# use two lstm layers?\n",
    "lstm_stack_layers = False\n",
    "\n",
    "# window_size\n",
    "window_size = lstm_num_timesteps if use_LSTM else mlp_num_features\n",
    "\n",
    "batch_size = 1\n",
    "num_epochs = 50\n",
    "# dimensionality of the output space\n",
    "num_neurons = 4\n",
    "\n",
    "# scale the dataset to values between scale_min and scale_max\n",
    "scale = False\n",
    "scale_min = -1\n",
    "scale_max = 1\n",
    "#scaler = MinMaxScaler(feature_range=(scale_min, scale_max))\n",
    "scaler = StandardScaler()\n",
    "\n",
    "# number of consecutive (dependent) predictions\n",
    "prediction_window = 5 \n"
   ]
  },
  {
   "cell_type": "code",
   "execution_count": 4,
   "metadata": {
    "collapsed": true
   },
   "outputs": [],
   "source": [
    "testname = 'trend'\n",
    "properties = 'lstm_' + str(use_LSTM) + '_stateful_' + str(lstm_stateful) + '_window_' + str(window_size) + '_predict_sequences_' + str(lstm_predict_sequences) + '_epochs_' + str(num_epochs) + '_2layers_' + str(lstm_stack_layers) + '_scale_' + str(scale)\n",
    "model_name = testname + '_' + properties + '.h5'\n",
    "fig_name = testname + '_' + properties + '.png'\n",
    "fig_name_multiple = testname + '_' + properties + '_multiplepreds_' + str(prediction_window) + '.png'\n",
    "\n",
    "\n",
    "model_exists = False"
   ]
  },
  {
   "cell_type": "code",
   "execution_count": 5,
   "metadata": {
    "collapsed": true
   },
   "outputs": [],
   "source": [
    "# various test datasets\n",
    "ts_train_lineartrend = np.arange(11,111, dtype='float64')\n",
    "ts_test_lineartrend_outofrange = np.arange(111,131, dtype='float64')\n",
    "ts_test_lineartrend_withinrange = np.arange(31,61, dtype='float64')\n",
    "\n",
    "ts_train_seasonal = np.tile(np.arange(1,8, dtype='float64'),12)\n",
    "ts_test_seasonal = np.tile(np.arange(1,8, dtype='float64'),3)"
   ]
  },
  {
   "cell_type": "code",
   "execution_count": 6,
   "metadata": {
    "collapsed": true
   },
   "outputs": [],
   "source": [
    "ts_train = ts_train_lineartrend\n",
    "ts_test = ts_test_lineartrend_withinrange\n"
   ]
  },
  {
   "cell_type": "code",
   "execution_count": 7,
   "metadata": {
    "collapsed": true
   },
   "outputs": [],
   "source": [
    "ts_all = np.append(ts_train, ts_test)\n",
    "len_overall = len(ts_all)"
   ]
  },
  {
   "cell_type": "code",
   "execution_count": 8,
   "metadata": {
    "collapsed": true
   },
   "outputs": [],
   "source": [
    "ts_train = np.expand_dims(ts_train, axis = 1)\n",
    "ts_test = np.expand_dims(ts_test, axis = 1)\n",
    "ts_all = np.expand_dims(ts_all, axis = 1)\n"
   ]
  },
  {
   "cell_type": "code",
   "execution_count": 9,
   "metadata": {},
   "outputs": [
    {
     "data": {
      "text/plain": [
       "((100, 1), (30, 1))"
      ]
     },
     "execution_count": 9,
     "metadata": {},
     "output_type": "execute_result"
    }
   ],
   "source": [
    "ts_train.shape, ts_test.shape"
   ]
  },
  {
   "cell_type": "code",
   "execution_count": 10,
   "metadata": {},
   "outputs": [
    {
     "data": {
      "text/plain": [
       "array([[ 11.],\n",
       "       [ 12.],\n",
       "       [ 13.],\n",
       "       [ 14.],\n",
       "       [ 15.],\n",
       "       [ 16.],\n",
       "       [ 17.],\n",
       "       [ 18.],\n",
       "       [ 19.],\n",
       "       [ 20.]])"
      ]
     },
     "execution_count": 10,
     "metadata": {},
     "output_type": "execute_result"
    }
   ],
   "source": [
    "ts_train[:10]"
   ]
  },
  {
   "cell_type": "code",
   "execution_count": 11,
   "metadata": {},
   "outputs": [
    {
     "data": {
      "text/plain": [
       "array([[ 31.],\n",
       "       [ 32.],\n",
       "       [ 33.],\n",
       "       [ 34.],\n",
       "       [ 35.],\n",
       "       [ 36.],\n",
       "       [ 37.],\n",
       "       [ 38.],\n",
       "       [ 39.],\n",
       "       [ 40.]])"
      ]
     },
     "execution_count": 11,
     "metadata": {},
     "output_type": "execute_result"
    }
   ],
   "source": [
    "ts_test[:10]"
   ]
  },
  {
   "cell_type": "code",
   "execution_count": 12,
   "metadata": {
    "collapsed": true
   },
   "outputs": [],
   "source": [
    "if scale:\n",
    "    ts_train = scaler.fit_transform(ts_train)\n",
    "    ts_test = scaler.transform(ts_test)"
   ]
  },
  {
   "cell_type": "code",
   "execution_count": 13,
   "metadata": {},
   "outputs": [
    {
     "data": {
      "text/plain": [
       "array([[ 11.],\n",
       "       [ 12.],\n",
       "       [ 13.],\n",
       "       [ 14.],\n",
       "       [ 15.],\n",
       "       [ 16.],\n",
       "       [ 17.],\n",
       "       [ 18.],\n",
       "       [ 19.],\n",
       "       [ 20.]])"
      ]
     },
     "execution_count": 13,
     "metadata": {},
     "output_type": "execute_result"
    }
   ],
   "source": [
    "ts_train[:10]"
   ]
  },
  {
   "cell_type": "code",
   "execution_count": 14,
   "metadata": {},
   "outputs": [
    {
     "data": {
      "text/plain": [
       "array([[ 31.],\n",
       "       [ 32.],\n",
       "       [ 33.],\n",
       "       [ 34.],\n",
       "       [ 35.],\n",
       "       [ 36.],\n",
       "       [ 37.],\n",
       "       [ 38.],\n",
       "       [ 39.],\n",
       "       [ 40.]])"
      ]
     },
     "execution_count": 14,
     "metadata": {},
     "output_type": "execute_result"
    }
   ],
   "source": [
    "ts_test[:10]"
   ]
  },
  {
   "cell_type": "code",
   "execution_count": 15,
   "metadata": {
    "collapsed": true
   },
   "outputs": [],
   "source": [
    "# convert an array of values into a dataset matrix\n",
    "def create_dataset(dataset, window_size):\n",
    "    dataX, dataY = [], []\n",
    "    for i in range(len(dataset) - window_size):\n",
    "        a = dataset[i:(i + window_size), 0]\n",
    "        dataX.append(a)\n",
    "        dataY.append(dataset[i + window_size, 0])\n",
    "    return np.array(dataX), np.array(dataY)"
   ]
  },
  {
   "cell_type": "code",
   "execution_count": 16,
   "metadata": {
    "collapsed": true
   },
   "outputs": [],
   "source": [
    "def create_dataset_multiple_y(dataset, window_size):\n",
    "    dataX, dataY = [], []\n",
    "    for i in range(len(dataset) - 2 * window_size):\n",
    "        a = dataset[i:(i + window_size), 0]\n",
    "        #print(a)\n",
    "        dataX.append(a)\n",
    "        b = dataset[(i + window_size):(i + 2* window_size), 0]\n",
    "        #print(b)\n",
    "        dataY.append(b)\n",
    "    return np.array(dataX), np.array(dataY)"
   ]
  },
  {
   "cell_type": "code",
   "execution_count": 17,
   "metadata": {},
   "outputs": [
    {
     "data": {
      "text/plain": [
       "((90, 5), (90, 5), (20, 5), (20, 5))"
      ]
     },
     "execution_count": 17,
     "metadata": {},
     "output_type": "execute_result"
    }
   ],
   "source": [
    "if use_LSTM:\n",
    "    if lstm_predict_sequences:\n",
    "        X_train, y_train = create_dataset_multiple_y(ts_train, lstm_num_timesteps)\n",
    "        X_test, y_test = create_dataset_multiple_y(ts_test, lstm_num_timesteps)\n",
    "    else:    \n",
    "        X_train, y_train = create_dataset(ts_train, lstm_num_timesteps)\n",
    "        X_test, y_test = create_dataset(ts_test, lstm_num_timesteps)\n",
    "else:\n",
    "    X_train, y_train = create_dataset(ts_train, mlp_num_features)\n",
    "    X_test, y_test = create_dataset(ts_test, mlp_num_features)\n",
    "    \n",
    "# the train and test matrices end up shorter than the respective timeseries by window_size + 1!\n",
    "X_train.shape, y_train.shape, X_test.shape,  y_test.shape"
   ]
  },
  {
   "cell_type": "code",
   "execution_count": 18,
   "metadata": {},
   "outputs": [
    {
     "data": {
      "text/plain": [
       "array([[  11.,   12.,   13.,   14.,   15.],\n",
       "       [  12.,   13.,   14.,   15.,   16.],\n",
       "       [  13.,   14.,   15.,   16.,   17.],\n",
       "       [  14.,   15.,   16.,   17.,   18.],\n",
       "       [  15.,   16.,   17.,   18.,   19.],\n",
       "       [  16.,   17.,   18.,   19.,   20.],\n",
       "       [  17.,   18.,   19.,   20.,   21.],\n",
       "       [  18.,   19.,   20.,   21.,   22.],\n",
       "       [  19.,   20.,   21.,   22.,   23.],\n",
       "       [  20.,   21.,   22.,   23.,   24.],\n",
       "       [  21.,   22.,   23.,   24.,   25.],\n",
       "       [  22.,   23.,   24.,   25.,   26.],\n",
       "       [  23.,   24.,   25.,   26.,   27.],\n",
       "       [  24.,   25.,   26.,   27.,   28.],\n",
       "       [  25.,   26.,   27.,   28.,   29.],\n",
       "       [  26.,   27.,   28.,   29.,   30.],\n",
       "       [  27.,   28.,   29.,   30.,   31.],\n",
       "       [  28.,   29.,   30.,   31.,   32.],\n",
       "       [  29.,   30.,   31.,   32.,   33.],\n",
       "       [  30.,   31.,   32.,   33.,   34.],\n",
       "       [  31.,   32.,   33.,   34.,   35.],\n",
       "       [  32.,   33.,   34.,   35.,   36.],\n",
       "       [  33.,   34.,   35.,   36.,   37.],\n",
       "       [  34.,   35.,   36.,   37.,   38.],\n",
       "       [  35.,   36.,   37.,   38.,   39.],\n",
       "       [  36.,   37.,   38.,   39.,   40.],\n",
       "       [  37.,   38.,   39.,   40.,   41.],\n",
       "       [  38.,   39.,   40.,   41.,   42.],\n",
       "       [  39.,   40.,   41.,   42.,   43.],\n",
       "       [  40.,   41.,   42.,   43.,   44.],\n",
       "       [  41.,   42.,   43.,   44.,   45.],\n",
       "       [  42.,   43.,   44.,   45.,   46.],\n",
       "       [  43.,   44.,   45.,   46.,   47.],\n",
       "       [  44.,   45.,   46.,   47.,   48.],\n",
       "       [  45.,   46.,   47.,   48.,   49.],\n",
       "       [  46.,   47.,   48.,   49.,   50.],\n",
       "       [  47.,   48.,   49.,   50.,   51.],\n",
       "       [  48.,   49.,   50.,   51.,   52.],\n",
       "       [  49.,   50.,   51.,   52.,   53.],\n",
       "       [  50.,   51.,   52.,   53.,   54.],\n",
       "       [  51.,   52.,   53.,   54.,   55.],\n",
       "       [  52.,   53.,   54.,   55.,   56.],\n",
       "       [  53.,   54.,   55.,   56.,   57.],\n",
       "       [  54.,   55.,   56.,   57.,   58.],\n",
       "       [  55.,   56.,   57.,   58.,   59.],\n",
       "       [  56.,   57.,   58.,   59.,   60.],\n",
       "       [  57.,   58.,   59.,   60.,   61.],\n",
       "       [  58.,   59.,   60.,   61.,   62.],\n",
       "       [  59.,   60.,   61.,   62.,   63.],\n",
       "       [  60.,   61.,   62.,   63.,   64.],\n",
       "       [  61.,   62.,   63.,   64.,   65.],\n",
       "       [  62.,   63.,   64.,   65.,   66.],\n",
       "       [  63.,   64.,   65.,   66.,   67.],\n",
       "       [  64.,   65.,   66.,   67.,   68.],\n",
       "       [  65.,   66.,   67.,   68.,   69.],\n",
       "       [  66.,   67.,   68.,   69.,   70.],\n",
       "       [  67.,   68.,   69.,   70.,   71.],\n",
       "       [  68.,   69.,   70.,   71.,   72.],\n",
       "       [  69.,   70.,   71.,   72.,   73.],\n",
       "       [  70.,   71.,   72.,   73.,   74.],\n",
       "       [  71.,   72.,   73.,   74.,   75.],\n",
       "       [  72.,   73.,   74.,   75.,   76.],\n",
       "       [  73.,   74.,   75.,   76.,   77.],\n",
       "       [  74.,   75.,   76.,   77.,   78.],\n",
       "       [  75.,   76.,   77.,   78.,   79.],\n",
       "       [  76.,   77.,   78.,   79.,   80.],\n",
       "       [  77.,   78.,   79.,   80.,   81.],\n",
       "       [  78.,   79.,   80.,   81.,   82.],\n",
       "       [  79.,   80.,   81.,   82.,   83.],\n",
       "       [  80.,   81.,   82.,   83.,   84.],\n",
       "       [  81.,   82.,   83.,   84.,   85.],\n",
       "       [  82.,   83.,   84.,   85.,   86.],\n",
       "       [  83.,   84.,   85.,   86.,   87.],\n",
       "       [  84.,   85.,   86.,   87.,   88.],\n",
       "       [  85.,   86.,   87.,   88.,   89.],\n",
       "       [  86.,   87.,   88.,   89.,   90.],\n",
       "       [  87.,   88.,   89.,   90.,   91.],\n",
       "       [  88.,   89.,   90.,   91.,   92.],\n",
       "       [  89.,   90.,   91.,   92.,   93.],\n",
       "       [  90.,   91.,   92.,   93.,   94.],\n",
       "       [  91.,   92.,   93.,   94.,   95.],\n",
       "       [  92.,   93.,   94.,   95.,   96.],\n",
       "       [  93.,   94.,   95.,   96.,   97.],\n",
       "       [  94.,   95.,   96.,   97.,   98.],\n",
       "       [  95.,   96.,   97.,   98.,   99.],\n",
       "       [  96.,   97.,   98.,   99.,  100.],\n",
       "       [  97.,   98.,   99.,  100.,  101.],\n",
       "       [  98.,   99.,  100.,  101.,  102.],\n",
       "       [  99.,  100.,  101.,  102.,  103.],\n",
       "       [ 100.,  101.,  102.,  103.,  104.]])"
      ]
     },
     "execution_count": 18,
     "metadata": {},
     "output_type": "execute_result"
    }
   ],
   "source": [
    "X_train[:,:]"
   ]
  },
  {
   "cell_type": "code",
   "execution_count": 19,
   "metadata": {},
   "outputs": [
    {
     "data": {
      "text/plain": [
       "array([[  16.,   17.,   18.,   19.,   20.],\n",
       "       [  17.,   18.,   19.,   20.,   21.],\n",
       "       [  18.,   19.,   20.,   21.,   22.],\n",
       "       [  19.,   20.,   21.,   22.,   23.],\n",
       "       [  20.,   21.,   22.,   23.,   24.],\n",
       "       [  21.,   22.,   23.,   24.,   25.],\n",
       "       [  22.,   23.,   24.,   25.,   26.],\n",
       "       [  23.,   24.,   25.,   26.,   27.],\n",
       "       [  24.,   25.,   26.,   27.,   28.],\n",
       "       [  25.,   26.,   27.,   28.,   29.],\n",
       "       [  26.,   27.,   28.,   29.,   30.],\n",
       "       [  27.,   28.,   29.,   30.,   31.],\n",
       "       [  28.,   29.,   30.,   31.,   32.],\n",
       "       [  29.,   30.,   31.,   32.,   33.],\n",
       "       [  30.,   31.,   32.,   33.,   34.],\n",
       "       [  31.,   32.,   33.,   34.,   35.],\n",
       "       [  32.,   33.,   34.,   35.,   36.],\n",
       "       [  33.,   34.,   35.,   36.,   37.],\n",
       "       [  34.,   35.,   36.,   37.,   38.],\n",
       "       [  35.,   36.,   37.,   38.,   39.],\n",
       "       [  36.,   37.,   38.,   39.,   40.],\n",
       "       [  37.,   38.,   39.,   40.,   41.],\n",
       "       [  38.,   39.,   40.,   41.,   42.],\n",
       "       [  39.,   40.,   41.,   42.,   43.],\n",
       "       [  40.,   41.,   42.,   43.,   44.],\n",
       "       [  41.,   42.,   43.,   44.,   45.],\n",
       "       [  42.,   43.,   44.,   45.,   46.],\n",
       "       [  43.,   44.,   45.,   46.,   47.],\n",
       "       [  44.,   45.,   46.,   47.,   48.],\n",
       "       [  45.,   46.,   47.,   48.,   49.],\n",
       "       [  46.,   47.,   48.,   49.,   50.],\n",
       "       [  47.,   48.,   49.,   50.,   51.],\n",
       "       [  48.,   49.,   50.,   51.,   52.],\n",
       "       [  49.,   50.,   51.,   52.,   53.],\n",
       "       [  50.,   51.,   52.,   53.,   54.],\n",
       "       [  51.,   52.,   53.,   54.,   55.],\n",
       "       [  52.,   53.,   54.,   55.,   56.],\n",
       "       [  53.,   54.,   55.,   56.,   57.],\n",
       "       [  54.,   55.,   56.,   57.,   58.],\n",
       "       [  55.,   56.,   57.,   58.,   59.],\n",
       "       [  56.,   57.,   58.,   59.,   60.],\n",
       "       [  57.,   58.,   59.,   60.,   61.],\n",
       "       [  58.,   59.,   60.,   61.,   62.],\n",
       "       [  59.,   60.,   61.,   62.,   63.],\n",
       "       [  60.,   61.,   62.,   63.,   64.],\n",
       "       [  61.,   62.,   63.,   64.,   65.],\n",
       "       [  62.,   63.,   64.,   65.,   66.],\n",
       "       [  63.,   64.,   65.,   66.,   67.],\n",
       "       [  64.,   65.,   66.,   67.,   68.],\n",
       "       [  65.,   66.,   67.,   68.,   69.],\n",
       "       [  66.,   67.,   68.,   69.,   70.],\n",
       "       [  67.,   68.,   69.,   70.,   71.],\n",
       "       [  68.,   69.,   70.,   71.,   72.],\n",
       "       [  69.,   70.,   71.,   72.,   73.],\n",
       "       [  70.,   71.,   72.,   73.,   74.],\n",
       "       [  71.,   72.,   73.,   74.,   75.],\n",
       "       [  72.,   73.,   74.,   75.,   76.],\n",
       "       [  73.,   74.,   75.,   76.,   77.],\n",
       "       [  74.,   75.,   76.,   77.,   78.],\n",
       "       [  75.,   76.,   77.,   78.,   79.],\n",
       "       [  76.,   77.,   78.,   79.,   80.],\n",
       "       [  77.,   78.,   79.,   80.,   81.],\n",
       "       [  78.,   79.,   80.,   81.,   82.],\n",
       "       [  79.,   80.,   81.,   82.,   83.],\n",
       "       [  80.,   81.,   82.,   83.,   84.],\n",
       "       [  81.,   82.,   83.,   84.,   85.],\n",
       "       [  82.,   83.,   84.,   85.,   86.],\n",
       "       [  83.,   84.,   85.,   86.,   87.],\n",
       "       [  84.,   85.,   86.,   87.,   88.],\n",
       "       [  85.,   86.,   87.,   88.,   89.],\n",
       "       [  86.,   87.,   88.,   89.,   90.],\n",
       "       [  87.,   88.,   89.,   90.,   91.],\n",
       "       [  88.,   89.,   90.,   91.,   92.],\n",
       "       [  89.,   90.,   91.,   92.,   93.],\n",
       "       [  90.,   91.,   92.,   93.,   94.],\n",
       "       [  91.,   92.,   93.,   94.,   95.],\n",
       "       [  92.,   93.,   94.,   95.,   96.],\n",
       "       [  93.,   94.,   95.,   96.,   97.],\n",
       "       [  94.,   95.,   96.,   97.,   98.],\n",
       "       [  95.,   96.,   97.,   98.,   99.],\n",
       "       [  96.,   97.,   98.,   99.,  100.],\n",
       "       [  97.,   98.,   99.,  100.,  101.],\n",
       "       [  98.,   99.,  100.,  101.,  102.],\n",
       "       [  99.,  100.,  101.,  102.,  103.],\n",
       "       [ 100.,  101.,  102.,  103.,  104.],\n",
       "       [ 101.,  102.,  103.,  104.,  105.],\n",
       "       [ 102.,  103.,  104.,  105.,  106.],\n",
       "       [ 103.,  104.,  105.,  106.,  107.],\n",
       "       [ 104.,  105.,  106.,  107.,  108.],\n",
       "       [ 105.,  106.,  107.,  108.,  109.]])"
      ]
     },
     "execution_count": 19,
     "metadata": {},
     "output_type": "execute_result"
    }
   ],
   "source": [
    "y_train[:]"
   ]
  },
  {
   "cell_type": "code",
   "execution_count": 20,
   "metadata": {},
   "outputs": [
    {
     "data": {
      "text/plain": [
       "array([[ 31.,  32.,  33.,  34.,  35.],\n",
       "       [ 32.,  33.,  34.,  35.,  36.],\n",
       "       [ 33.,  34.,  35.,  36.,  37.],\n",
       "       [ 34.,  35.,  36.,  37.,  38.],\n",
       "       [ 35.,  36.,  37.,  38.,  39.]])"
      ]
     },
     "execution_count": 20,
     "metadata": {},
     "output_type": "execute_result"
    }
   ],
   "source": [
    "X_test[:5,:]"
   ]
  },
  {
   "cell_type": "code",
   "execution_count": 21,
   "metadata": {},
   "outputs": [
    {
     "data": {
      "text/plain": [
       "array([[ 36.,  37.,  38.,  39.,  40.],\n",
       "       [ 37.,  38.,  39.,  40.,  41.],\n",
       "       [ 38.,  39.,  40.,  41.,  42.],\n",
       "       [ 39.,  40.,  41.,  42.,  43.],\n",
       "       [ 40.,  41.,  42.,  43.,  44.]])"
      ]
     },
     "execution_count": 21,
     "metadata": {},
     "output_type": "execute_result"
    }
   ],
   "source": [
    "y_test[:5]"
   ]
  },
  {
   "cell_type": "code",
   "execution_count": 24,
   "metadata": {},
   "outputs": [],
   "source": [
    "if use_LSTM:\n",
    "    # reshape input to be [samples, time steps, features]\n",
    "    X_train = np.reshape(X_train, (X_train.shape[0], lstm_num_timesteps, lstm_num_features))\n",
    "    X_test = np.reshape(X_test, (X_test.shape[0], lstm_num_timesteps, lstm_num_features))\n",
    "    \n",
    "    if lstm_predict_sequences:\n",
    "        y_train = np.reshape(y_train, (y_train.shape[0], lstm_num_timesteps, lstm_num_features))\n",
    "        y_test = np.reshape(y_test, (y_test.shape[0], lstm_num_timesteps, lstm_num_features))"
   ]
  },
  {
   "cell_type": "code",
   "execution_count": 25,
   "metadata": {},
   "outputs": [
    {
     "data": {
      "text/plain": [
       "((90, 5, 1), (90, 5, 1), (20, 5, 1), (20, 5, 1))"
      ]
     },
     "execution_count": 25,
     "metadata": {},
     "output_type": "execute_result"
    }
   ],
   "source": [
    "X_train.shape, y_train.shape, X_test.shape,  y_test.shape"
   ]
  },
  {
   "cell_type": "code",
   "execution_count": 26,
   "metadata": {},
   "outputs": [
    {
     "name": "stdout",
     "output_type": "stream",
     "text": [
      "LSTM\n",
      "stateless\n",
      "predict_sequences\n",
      "(1, 5, 4)\n",
      "(1, 5, 1)\n"
     ]
    }
   ],
   "source": [
    "if not model_exists:\n",
    "    \n",
    "    model = Sequential()\n",
    "\n",
    "    # LSTM input shape\n",
    "    # (samples, time steps, features)\n",
    "    # LSTM output shape\n",
    "    # if return_sequences: 3D tensor with shape (batch_size, timesteps, units).\n",
    "    # else, 2D tensor with shape (batch_size, units).\n",
    "\n",
    "    if use_LSTM:\n",
    "\n",
    "        print('LSTM')\n",
    "        # the last state for each sample at index i in a batch will be used as initial state\n",
    "        # for the sample of index i in the following batch\n",
    "        if lstm_stateful:\n",
    "            print('stateful')\n",
    "            #\n",
    "            if lstm_stack_layers:\n",
    "                print('stack_layers')\n",
    "                model.add(LSTM(num_neurons,\n",
    "                           batch_input_shape=(batch_size, X_train.shape[1], X_train.shape[2]),\n",
    "                           stateful = True,\n",
    "                           return_sequences = True))\n",
    "                print(model.output_shape)\n",
    "                model.add(LSTM(num_neurons,\n",
    "                           stateful = True))\n",
    "                print(model.output_shape)\n",
    "                model.add(Dense(1))\n",
    "                print(model.output_shape)\n",
    "                model.compile(loss='mean_squared_error', optimizer='adam')\n",
    "\n",
    "            # \n",
    "            elif lstm_predict_sequences:\n",
    "                print('predict_sequences')\n",
    "                model.add(LSTM(num_neurons,\n",
    "                           batch_input_shape=(batch_size, X_train.shape[1], X_train.shape[2]),\n",
    "                           stateful = True,\n",
    "                           return_sequences = True))\n",
    "                print(model.output_shape)\n",
    "                model.add(TimeDistributed(Dense(1)))\n",
    "                print(model.output_shape)\n",
    "                model.add(Activation(\"linear\"))  \n",
    "                model.compile(loss='mean_squared_error', optimizer='adam')\n",
    "\n",
    "            #    \n",
    "            else:\n",
    "                print('predict single')\n",
    "                model.add(LSTM(num_neurons,\n",
    "                           batch_input_shape=(batch_size, X_train.shape[1], X_train.shape[2]),\n",
    "                           stateful = True))\n",
    "                print(model.output_shape)\n",
    "                model.add(Dense(1))\n",
    "                print(model.output_shape)\n",
    "                model.compile(loss='mean_squared_error', optimizer='adam')\n",
    "\n",
    "\n",
    "\n",
    "        # stateful == False    \n",
    "        else: \n",
    "            print('stateless')\n",
    "\n",
    "            if lstm_stack_layers:\n",
    "                print('stack layers')\n",
    "                # input_dim: dimensionality of the input (alternatively, input_shape)\n",
    "                # required when using this layer as the first layer in a model\n",
    "                model.add(LSTM(num_neurons, input_dim = lstm_num_features, return_sequences = True))\n",
    "                print(model.output_shape)\n",
    "                model.add(LSTM(num_neurons))\n",
    "                print(model.output_shape)\n",
    "                model.add(Dense(1))\n",
    "                print(model.output_shape)\n",
    "                model.compile(loss='mean_squared_error', optimizer='adam')\n",
    "            # \n",
    "            # \n",
    "            elif lstm_predict_sequences:\n",
    "                print('predict_sequences')\n",
    "                model.add(LSTM(num_neurons,\n",
    "                          #  input_dim = lstm_num_features,\n",
    "                           batch_input_shape=(batch_size, X_train.shape[1], X_train.shape[2]), \n",
    "                           return_sequences = True))\n",
    "                print(model.output_shape) \n",
    "                model.add(TimeDistributed(Dense(1)))\n",
    "                print(model.output_shape) \n",
    "                model.compile(loss='mean_squared_error', optimizer='adam')\n",
    "\n",
    "            else:\n",
    "                print('predict single')\n",
    "                model.add(LSTM(num_neurons, \n",
    "                               input_shape=(X_train.shape[1], X_train.shape[2])\n",
    "                               #input_dim = lstm_num_features\n",
    "                              )\n",
    "                              )\n",
    "                print(model.output_shape) \n",
    "                model.add(Dense(1))\n",
    "                print(model.output_shape) \n",
    "                model.compile(loss='mean_squared_error', optimizer='adam')\n",
    "\n",
    "\n",
    "\n",
    "    # feedforward\n",
    "    else:\n",
    "        print('MLP')\n",
    "\n",
    "        model.add(Dense(num_neurons, input_dim = mlp_num_features, activation='relu'))\n",
    "        model.add(Dense(1))\n",
    "        model.compile(loss='mean_squared_error', optimizer='adam')\n",
    "\n",
    "else:\n",
    "    print('loading from file: ' + model_name)\n",
    "    model = load_model(model_name)"
   ]
  },
  {
   "cell_type": "code",
   "execution_count": 27,
   "metadata": {},
   "outputs": [
    {
     "name": "stdout",
     "output_type": "stream",
     "text": [
      "_________________________________________________________________\n",
      "Layer (type)                 Output Shape              Param #   \n",
      "=================================================================\n",
      "lstm_1 (LSTM)                (1, 5, 4)                 96        \n",
      "_________________________________________________________________\n",
      "time_distributed_1 (TimeDist (1, 5, 1)                 5         \n",
      "=================================================================\n",
      "Total params: 101\n",
      "Trainable params: 101\n",
      "Non-trainable params: 0\n",
      "_________________________________________________________________\n"
     ]
    }
   ],
   "source": [
    "model.summary()"
   ]
  },
  {
   "cell_type": "code",
   "execution_count": 28,
   "metadata": {},
   "outputs": [
    {
     "name": "stdout",
     "output_type": "stream",
     "text": [
      "Epoch 1/50\n",
      "90/90 [==============================] - 0s - loss: 4514.5419     \n",
      "Epoch 2/50\n",
      "90/90 [==============================] - 0s - loss: 4441.8660     \n",
      "Epoch 3/50\n",
      "90/90 [==============================] - 0s - loss: 4407.8616     \n",
      "Epoch 4/50\n",
      "90/90 [==============================] - 0s - loss: 4377.1823     \n",
      "Epoch 5/50\n",
      "90/90 [==============================] - 0s - loss: 4347.3570     \n",
      "Epoch 6/50\n",
      "90/90 [==============================] - 0s - loss: 4317.9686     \n",
      "Epoch 7/50\n",
      "90/90 [==============================] - 0s - loss: 4288.8749     \n",
      "Epoch 8/50\n",
      "90/90 [==============================] - 0s - loss: 4260.2337     \n",
      "Epoch 9/50\n",
      "90/90 [==============================] - 0s - loss: 4231.6134     \n",
      "Epoch 10/50\n",
      "90/90 [==============================] - 0s - loss: 4203.3297     \n",
      "Epoch 11/50\n",
      "90/90 [==============================] - 0s - loss: 4175.2910     \n",
      "Epoch 12/50\n",
      "90/90 [==============================] - 0s - loss: 4147.3031     \n",
      "Epoch 13/50\n",
      "90/90 [==============================] - 0s - loss: 4119.6517     \n",
      "Epoch 14/50\n",
      "90/90 [==============================] - 0s - loss: 4092.0442     \n",
      "Epoch 15/50\n",
      "90/90 [==============================] - 0s - loss: 4064.7135     \n",
      "Epoch 16/50\n",
      "90/90 [==============================] - 0s - loss: 4037.4827     \n",
      "Epoch 17/50\n",
      "90/90 [==============================] - 0s - loss: 4010.5084     \n",
      "Epoch 18/50\n",
      "90/90 [==============================] - 0s - loss: 3983.6182     \n",
      "Epoch 19/50\n",
      "90/90 [==============================] - 0s - loss: 3956.9934     \n",
      "Epoch 20/50\n",
      "90/90 [==============================] - 0s - loss: 3930.4479     \n",
      "Epoch 21/50\n",
      "90/90 [==============================] - 0s - loss: 3904.1475     \n",
      "Epoch 22/50\n",
      "90/90 [==============================] - 0s - loss: 3877.8212     \n",
      "Epoch 23/50\n",
      "90/90 [==============================] - 0s - loss: 3851.7926     \n",
      "Epoch 24/50\n",
      "90/90 [==============================] - 0s - loss: 3825.7685     \n",
      "Epoch 25/50\n",
      "90/90 [==============================] - 0s - loss: 3799.9971     \n",
      "Epoch 26/50\n",
      "90/90 [==============================] - 0s - loss: 3774.3224     \n",
      "Epoch 27/50\n",
      "90/90 [==============================] - 0s - loss: 3748.8150     \n",
      "Epoch 28/50\n",
      "90/90 [==============================] - 0s - loss: 3723.4619     \n",
      "Epoch 29/50\n",
      "90/90 [==============================] - 0s - loss: 3698.2453     \n",
      "Epoch 30/50\n",
      "90/90 [==============================] - 0s - loss: 3673.2736     \n",
      "Epoch 31/50\n",
      "90/90 [==============================] - 0s - loss: 3648.2059     \n",
      "Epoch 32/50\n",
      "90/90 [==============================] - 0s - loss: 3623.4435     \n",
      "Epoch 33/50\n",
      "90/90 [==============================] - 0s - loss: 3598.8492     \n",
      "Epoch 34/50\n",
      "90/90 [==============================] - 0s - loss: 3574.2560     \n",
      "Epoch 35/50\n",
      "90/90 [==============================] - 0s - loss: 3550.0024     \n",
      "Epoch 36/50\n",
      "90/90 [==============================] - 0s - loss: 3525.6703     \n",
      "Epoch 37/50\n",
      "90/90 [==============================] - 0s - loss: 3501.6102     \n",
      "Epoch 38/50\n",
      "90/90 [==============================] - 0s - loss: 3477.6568     \n",
      "Epoch 39/50\n",
      "90/90 [==============================] - 0s - loss: 3453.8201     \n",
      "Epoch 40/50\n",
      "90/90 [==============================] - 0s - loss: 3430.1220     \n",
      "Epoch 41/50\n",
      "90/90 [==============================] - 0s - loss: 3406.5170     \n",
      "Epoch 42/50\n",
      "90/90 [==============================] - 0s - loss: 3383.0773     \n",
      "Epoch 43/50\n",
      "90/90 [==============================] - 0s - loss: 3359.8192     \n",
      "Epoch 44/50\n",
      "90/90 [==============================] - 0s - loss: 3336.5312     \n",
      "Epoch 45/50\n",
      "90/90 [==============================] - 0s - loss: 3313.5898     \n",
      "Epoch 46/50\n",
      "90/90 [==============================] - 0s - loss: 3290.5755     \n",
      "Epoch 47/50\n",
      "90/90 [==============================] - 0s - loss: 3267.8772     \n",
      "Epoch 48/50\n",
      "90/90 [==============================] - 0s - loss: 3245.1414     \n",
      "Epoch 49/50\n",
      "90/90 [==============================] - 0s - loss: 3222.5145     \n",
      "Epoch 50/50\n",
      "90/90 [==============================] - 0s - loss: 3200.1506     \n"
     ]
    }
   ],
   "source": [
    "if not model_exists:\n",
    "    if use_LSTM & lstm_stateful:\n",
    "\n",
    "        for i in range(num_epochs):\n",
    "                print('epoch: ' + str(i))\n",
    "                # shuffle must be False!\n",
    "                model.fit(X_train, y_train, epochs = 1, batch_size = batch_size, shuffle = False)\n",
    "                model.reset_states()\n",
    "\n",
    "    else: \n",
    "        model.fit(X_train, y_train, epochs = num_epochs, batch_size = batch_size)\n"
   ]
  },
  {
   "cell_type": "code",
   "execution_count": 29,
   "metadata": {
    "collapsed": true
   },
   "outputs": [],
   "source": [
    "if not model_exists:\n",
    "    model.save(model_name)"
   ]
  },
  {
   "cell_type": "code",
   "execution_count": 30,
   "metadata": {},
   "outputs": [
    {
     "name": "stdout",
     "output_type": "stream",
     "text": [
      "\r",
      " 1/20 [>.............................] - ETA: 0s"
     ]
    },
    {
     "data": {
      "text/plain": [
       "1268.2036865234375"
      ]
     },
     "execution_count": 30,
     "metadata": {},
     "output_type": "execute_result"
    }
   ],
   "source": [
    "test_loss = np.nan\n",
    "if lstm_stateful:\n",
    "    test_loss = model.evaluate(X_test, y_test, batch_size = batch_size)\n",
    "else:\n",
    "    test_loss = model.evaluate(X_test, y_test, batch_size = batch_size)\n",
    "test_loss"
   ]
  },
  {
   "cell_type": "code",
   "execution_count": 31,
   "metadata": {
    "collapsed": true
   },
   "outputs": [],
   "source": [
    "if lstm_stateful:\n",
    "    model.reset_states()\n",
    "    pred_train = model.predict(X_train, batch_size = batch_size)\n",
    "    model.reset_states()\n",
    "    pred_test = model.predict(X_test, batch_size = batch_size)\n",
    "else:\n",
    "    pred_train = model.predict(X_train, batch_size = batch_size)\n",
    "    pred_test = model.predict(X_test, batch_size = batch_size)"
   ]
  },
  {
   "cell_type": "code",
   "execution_count": 50,
   "metadata": {},
   "outputs": [
    {
     "data": {
      "text/plain": [
       "(5, (5, 1))"
      ]
     },
     "execution_count": 50,
     "metadata": {},
     "output_type": "execute_result"
    }
   ],
   "source": [
    "len(X_test[0]), X_test[0].shape"
   ]
  },
  {
   "cell_type": "code",
   "execution_count": 32,
   "metadata": {},
   "outputs": [
    {
     "name": "stdout",
     "output_type": "stream",
     "text": [
      "[[[ 10.74855232]\n",
      "  [ 12.548419  ]\n",
      "  [ 12.82428646]\n",
      "  [ 12.86229134]\n",
      "  [ 12.86744785]]]\n",
      "[[[ 10.74855232]\n",
      "  [ 12.548419  ]\n",
      "  [ 12.82428646]\n",
      "  [ 12.86229134]\n",
      "  [ 12.86744785]]]\n",
      "[[[ 10.74855232]\n",
      "  [ 12.548419  ]\n",
      "  [ 12.82428646]\n",
      "  [ 12.86229134]\n",
      "  [ 12.86744785]]]\n",
      "[[[ 10.74855232]\n",
      "  [ 12.548419  ]\n",
      "  [ 12.82428646]\n",
      "  [ 12.86229134]\n",
      "  [ 12.86744785]]]\n",
      "[[[ 10.74855232]\n",
      "  [ 12.548419  ]\n",
      "  [ 12.82428646]\n",
      "  [ 12.86229134]\n",
      "  [ 12.86744785]]]\n",
      "[[[ 10.74855232]\n",
      "  [ 12.548419  ]\n",
      "  [ 12.82428646]\n",
      "  [ 12.86229134]\n",
      "  [ 12.86744785]]]\n",
      "[[[ 10.74855232]\n",
      "  [ 12.548419  ]\n",
      "  [ 12.82428646]\n",
      "  [ 12.86229134]\n",
      "  [ 12.86744785]]]\n",
      "[[[ 10.74855232]\n",
      "  [ 12.548419  ]\n",
      "  [ 12.82428646]\n",
      "  [ 12.86229134]\n",
      "  [ 12.86744785]]]\n",
      "[[[ 10.74855232]\n",
      "  [ 12.548419  ]\n",
      "  [ 12.82428646]\n",
      "  [ 12.86229134]\n",
      "  [ 12.86744785]]]\n",
      "[[[ 10.74855232]\n",
      "  [ 12.548419  ]\n",
      "  [ 12.82428646]\n",
      "  [ 12.86229134]\n",
      "  [ 12.86744785]]]\n",
      "[[[ 10.74855232]\n",
      "  [ 12.548419  ]\n",
      "  [ 12.82428646]\n",
      "  [ 12.86229134]\n",
      "  [ 12.86744785]]]\n",
      "[[[ 10.74855232]\n",
      "  [ 12.548419  ]\n",
      "  [ 12.82428646]\n",
      "  [ 12.86229134]\n",
      "  [ 12.86744785]]]\n",
      "[[[ 10.74855232]\n",
      "  [ 12.548419  ]\n",
      "  [ 12.82428646]\n",
      "  [ 12.86229134]\n",
      "  [ 12.86744785]]]\n",
      "[[[ 10.74855232]\n",
      "  [ 12.548419  ]\n",
      "  [ 12.82428646]\n",
      "  [ 12.86229134]\n",
      "  [ 12.86744785]]]\n",
      "[[[ 10.74855232]\n",
      "  [ 12.548419  ]\n",
      "  [ 12.82428646]\n",
      "  [ 12.86229134]\n",
      "  [ 12.86744785]]]\n",
      "[[[ 10.74855232]\n",
      "  [ 12.548419  ]\n",
      "  [ 12.82428646]\n",
      "  [ 12.86229134]\n",
      "  [ 12.86744785]]]\n",
      "[[[ 10.74855232]\n",
      "  [ 12.548419  ]\n",
      "  [ 12.82428646]\n",
      "  [ 12.86229134]\n",
      "  [ 12.86744785]]]\n",
      "[[[ 10.74855232]\n",
      "  [ 12.548419  ]\n",
      "  [ 12.82428646]\n",
      "  [ 12.86229134]\n",
      "  [ 12.86744785]]]\n",
      "[[[ 10.74855232]\n",
      "  [ 12.548419  ]\n",
      "  [ 12.82428646]\n",
      "  [ 12.86229134]\n",
      "  [ 12.86744785]]]\n",
      "[[[ 10.74855232]\n",
      "  [ 12.548419  ]\n",
      "  [ 12.82428646]\n",
      "  [ 12.86229134]\n",
      "  [ 12.86744785]]]\n"
     ]
    }
   ],
   "source": [
    "for i in X_test:\n",
    "    if use_LSTM:\n",
    "        if lstm_stateful:\n",
    "            model.reset_states()\n",
    "        #print(i)\n",
    "        r = i.reshape(1, len(i), 1)\n",
    "        #print(i.shape), print(r.shape)\n",
    "        print(model.predict(r))\n",
    "    else:\n",
    "        r = i.reshape(1, len(i))\n",
    "        #print(i.shape), print(r.shape)\n",
    "        print(model.predict(r))"
   ]
  },
  {
   "cell_type": "code",
   "execution_count": 33,
   "metadata": {},
   "outputs": [
    {
     "data": {
      "text/plain": [
       "array([[[ 10.74855232],\n",
       "        [ 12.548419  ],\n",
       "        [ 12.82428646],\n",
       "        [ 12.86229134],\n",
       "        [ 12.86744785]],\n",
       "\n",
       "       [[ 10.74855232],\n",
       "        [ 12.548419  ],\n",
       "        [ 12.82428646],\n",
       "        [ 12.86229134],\n",
       "        [ 12.86744785]],\n",
       "\n",
       "       [[ 10.74855232],\n",
       "        [ 12.548419  ],\n",
       "        [ 12.82428646],\n",
       "        [ 12.86229134],\n",
       "        [ 12.86744785]],\n",
       "\n",
       "       [[ 10.74855232],\n",
       "        [ 12.548419  ],\n",
       "        [ 12.82428646],\n",
       "        [ 12.86229134],\n",
       "        [ 12.86744785]],\n",
       "\n",
       "       [[ 10.74855232],\n",
       "        [ 12.548419  ],\n",
       "        [ 12.82428646],\n",
       "        [ 12.86229134],\n",
       "        [ 12.86744785]],\n",
       "\n",
       "       [[ 10.74855232],\n",
       "        [ 12.548419  ],\n",
       "        [ 12.82428646],\n",
       "        [ 12.86229134],\n",
       "        [ 12.86744785]],\n",
       "\n",
       "       [[ 10.74855232],\n",
       "        [ 12.548419  ],\n",
       "        [ 12.82428646],\n",
       "        [ 12.86229134],\n",
       "        [ 12.86744785]],\n",
       "\n",
       "       [[ 10.74855232],\n",
       "        [ 12.548419  ],\n",
       "        [ 12.82428646],\n",
       "        [ 12.86229134],\n",
       "        [ 12.86744785]],\n",
       "\n",
       "       [[ 10.74855232],\n",
       "        [ 12.548419  ],\n",
       "        [ 12.82428646],\n",
       "        [ 12.86229134],\n",
       "        [ 12.86744785]],\n",
       "\n",
       "       [[ 10.74855232],\n",
       "        [ 12.548419  ],\n",
       "        [ 12.82428646],\n",
       "        [ 12.86229134],\n",
       "        [ 12.86744785]],\n",
       "\n",
       "       [[ 10.74855232],\n",
       "        [ 12.548419  ],\n",
       "        [ 12.82428646],\n",
       "        [ 12.86229134],\n",
       "        [ 12.86744785]],\n",
       "\n",
       "       [[ 10.74855232],\n",
       "        [ 12.548419  ],\n",
       "        [ 12.82428646],\n",
       "        [ 12.86229134],\n",
       "        [ 12.86744785]],\n",
       "\n",
       "       [[ 10.74855232],\n",
       "        [ 12.548419  ],\n",
       "        [ 12.82428646],\n",
       "        [ 12.86229134],\n",
       "        [ 12.86744785]],\n",
       "\n",
       "       [[ 10.74855232],\n",
       "        [ 12.548419  ],\n",
       "        [ 12.82428646],\n",
       "        [ 12.86229134],\n",
       "        [ 12.86744785]],\n",
       "\n",
       "       [[ 10.74855232],\n",
       "        [ 12.548419  ],\n",
       "        [ 12.82428646],\n",
       "        [ 12.86229134],\n",
       "        [ 12.86744785]],\n",
       "\n",
       "       [[ 10.74855232],\n",
       "        [ 12.548419  ],\n",
       "        [ 12.82428646],\n",
       "        [ 12.86229134],\n",
       "        [ 12.86744785]],\n",
       "\n",
       "       [[ 10.74855232],\n",
       "        [ 12.548419  ],\n",
       "        [ 12.82428646],\n",
       "        [ 12.86229134],\n",
       "        [ 12.86744785]],\n",
       "\n",
       "       [[ 10.74855232],\n",
       "        [ 12.548419  ],\n",
       "        [ 12.82428646],\n",
       "        [ 12.86229134],\n",
       "        [ 12.86744785]],\n",
       "\n",
       "       [[ 10.74855232],\n",
       "        [ 12.548419  ],\n",
       "        [ 12.82428646],\n",
       "        [ 12.86229134],\n",
       "        [ 12.86744785]],\n",
       "\n",
       "       [[ 10.74855232],\n",
       "        [ 12.548419  ],\n",
       "        [ 12.82428646],\n",
       "        [ 12.86229134],\n",
       "        [ 12.86744785]]], dtype=float32)"
      ]
     },
     "execution_count": 33,
     "metadata": {},
     "output_type": "execute_result"
    }
   ],
   "source": [
    "pred_test"
   ]
  },
  {
   "cell_type": "code",
   "execution_count": 34,
   "metadata": {
    "collapsed": true
   },
   "outputs": [],
   "source": [
    "def calc_dependent_predictions(model, data, prediction_window):\n",
    "    prediction_seqs = []\n",
    "    for i in range(int(len(data)/prediction_window)):\n",
    "        print('Calculating predictions starting from: {}'.format(i))\n",
    "        curr_frame = data[i*prediction_window]\n",
    "        predicted = []\n",
    "        for j in range(prediction_window):\n",
    "            #print('Calculating single prediction: {}'.format(j))\n",
    "            #print(curr_frame)\n",
    "            pred = model.predict(curr_frame[np.newaxis,:,:])[0,0]\n",
    "            #pred = model.predict(curr_frame.reshape(1, len(curr_frame), 1)) # same\n",
    "            #print(pred)\n",
    "            predicted.append(pred)\n",
    "            curr_frame = curr_frame[1:] \n",
    "            curr_frame = np.insert(curr_frame, [window_size-1], predicted[-1], axis=0)\n",
    "        prediction_seqs.append(predicted)\n",
    "    return prediction_seqs"
   ]
  },
  {
   "cell_type": "code",
   "execution_count": 35,
   "metadata": {},
   "outputs": [],
   "source": [
    "if use_LSTM and not lstm_predict_sequences:\n",
    "    prediction_seqs_train = calc_dependent_predictions(model, X_train, prediction_window)\n",
    "    prediction_seqs_test = calc_dependent_predictions(model, X_test, prediction_window)"
   ]
  },
  {
   "cell_type": "code",
   "execution_count": 36,
   "metadata": {},
   "outputs": [],
   "source": [
    "if use_LSTM and not lstm_predict_sequences:\n",
    "    print(prediction_seqs_train)"
   ]
  },
  {
   "cell_type": "code",
   "execution_count": 37,
   "metadata": {},
   "outputs": [],
   "source": [
    "if use_LSTM and not lstm_predict_sequences:\n",
    "    print(prediction_seqs_test)"
   ]
  },
  {
   "cell_type": "code",
   "execution_count": 38,
   "metadata": {},
   "outputs": [
    {
     "data": {
      "text/plain": [
       "array([[[ 16.],\n",
       "        [ 17.],\n",
       "        [ 18.],\n",
       "        [ 19.],\n",
       "        [ 20.]],\n",
       "\n",
       "       [[ 17.],\n",
       "        [ 18.],\n",
       "        [ 19.],\n",
       "        [ 20.],\n",
       "        [ 21.]],\n",
       "\n",
       "       [[ 18.],\n",
       "        [ 19.],\n",
       "        [ 20.],\n",
       "        [ 21.],\n",
       "        [ 22.]],\n",
       "\n",
       "       [[ 19.],\n",
       "        [ 20.],\n",
       "        [ 21.],\n",
       "        [ 22.],\n",
       "        [ 23.]],\n",
       "\n",
       "       [[ 20.],\n",
       "        [ 21.],\n",
       "        [ 22.],\n",
       "        [ 23.],\n",
       "        [ 24.]],\n",
       "\n",
       "       [[ 21.],\n",
       "        [ 22.],\n",
       "        [ 23.],\n",
       "        [ 24.],\n",
       "        [ 25.]],\n",
       "\n",
       "       [[ 22.],\n",
       "        [ 23.],\n",
       "        [ 24.],\n",
       "        [ 25.],\n",
       "        [ 26.]],\n",
       "\n",
       "       [[ 23.],\n",
       "        [ 24.],\n",
       "        [ 25.],\n",
       "        [ 26.],\n",
       "        [ 27.]],\n",
       "\n",
       "       [[ 24.],\n",
       "        [ 25.],\n",
       "        [ 26.],\n",
       "        [ 27.],\n",
       "        [ 28.]],\n",
       "\n",
       "       [[ 25.],\n",
       "        [ 26.],\n",
       "        [ 27.],\n",
       "        [ 28.],\n",
       "        [ 29.]]])"
      ]
     },
     "execution_count": 38,
     "metadata": {},
     "output_type": "execute_result"
    }
   ],
   "source": [
    "y_train[:10]"
   ]
  },
  {
   "cell_type": "code",
   "execution_count": 44,
   "metadata": {},
   "outputs": [
    {
     "data": {
      "text/plain": [
       "array([[[ 10.55259514],\n",
       "        [ 12.49134922],\n",
       "        [ 12.81465149],\n",
       "        [ 12.86098099],\n",
       "        [ 12.86727142]],\n",
       "\n",
       "       [[ 10.61835384],\n",
       "        [ 12.51590729],\n",
       "        [ 12.81973362],\n",
       "        [ 12.86167336],\n",
       "        [ 12.86736393]],\n",
       "\n",
       "       [[ 10.68143272],\n",
       "        [ 12.53705406],\n",
       "        [ 12.82269764],\n",
       "        [ 12.86207581],\n",
       "        [ 12.86741924]],\n",
       "\n",
       "       [[ 10.74189949],\n",
       "        [ 12.54729939],\n",
       "        [ 12.82413006],\n",
       "        [ 12.86227036],\n",
       "        [ 12.86744499]],\n",
       "\n",
       "       [[ 10.74855232],\n",
       "        [ 12.548419  ],\n",
       "        [ 12.82428646],\n",
       "        [ 12.86229134],\n",
       "        [ 12.86744785]],\n",
       "\n",
       "       [[ 10.74855232],\n",
       "        [ 12.548419  ],\n",
       "        [ 12.82428646],\n",
       "        [ 12.86229134],\n",
       "        [ 12.86744785]],\n",
       "\n",
       "       [[ 10.74855232],\n",
       "        [ 12.548419  ],\n",
       "        [ 12.82428646],\n",
       "        [ 12.86229134],\n",
       "        [ 12.86744785]],\n",
       "\n",
       "       [[ 10.74855232],\n",
       "        [ 12.548419  ],\n",
       "        [ 12.82428646],\n",
       "        [ 12.86229134],\n",
       "        [ 12.86744785]],\n",
       "\n",
       "       [[ 10.74855232],\n",
       "        [ 12.548419  ],\n",
       "        [ 12.82428646],\n",
       "        [ 12.86229134],\n",
       "        [ 12.86744785]],\n",
       "\n",
       "       [[ 10.74855232],\n",
       "        [ 12.548419  ],\n",
       "        [ 12.82428646],\n",
       "        [ 12.86229134],\n",
       "        [ 12.86744785]]], dtype=float32)"
      ]
     },
     "execution_count": 44,
     "metadata": {},
     "output_type": "execute_result"
    }
   ],
   "source": [
    "pred_train[:10,:]"
   ]
  },
  {
   "cell_type": "code",
   "execution_count": 40,
   "metadata": {},
   "outputs": [
    {
     "data": {
      "text/plain": [
       "array([[[ 36.],\n",
       "        [ 37.],\n",
       "        [ 38.],\n",
       "        [ 39.],\n",
       "        [ 40.]],\n",
       "\n",
       "       [[ 37.],\n",
       "        [ 38.],\n",
       "        [ 39.],\n",
       "        [ 40.],\n",
       "        [ 41.]],\n",
       "\n",
       "       [[ 38.],\n",
       "        [ 39.],\n",
       "        [ 40.],\n",
       "        [ 41.],\n",
       "        [ 42.]],\n",
       "\n",
       "       [[ 39.],\n",
       "        [ 40.],\n",
       "        [ 41.],\n",
       "        [ 42.],\n",
       "        [ 43.]],\n",
       "\n",
       "       [[ 40.],\n",
       "        [ 41.],\n",
       "        [ 42.],\n",
       "        [ 43.],\n",
       "        [ 44.]],\n",
       "\n",
       "       [[ 41.],\n",
       "        [ 42.],\n",
       "        [ 43.],\n",
       "        [ 44.],\n",
       "        [ 45.]],\n",
       "\n",
       "       [[ 42.],\n",
       "        [ 43.],\n",
       "        [ 44.],\n",
       "        [ 45.],\n",
       "        [ 46.]],\n",
       "\n",
       "       [[ 43.],\n",
       "        [ 44.],\n",
       "        [ 45.],\n",
       "        [ 46.],\n",
       "        [ 47.]],\n",
       "\n",
       "       [[ 44.],\n",
       "        [ 45.],\n",
       "        [ 46.],\n",
       "        [ 47.],\n",
       "        [ 48.]],\n",
       "\n",
       "       [[ 45.],\n",
       "        [ 46.],\n",
       "        [ 47.],\n",
       "        [ 48.],\n",
       "        [ 49.]]])"
      ]
     },
     "execution_count": 40,
     "metadata": {},
     "output_type": "execute_result"
    }
   ],
   "source": [
    "y_test[:10]"
   ]
  },
  {
   "cell_type": "code",
   "execution_count": 45,
   "metadata": {},
   "outputs": [
    {
     "data": {
      "text/plain": [
       "array([[[ 10.74855232],\n",
       "        [ 12.548419  ],\n",
       "        [ 12.82428646],\n",
       "        [ 12.86229134],\n",
       "        [ 12.86744785]],\n",
       "\n",
       "       [[ 10.74855232],\n",
       "        [ 12.548419  ],\n",
       "        [ 12.82428646],\n",
       "        [ 12.86229134],\n",
       "        [ 12.86744785]],\n",
       "\n",
       "       [[ 10.74855232],\n",
       "        [ 12.548419  ],\n",
       "        [ 12.82428646],\n",
       "        [ 12.86229134],\n",
       "        [ 12.86744785]],\n",
       "\n",
       "       [[ 10.74855232],\n",
       "        [ 12.548419  ],\n",
       "        [ 12.82428646],\n",
       "        [ 12.86229134],\n",
       "        [ 12.86744785]],\n",
       "\n",
       "       [[ 10.74855232],\n",
       "        [ 12.548419  ],\n",
       "        [ 12.82428646],\n",
       "        [ 12.86229134],\n",
       "        [ 12.86744785]],\n",
       "\n",
       "       [[ 10.74855232],\n",
       "        [ 12.548419  ],\n",
       "        [ 12.82428646],\n",
       "        [ 12.86229134],\n",
       "        [ 12.86744785]],\n",
       "\n",
       "       [[ 10.74855232],\n",
       "        [ 12.548419  ],\n",
       "        [ 12.82428646],\n",
       "        [ 12.86229134],\n",
       "        [ 12.86744785]],\n",
       "\n",
       "       [[ 10.74855232],\n",
       "        [ 12.548419  ],\n",
       "        [ 12.82428646],\n",
       "        [ 12.86229134],\n",
       "        [ 12.86744785]],\n",
       "\n",
       "       [[ 10.74855232],\n",
       "        [ 12.548419  ],\n",
       "        [ 12.82428646],\n",
       "        [ 12.86229134],\n",
       "        [ 12.86744785]],\n",
       "\n",
       "       [[ 10.74855232],\n",
       "        [ 12.548419  ],\n",
       "        [ 12.82428646],\n",
       "        [ 12.86229134],\n",
       "        [ 12.86744785]]], dtype=float32)"
      ]
     },
     "execution_count": 45,
     "metadata": {},
     "output_type": "execute_result"
    }
   ],
   "source": [
    "pred_test[:10,:]"
   ]
  },
  {
   "cell_type": "code",
   "execution_count": 42,
   "metadata": {
    "collapsed": true
   },
   "outputs": [],
   "source": [
    "if scale:\n",
    "    pred_train = scaler.inverse_transform(pred_train)\n",
    "    y_train = scaler.inverse_transform(y_train.reshape(-1,1))\n",
    "    pred_test = scaler.inverse_transform(pred_test)\n",
    "    y_test = scaler.inverse_transform(y_test.reshape(-1,1))\n"
   ]
  },
  {
   "cell_type": "code",
   "execution_count": 43,
   "metadata": {},
   "outputs": [
    {
     "data": {
      "text/plain": [
       "(array([[[ 16.],\n",
       "         [ 17.],\n",
       "         [ 18.],\n",
       "         [ 19.],\n",
       "         [ 20.]],\n",
       " \n",
       "        [[ 17.],\n",
       "         [ 18.],\n",
       "         [ 19.],\n",
       "         [ 20.],\n",
       "         [ 21.]],\n",
       " \n",
       "        [[ 18.],\n",
       "         [ 19.],\n",
       "         [ 20.],\n",
       "         [ 21.],\n",
       "         [ 22.]],\n",
       " \n",
       "        [[ 19.],\n",
       "         [ 20.],\n",
       "         [ 21.],\n",
       "         [ 22.],\n",
       "         [ 23.]],\n",
       " \n",
       "        [[ 20.],\n",
       "         [ 21.],\n",
       "         [ 22.],\n",
       "         [ 23.],\n",
       "         [ 24.]],\n",
       " \n",
       "        [[ 21.],\n",
       "         [ 22.],\n",
       "         [ 23.],\n",
       "         [ 24.],\n",
       "         [ 25.]],\n",
       " \n",
       "        [[ 22.],\n",
       "         [ 23.],\n",
       "         [ 24.],\n",
       "         [ 25.],\n",
       "         [ 26.]],\n",
       " \n",
       "        [[ 23.],\n",
       "         [ 24.],\n",
       "         [ 25.],\n",
       "         [ 26.],\n",
       "         [ 27.]],\n",
       " \n",
       "        [[ 24.],\n",
       "         [ 25.],\n",
       "         [ 26.],\n",
       "         [ 27.],\n",
       "         [ 28.]],\n",
       " \n",
       "        [[ 25.],\n",
       "         [ 26.],\n",
       "         [ 27.],\n",
       "         [ 28.],\n",
       "         [ 29.]]]), array([[ 10.55259514],\n",
       "        [ 10.61835384],\n",
       "        [ 10.68143272],\n",
       "        [ 10.74189949],\n",
       "        [ 10.74855232],\n",
       "        [ 10.74855232],\n",
       "        [ 10.74855232],\n",
       "        [ 10.74855232],\n",
       "        [ 10.74855232],\n",
       "        [ 10.74855232]], dtype=float32))"
      ]
     },
     "execution_count": 43,
     "metadata": {},
     "output_type": "execute_result"
    }
   ],
   "source": [
    "y_train[:10],pred_train[:10,0]"
   ]
  },
  {
   "cell_type": "code",
   "execution_count": 142,
   "metadata": {},
   "outputs": [
    {
     "data": {
      "text/plain": [
       "(array([ 36.,  37.,  38.,  39.,  40.,  41.,  42.,  43.,  44.,  45.,  46.,\n",
       "         47.,  48.,  49.,  50.,  51.,  52.,  53.,  54.,  55.,  56.,  57.,\n",
       "         58.,  59.,  60.]),\n",
       " array([ 12.6888485,  12.6888485,  12.6888485,  12.6888485,  12.6888485,\n",
       "         12.6888485,  12.6888485,  12.6888485,  12.6888485,  12.6888485,\n",
       "         12.6888485,  12.6888485,  12.6888485,  12.6888485,  12.6888485,\n",
       "         12.6888485,  12.6888485,  12.6888485,  12.6888485,  12.6888485,\n",
       "         12.6888485,  12.6888485,  12.6888485,  12.6888485,  12.6888485], dtype=float32))"
      ]
     },
     "execution_count": 142,
     "metadata": {},
     "output_type": "execute_result"
    }
   ],
   "source": [
    "y_test[:],pred_test[:,0]"
   ]
  },
  {
   "cell_type": "code",
   "execution_count": 143,
   "metadata": {},
   "outputs": [
    {
     "name": "stdout",
     "output_type": "stream",
     "text": [
      "Train Score: 57.30 RMSE\n",
      "Test Score: 36.04 RMSE\n"
     ]
    }
   ],
   "source": [
    "# calculate root mean squared error\n",
    "rsme_train = math.sqrt(mean_squared_error(y_train, pred_train[:,0]))\n",
    "print('Train Score: %.2f RMSE' % (rsme_train))\n",
    "rsme_test = math.sqrt(mean_squared_error(y_test, pred_test[:,0]))\n",
    "print('Test Score: %.2f RMSE' % (rsme_test))"
   ]
  },
  {
   "cell_type": "code",
   "execution_count": 144,
   "metadata": {},
   "outputs": [
    {
     "name": "stdout",
     "output_type": "stream",
     "text": [
      "100 95 95\n"
     ]
    },
    {
     "data": {
      "text/plain": [
       "(30, 25, 25)"
      ]
     },
     "execution_count": 144,
     "metadata": {},
     "output_type": "execute_result"
    }
   ],
   "source": [
    "print(len(ts_train), len(pred_train), len(y_train))\n",
    "len(ts_test), len(pred_test), len(y_test) "
   ]
  },
  {
   "cell_type": "code",
   "execution_count": 145,
   "metadata": {},
   "outputs": [
    {
     "name": "stdout",
     "output_type": "stream",
     "text": [
      "130\n"
     ]
    },
    {
     "data": {
      "text/plain": [
       "array([[         nan],\n",
       "       [         nan],\n",
       "       [         nan],\n",
       "       [         nan],\n",
       "       [         nan],\n",
       "       [ 12.68525791],\n",
       "       [ 12.68672276],\n",
       "       [ 12.68760872],\n",
       "       [ 12.68812847],\n",
       "       [ 12.68843269],\n",
       "       [ 12.68861198],\n",
       "       [ 12.68871498],\n",
       "       [ 12.6887722 ]])"
      ]
     },
     "execution_count": 145,
     "metadata": {},
     "output_type": "execute_result"
    }
   ],
   "source": [
    "# shift train predictions for plotting\n",
    "pred_train_shifted = np.empty_like(ts_all)\n",
    "print(pred_train_shifted.size)\n",
    "pred_train_shifted[:, :] = np.nan\n",
    "# train predictions start at position window_size + 1 (or window_size, if counting from 0)\n",
    "pred_train_shifted[window_size : len(pred_train) + window_size, :] = pred_train\n",
    "pred_train_shifted[:13]"
   ]
  },
  {
   "cell_type": "code",
   "execution_count": 146,
   "metadata": {},
   "outputs": [
    {
     "data": {
      "text/plain": [
       "array([[ 12.6888485],\n",
       "       [ 12.6888485],\n",
       "       [ 12.6888485],\n",
       "       [ 12.6888485],\n",
       "       [ 12.6888485],\n",
       "       [ 12.6888485],\n",
       "       [ 12.6888485],\n",
       "       [ 12.6888485],\n",
       "       [ 12.6888485],\n",
       "       [ 12.6888485],\n",
       "       [ 12.6888485],\n",
       "       [ 12.6888485],\n",
       "       [ 12.6888485]])"
      ]
     },
     "execution_count": 146,
     "metadata": {},
     "output_type": "execute_result"
    }
   ],
   "source": [
    "# shift test predictions for plotting\n",
    "window_size = lstm_num_timesteps if use_LSTM else mlp_num_features\n",
    "pred_test_shifted = np.empty_like(ts_all)\n",
    "pred_test_shifted[:, :] = np.nan\n",
    "pred_test_shifted[len(pred_train) + (window_size * 2) : len_overall + 1, :] = pred_test\n",
    "pred_test_shifted[-13:]"
   ]
  },
  {
   "cell_type": "code",
   "execution_count": 147,
   "metadata": {},
   "outputs": [
    {
     "data": {
      "image/png": "[encoded data removed]",
      "text/plain": [
       "<matplotlib.figure.Figure at 0x7f5e193c2a58>"
      ]
     },
     "metadata": {},
     "output_type": "display_data"
    }
   ],
   "source": [
    "plt.plot(ts_all)\n",
    "plt.plot(pred_train_shifted)\n",
    "plt.plot(pred_test_shifted)\n",
    "#plt.savefig(fig_name)\n",
    "plt.show()"
   ]
  },
  {
   "cell_type": "code",
   "execution_count": 148,
   "metadata": {},
   "outputs": [
    {
     "data": {
      "image/png": "[encoded data removed]",
      "text/plain": [
       "<matplotlib.figure.Figure at 0x7f5e1939d2e8>"
      ]
     },
     "metadata": {},
     "output_type": "display_data"
    }
   ],
   "source": [
    "plot_start = -30\n",
    "plot_end = -1\n",
    "plt.plot(ts_all[plot_start:plot_end])\n",
    "plt.plot(pred_train_shifted[plot_start:plot_end])\n",
    "plt.plot(pred_test_shifted[plot_start:plot_end])\n",
    "plt.show()\n"
   ]
  },
  {
   "cell_type": "code",
   "execution_count": 149,
   "metadata": {
    "collapsed": true
   },
   "outputs": [],
   "source": [
    "def plot_results(predicted_data, true_data):\n",
    "    fig = plt.figure(facecolor='white')\n",
    "    ax = fig.add_subplot(111)\n",
    "    ax.plot(true_data, label='True Data')\n",
    "    plt.plot(predicted_data, label='Prediction')\n",
    "    plt.legend()\n",
    "    plt.show()"
   ]
  },
  {
   "cell_type": "code",
   "execution_count": 150,
   "metadata": {},
   "outputs": [
    {
     "data": {
      "image/png": "[encoded data removed]",
      "text/plain": [
       "<matplotlib.figure.Figure at 0x7f5e19371710>"
      ]
     },
     "metadata": {},
     "output_type": "display_data"
    }
   ],
   "source": [
    "plot_results(pred_train, y_train)"
   ]
  },
  {
   "cell_type": "code",
   "execution_count": 151,
   "metadata": {},
   "outputs": [
    {
     "data": {
      "image/png": "[encoded data removed]",
      "text/plain": [
       "<matplotlib.figure.Figure at 0x7f5e193679b0>"
      ]
     },
     "metadata": {},
     "output_type": "display_data"
    }
   ],
   "source": [
    "plot_results(pred_test, y_test)"
   ]
  },
  {
   "cell_type": "code",
   "execution_count": 101,
   "metadata": {
    "collapsed": true
   },
   "outputs": [],
   "source": [
    "def plot_results_multiple(predicted_data, true_data, prediction_window):\n",
    "    fig = plt.figure(facecolor='white')\n",
    "    ax = fig.add_subplot(111)\n",
    "    ax.plot(true_data, label='True Data')\n",
    "    #Pad the list of predictions to shift it in the graph to it's correct start\n",
    "    for i, data in enumerate(predicted_data):\n",
    "        padding = [None for p in range(i * prediction_window)]\n",
    "        plt.plot(padding + data, label='Prediction')\n",
    "        plt.legend()\n",
    "    plt.savefig(fig_name)\n",
    "    plt.show()"
   ]
  },
  {
   "cell_type": "code",
   "execution_count": 102,
   "metadata": {},
   "outputs": [
    {
     "data": {
      "image/png": "[encoded data removed]",
      "text/plain": [
       "<matplotlib.figure.Figure at 0x7f5e2037d8d0>"
      ]
     },
     "metadata": {},
     "output_type": "display_data"
    }
   ],
   "source": [
    "if use_LSTM and not lstm_predict_sequences:\n",
    "    plot_results_multiple(prediction_seqs_train, y_train, prediction_window)"
   ]
  },
  {
   "cell_type": "code",
   "execution_count": 103,
   "metadata": {},
   "outputs": [
    {
     "data": {
      "image/png": "[encoded data removed]",
      "text/plain": [
       "<matplotlib.figure.Figure at 0x7f5e201deda0>"
      ]
     },
     "metadata": {},
     "output_type": "display_data"
    }
   ],
   "source": [
    "if use_LSTM and not lstm_predict_sequences:\n",
    "    plot_results_multiple(prediction_seqs_test, y_test, prediction_window)"
   ]
  },
  {
   "cell_type": "code",
   "execution_count": null,
   "metadata": {
    "collapsed": true
   },
   "outputs": [],
   "source": []
  }
 ],
 "metadata": {
  "anaconda-cloud": {},
  "kernelspec": {
   "display_name": "Python 3",
   "language": "python",
   "name": "python3"
  },
  "language_info": {
   "codemirror_mode": {
    "name": "ipython",
    "version": 3
   },
   "file_extension": ".py",
   "mimetype": "text/x-python",
   "name": "python",
   "nbconvert_exporter": "python",
   "pygments_lexer": "ipython3",
   "version": "3.5.3"
  }
 },
 "nbformat": 4,
 "nbformat_minor": 1
}

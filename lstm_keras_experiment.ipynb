{
 "cells": [
  {
   "cell_type": "code",
   "execution_count": 1,
   "metadata": {},
   "outputs": [
    {
     "name": "stderr",
     "output_type": "stream",
     "text": [
      "Using TensorFlow backend.\n"
     ]
    }
   ],
   "source": [
    "import pandas as pd\n",
    "import matplotlib.pyplot as plt\n",
    "from keras.models import Sequential\n",
    "from keras.models import load_model\n",
    "from keras.layers import Dense\n",
    "from keras.layers import TimeDistributed\n",
    "from keras.layers import LSTM\n",
    "from keras.layers import Activation\n",
    "import math\n",
    "from sklearn.preprocessing import MinMaxScaler\n",
    "from sklearn.preprocessing import StandardScaler\n",
    "from sklearn.metrics import mean_squared_error\n",
    "import numpy as np\n",
    "\n",
    "%matplotlib inline\n",
    "plt.rcParams['figure.figsize'] = (16, 10)"
   ]
  },
  {
   "cell_type": "code",
   "execution_count": 2,
   "metadata": {
    "collapsed": true
   },
   "outputs": [],
   "source": [
    "# TBD different random seeds\n",
    "np.random.seed(7)"
   ]
  },
  {
   "cell_type": "markdown",
   "metadata": {},
   "source": [
    "### On statefulness\n",
    "\n",
    "Making a RNN stateful means that the states for the samples of each batch will be reused as initial states for the samples in the next batch.\n",
    "\n",
    "When using stateful RNNs, it is therefore assumed that:\n",
    "\n",
    "- all batches have the same number of samples\n",
    "- if X1 and X2 are successive batches of samples, then X2[i] is the follow-up sequence to X1[i], for every i.\n",
    "\n",
    "Notes that the methods predict, fit, train_on_batch, predict_classes, etc. will all update the states of the stateful layers in a model. This allows you to do not only stateful training, but also stateful prediction.\n",
    "\n",
    "\n"
   ]
  },
  {
   "cell_type": "raw",
   "metadata": {},
   "source": [
    "X  # this is our input data, of shape (32, 21, 16)\n",
    "# we will feed it to our model in sequences of length 10\n",
    "\n",
    "model = Sequential()\n",
    "model.add(LSTM(32, input_shape=(10, 16), batch_size=32, stateful=True))\n",
    "model.add(Dense(16, activation='softmax'))\n",
    "\n",
    "model.compile(optimizer='rmsprop', loss='categorical_crossentropy')\n",
    "\n",
    "# we train the network to predict the 11th timestep given the first 10:\n",
    "model.train_on_batch(X[:, :10, :], np.reshape(X[:, 10, :], (32, 16)))\n",
    "\n",
    "# the state of the network has changed. We can feed the follow-up sequences:\n",
    "model.train_on_batch(X[:, 10:20, :], np.reshape(X[:, 20, :], (32, 16)))\n",
    "\n",
    "# let's reset the states of the LSTM layer:\n",
    "model.reset_states()"
   ]
  },
  {
   "cell_type": "code",
   "execution_count": 3,
   "metadata": {
    "collapsed": true
   },
   "outputs": [],
   "source": [
    "# whether to use LSTM or MLP\n",
    "use_LSTM = True\n",
    "\n",
    "# number of features used in the regression (for MLP)\n",
    "mlp_num_features = 5\n",
    "#\n",
    "\n",
    "# predict several timesteps at once\n",
    "lstm_predict_sequences = True\n",
    "lstm_num_predictions = 5\n",
    "\n",
    "# lstm_num_timesteps\n",
    "lstm_num_timesteps = 5\n",
    "# lstm_num_features\n",
    "lstm_num_features = 1\n",
    "# stateful?\n",
    "lstm_stateful = True\n",
    "# use two lstm layers?\n",
    "lstm_stack_layers = False\n",
    "\n",
    "# window_size\n",
    "window_size = lstm_num_timesteps if use_LSTM else mlp_num_features\n",
    "\n",
    "batch_size = 1\n",
    "num_epochs = 200\n",
    "# dimensionality of the output space\n",
    "num_neurons = 4\n",
    "\n",
    "# scale the dataset to values between scale_min and scale_max\n",
    "scale = False\n",
    "scale_min = -1\n",
    "scale_max = 1\n",
    "#scaler = MinMaxScaler(feature_range=(scale_min, scale_max))\n",
    "scaler = StandardScaler()\n",
    "\n",
    "# number of consecutive (dependent) predictions\n",
    "prediction_window = 5 \n"
   ]
  },
  {
   "cell_type": "code",
   "execution_count": 4,
   "metadata": {},
   "outputs": [],
   "source": [
    "testname = 'seasonal'\n",
    "properties = 'lstm_' + str(use_LSTM) + '_stateful_' + str(lstm_stateful) + '_window_' + str(window_size) + '_predict_sequences_' + str(lstm_predict_sequences) + '_epochs_' + str(num_epochs) + '_2layers_' + str(lstm_stack_layers) + '_scale_' + str(scale)\n",
    "model_name = testname + '_' + properties + '.h5'\n",
    "fig_name = testname + '_' + properties + '.png'\n",
    "fig_name_multiple = testname + '_' + properties + '_multiplepreds_' + str(prediction_window) + '.png'\n",
    "\n",
    "\n",
    "model_exists = False"
   ]
  },
  {
   "cell_type": "code",
   "execution_count": 5,
   "metadata": {},
   "outputs": [],
   "source": [
    "# various test datasets\n",
    "ts_train_lineartrend = np.arange(1,101, dtype='float64')\n",
    "ts_test_lineartrend_outofrange = np.arange(101,121, dtype='float64')\n",
    "ts_test_lineartrend_withinrange = np.arange(21,41, dtype='float64')\n",
    "\n",
    "ts_train_seasonal = np.tile(np.arange(1,8, dtype='float64'),12)\n",
    "ts_test_seasonal = np.tile(np.arange(1,8, dtype='float64'),3)"
   ]
  },
  {
   "cell_type": "code",
   "execution_count": 6,
   "metadata": {
    "collapsed": true
   },
   "outputs": [],
   "source": [
    "ts_train = ts_train_seasonal\n",
    "ts_test = ts_test_seasonal\n"
   ]
  },
  {
   "cell_type": "code",
   "execution_count": 7,
   "metadata": {
    "collapsed": true
   },
   "outputs": [],
   "source": [
    "ts_all = np.append(ts_train, ts_test)\n",
    "len_overall = len(ts_all)"
   ]
  },
  {
   "cell_type": "code",
   "execution_count": 8,
   "metadata": {},
   "outputs": [],
   "source": [
    "ts_train = np.expand_dims(ts_train, axis = 1)\n",
    "ts_test = np.expand_dims(ts_test, axis = 1)\n",
    "ts_all = np.expand_dims(ts_all, axis = 1)\n"
   ]
  },
  {
   "cell_type": "code",
   "execution_count": 9,
   "metadata": {},
   "outputs": [
    {
     "data": {
      "text/plain": [
       "((84, 1), (21, 1))"
      ]
     },
     "execution_count": 9,
     "metadata": {},
     "output_type": "execute_result"
    }
   ],
   "source": [
    "ts_train.shape, ts_test.shape"
   ]
  },
  {
   "cell_type": "code",
   "execution_count": 10,
   "metadata": {},
   "outputs": [
    {
     "data": {
      "text/plain": [
       "array([[ 1.],\n",
       "       [ 2.],\n",
       "       [ 3.],\n",
       "       [ 4.],\n",
       "       [ 5.],\n",
       "       [ 6.],\n",
       "       [ 7.],\n",
       "       [ 1.],\n",
       "       [ 2.],\n",
       "       [ 3.]])"
      ]
     },
     "execution_count": 10,
     "metadata": {},
     "output_type": "execute_result"
    }
   ],
   "source": [
    "ts_train[:10]"
   ]
  },
  {
   "cell_type": "code",
   "execution_count": 11,
   "metadata": {},
   "outputs": [
    {
     "data": {
      "text/plain": [
       "array([[ 1.],\n",
       "       [ 2.],\n",
       "       [ 3.],\n",
       "       [ 4.],\n",
       "       [ 5.],\n",
       "       [ 6.],\n",
       "       [ 7.],\n",
       "       [ 1.],\n",
       "       [ 2.],\n",
       "       [ 3.]])"
      ]
     },
     "execution_count": 11,
     "metadata": {},
     "output_type": "execute_result"
    }
   ],
   "source": [
    "ts_test[:10]"
   ]
  },
  {
   "cell_type": "code",
   "execution_count": 12,
   "metadata": {
    "collapsed": true
   },
   "outputs": [],
   "source": [
    "if scale:\n",
    "    ts_train = scaler.fit_transform(ts_train)\n",
    "    ts_test = scaler.transform(ts_test)"
   ]
  },
  {
   "cell_type": "code",
   "execution_count": 13,
   "metadata": {},
   "outputs": [
    {
     "data": {
      "text/plain": [
       "array([[ 1.],\n",
       "       [ 2.],\n",
       "       [ 3.],\n",
       "       [ 4.],\n",
       "       [ 5.],\n",
       "       [ 6.],\n",
       "       [ 7.],\n",
       "       [ 1.],\n",
       "       [ 2.],\n",
       "       [ 3.]])"
      ]
     },
     "execution_count": 13,
     "metadata": {},
     "output_type": "execute_result"
    }
   ],
   "source": [
    "ts_train[:10]"
   ]
  },
  {
   "cell_type": "code",
   "execution_count": 14,
   "metadata": {},
   "outputs": [
    {
     "data": {
      "text/plain": [
       "array([[ 1.],\n",
       "       [ 2.],\n",
       "       [ 3.],\n",
       "       [ 4.],\n",
       "       [ 5.],\n",
       "       [ 6.],\n",
       "       [ 7.],\n",
       "       [ 1.],\n",
       "       [ 2.],\n",
       "       [ 3.]])"
      ]
     },
     "execution_count": 14,
     "metadata": {},
     "output_type": "execute_result"
    }
   ],
   "source": [
    "ts_test[:10]"
   ]
  },
  {
   "cell_type": "code",
   "execution_count": 15,
   "metadata": {
    "collapsed": true
   },
   "outputs": [],
   "source": [
    "# convert an array of values into a dataset matrix\n",
    "def create_dataset(dataset, window_size):\n",
    "    dataX, dataY = [], []\n",
    "    for i in range(len(dataset) - window_size):\n",
    "        a = dataset[i:(i + window_size), 0]\n",
    "        dataX.append(a)\n",
    "        dataY.append(dataset[i + window_size, 0])\n",
    "    return np.array(dataX), np.array(dataY)"
   ]
  },
  {
   "cell_type": "code",
   "execution_count": 16,
   "metadata": {
    "collapsed": true
   },
   "outputs": [],
   "source": [
    "def create_dataset_multiple_y(dataset, window_size):\n",
    "    dataX, dataY = [], []\n",
    "    for i in range(len(dataset) - 2 * window_size):\n",
    "        a = dataset[i:(i + window_size), 0]\n",
    "        #print(a)\n",
    "        dataX.append(a)\n",
    "        b = dataset[(i + window_size):(i + 2* window_size), 0]\n",
    "        #print(b)\n",
    "        dataY.append(b)\n",
    "    return np.array(dataX), np.array(dataY)"
   ]
  },
  {
   "cell_type": "code",
   "execution_count": 17,
   "metadata": {},
   "outputs": [
    {
     "data": {
      "text/plain": [
       "((74, 5), (74, 5), (11, 5), (11, 5))"
      ]
     },
     "execution_count": 17,
     "metadata": {},
     "output_type": "execute_result"
    }
   ],
   "source": [
    "if use_LSTM:\n",
    "    if lstm_predict_sequences:\n",
    "        X_train, y_train = create_dataset_multiple_y(ts_train, lstm_num_timesteps)\n",
    "        X_test, y_test = create_dataset_multiple_y(ts_test, lstm_num_timesteps)\n",
    "    else:    \n",
    "        X_train, y_train = create_dataset(ts_train, lstm_num_timesteps)\n",
    "        X_test, y_test = create_dataset(ts_test, lstm_num_timesteps)\n",
    "else:\n",
    "    X_train, y_train = create_dataset(ts_train, mlp_num_features)\n",
    "    X_test, y_test = create_dataset(ts_test, mlp_num_features)\n",
    "    \n",
    "# the train and test matrices end up shorter than the respective timeseries by window_size + 1!\n",
    "X_train.shape, y_train.shape, X_test.shape,  y_test.shape"
   ]
  },
  {
   "cell_type": "code",
   "execution_count": 18,
   "metadata": {},
   "outputs": [
    {
     "data": {
      "text/plain": [
       "array([[ 1.,  2.,  3.,  4.,  5.],\n",
       "       [ 2.,  3.,  4.,  5.,  6.],\n",
       "       [ 3.,  4.,  5.,  6.,  7.],\n",
       "       [ 4.,  5.,  6.,  7.,  1.],\n",
       "       [ 5.,  6.,  7.,  1.,  2.]])"
      ]
     },
     "execution_count": 18,
     "metadata": {},
     "output_type": "execute_result"
    }
   ],
   "source": [
    "X_train[:5,:]"
   ]
  },
  {
   "cell_type": "code",
   "execution_count": 19,
   "metadata": {},
   "outputs": [
    {
     "data": {
      "text/plain": [
       "array([[ 6.,  7.,  1.,  2.,  3.],\n",
       "       [ 7.,  1.,  2.,  3.,  4.],\n",
       "       [ 1.,  2.,  3.,  4.,  5.],\n",
       "       [ 2.,  3.,  4.,  5.,  6.],\n",
       "       [ 3.,  4.,  5.,  6.,  7.]])"
      ]
     },
     "execution_count": 19,
     "metadata": {},
     "output_type": "execute_result"
    }
   ],
   "source": [
    "y_train[:5]"
   ]
  },
  {
   "cell_type": "code",
   "execution_count": 20,
   "metadata": {},
   "outputs": [
    {
     "data": {
      "text/plain": [
       "array([[ 1.,  2.,  3.,  4.,  5.],\n",
       "       [ 2.,  3.,  4.,  5.,  6.],\n",
       "       [ 3.,  4.,  5.,  6.,  7.],\n",
       "       [ 4.,  5.,  6.,  7.,  1.],\n",
       "       [ 5.,  6.,  7.,  1.,  2.]])"
      ]
     },
     "execution_count": 20,
     "metadata": {},
     "output_type": "execute_result"
    }
   ],
   "source": [
    "X_test[:5,:]"
   ]
  },
  {
   "cell_type": "code",
   "execution_count": 21,
   "metadata": {},
   "outputs": [
    {
     "data": {
      "text/plain": [
       "array([[ 6.,  7.,  1.,  2.,  3.],\n",
       "       [ 7.,  1.,  2.,  3.,  4.],\n",
       "       [ 1.,  2.,  3.,  4.,  5.],\n",
       "       [ 2.,  3.,  4.,  5.,  6.],\n",
       "       [ 3.,  4.,  5.,  6.,  7.]])"
      ]
     },
     "execution_count": 21,
     "metadata": {},
     "output_type": "execute_result"
    }
   ],
   "source": [
    "y_test[:5]"
   ]
  },
  {
   "cell_type": "code",
   "execution_count": 22,
   "metadata": {
    "collapsed": true
   },
   "outputs": [],
   "source": [
    "if use_LSTM:\n",
    "    # reshape input to be [samples, time steps, features]\n",
    "    X_train = np.reshape(X_train, (X_train.shape[0], lstm_num_timesteps, lstm_num_features))\n",
    "    X_test = np.reshape(X_test, (X_test.shape[0], lstm_num_timesteps, lstm_num_features))\n",
    "    \n",
    "    if lstm_predict_sequences:\n",
    "        y_train = np.reshape(y_train, (y_train.shape[0], lstm_num_predictions, lstm_num_features))\n",
    "        y_test = np.reshape(y_test, (y_test.shape[0], lstm_num_predictions, lstm_num_features))"
   ]
  },
  {
   "cell_type": "code",
   "execution_count": 23,
   "metadata": {},
   "outputs": [
    {
     "data": {
      "text/plain": [
       "((74, 5, 1), (74, 5, 1), (11, 5, 1), (11, 5, 1))"
      ]
     },
     "execution_count": 23,
     "metadata": {},
     "output_type": "execute_result"
    }
   ],
   "source": [
    "X_train.shape, y_train.shape, X_test.shape,  y_test.shape"
   ]
  },
  {
   "cell_type": "code",
   "execution_count": 24,
   "metadata": {},
   "outputs": [
    {
     "name": "stdout",
     "output_type": "stream",
     "text": [
      "LSTM\n",
      "stateful\n",
      "predict_sequences\n",
      "(1, 5, 4)\n",
      "(1, 5, 1)\n"
     ]
    }
   ],
   "source": [
    "if not model_exists:\n",
    "    \n",
    "    model = Sequential()\n",
    "\n",
    "    # LSTM input shape\n",
    "    # (samples, time steps, features)\n",
    "    # LSTM output shape\n",
    "    # if return_sequences: 3D tensor with shape (batch_size, timesteps, units).\n",
    "    # else, 2D tensor with shape (batch_size, units).\n",
    "\n",
    "    if use_LSTM:\n",
    "\n",
    "        print('LSTM')\n",
    "        # the last state for each sample at index i in a batch will be used as initial state\n",
    "        # for the sample of index i in the following batch\n",
    "        if lstm_stateful:\n",
    "            print('stateful')\n",
    "            #\n",
    "            if lstm_stack_layers:\n",
    "                print('stack_layers')\n",
    "                model.add(LSTM(num_neurons,\n",
    "                           batch_input_shape=(batch_size, X_train.shape[1], X_train.shape[2]),\n",
    "                           stateful = True,\n",
    "                           return_sequences = True))\n",
    "                print(model.output_shape)\n",
    "                model.add(LSTM(num_neurons,\n",
    "                           stateful = True))\n",
    "                print(model.output_shape)\n",
    "                model.add(Dense(1))\n",
    "                print(model.output_shape)\n",
    "                model.compile(loss='mean_squared_error', optimizer='adam')\n",
    "\n",
    "            # \n",
    "            elif lstm_predict_sequences:\n",
    "                print('predict_sequences')\n",
    "                model.add(LSTM(num_neurons,\n",
    "                           batch_input_shape=(batch_size, X_train.shape[1], X_train.shape[2]),\n",
    "                           stateful = True,\n",
    "                           return_sequences = True))\n",
    "                print(model.output_shape)\n",
    "                model.add(TimeDistributed(Dense(1)))\n",
    "                print(model.output_shape)\n",
    "                model.add(Activation(\"linear\"))  \n",
    "                model.compile(loss='mean_squared_error', optimizer='adam')\n",
    "\n",
    "            #    \n",
    "            else:\n",
    "                print('predict single')\n",
    "                model.add(LSTM(num_neurons,\n",
    "                           batch_input_shape=(batch_size, X_train.shape[1], X_train.shape[2]),\n",
    "                           stateful = True))\n",
    "                print(model.output_shape)\n",
    "                model.add(Dense(1))\n",
    "                print(model.output_shape)\n",
    "                model.compile(loss='mean_squared_error', optimizer='adam')\n",
    "\n",
    "\n",
    "\n",
    "        # stateful == False    \n",
    "        else: \n",
    "            print('stateless')\n",
    "\n",
    "            if lstm_stack_layers:\n",
    "                print('stack layers')\n",
    "                # input_dim: dimensionality of the input (alternatively, input_shape)\n",
    "                # required when using this layer as the first layer in a model\n",
    "                model.add(LSTM(num_neurons, input_dim = lstm_num_features, return_sequences = True))\n",
    "                print(model.output_shape)\n",
    "                model.add(LSTM(num_neurons))\n",
    "                print(model.output_shape)\n",
    "                model.add(Dense(1))\n",
    "                print(model.output_shape)\n",
    "                model.compile(loss='mean_squared_error', optimizer='adam')\n",
    "            # \n",
    "            # \n",
    "            elif lstm_predict_sequences:\n",
    "                print('predict_sequences')\n",
    "                model.add(LSTM(num_neurons,\n",
    "                          #  input_dim = lstm_num_features,\n",
    "                           batch_input_shape=(batch_size, X_train.shape[1], X_train.shape[2]), \n",
    "                           return_sequences = True))\n",
    "                print(model.output_shape) \n",
    "                model.add(TimeDistributed(Dense(1)))\n",
    "                print(model.output_shape) \n",
    "                model.compile(loss='mean_squared_error', optimizer='adam')\n",
    "\n",
    "            else:\n",
    "                print('predict single')\n",
    "                model.add(LSTM(num_neurons, \n",
    "                               input_shape=(X_train.shape[1], X_train.shape[2])\n",
    "                               #input_dim = lstm_num_features\n",
    "                              )\n",
    "                              )\n",
    "                print(model.output_shape) \n",
    "                model.add(Dense(1))\n",
    "                print(model.output_shape) \n",
    "                model.compile(loss='mean_squared_error', optimizer='adam')\n",
    "\n",
    "\n",
    "\n",
    "    # feedforward\n",
    "    else:\n",
    "        print('MLP')\n",
    "\n",
    "        model.add(Dense(num_neurons, input_dim = mlp_num_features, activation='relu'))\n",
    "        model.add(Dense(1))\n",
    "        model.compile(loss='mean_squared_error', optimizer='adam')\n",
    "\n",
    "else:\n",
    "    print('loading from file: ' + model_name)\n",
    "    model = load_model(model_name)"
   ]
  },
  {
   "cell_type": "code",
   "execution_count": 25,
   "metadata": {},
   "outputs": [
    {
     "name": "stdout",
     "output_type": "stream",
     "text": [
      "_________________________________________________________________\n",
      "Layer (type)                 Output Shape              Param #   \n",
      "=================================================================\n",
      "lstm_1 (LSTM)                (1, 5, 4)                 96        \n",
      "_________________________________________________________________\n",
      "time_distributed_1 (TimeDist (1, 5, 1)                 5         \n",
      "_________________________________________________________________\n",
      "activation_1 (Activation)    (1, 5, 1)                 0         \n",
      "=================================================================\n",
      "Total params: 101.0\n",
      "Trainable params: 101.0\n",
      "Non-trainable params: 0.0\n",
      "_________________________________________________________________\n"
     ]
    }
   ],
   "source": [
    "model.summary()"
   ]
  },
  {
   "cell_type": "code",
   "execution_count": 26,
   "metadata": {},
   "outputs": [
    {
     "name": "stdout",
     "output_type": "stream",
     "text": [
      "epoch: 0\n",
      "Epoch 1/1\n",
      "74/74 [==============================] - 0s - loss: 15.1064     \n",
      "epoch: 1\n",
      "Epoch 1/1\n",
      "74/74 [==============================] - 0s - loss: 13.0697     \n",
      "epoch: 2\n",
      "Epoch 1/1\n",
      "74/74 [==============================] - 0s - loss: 11.5586     \n",
      "epoch: 3\n",
      "Epoch 1/1\n",
      "74/74 [==============================] - 0s - loss: 10.1347     \n",
      "epoch: 4\n",
      "Epoch 1/1\n",
      "74/74 [==============================] - 0s - loss: 8.2258     \n",
      "epoch: 5\n",
      "Epoch 1/1\n",
      "74/74 [==============================] - 0s - loss: 6.4615     \n",
      "epoch: 6\n",
      "Epoch 1/1\n",
      "74/74 [==============================] - 0s - loss: 5.3832     \n",
      "epoch: 7\n",
      "Epoch 1/1\n",
      "74/74 [==============================] - 0s - loss: 4.5938     \n",
      "epoch: 8\n",
      "Epoch 1/1\n",
      "74/74 [==============================] - 0s - loss: 4.2450     \n",
      "epoch: 9\n",
      "Epoch 1/1\n",
      "74/74 [==============================] - 0s - loss: 4.1067     \n",
      "epoch: 10\n",
      "Epoch 1/1\n",
      "74/74 [==============================] - 0s - loss: 4.0555     \n",
      "epoch: 11\n",
      "Epoch 1/1\n",
      "74/74 [==============================] - 0s - loss: 4.0339     \n",
      "epoch: 12\n",
      "Epoch 1/1\n",
      "74/74 [==============================] - 0s - loss: 4.0201     \n",
      "epoch: 13\n",
      "Epoch 1/1\n",
      "74/74 [==============================] - 0s - loss: 4.0077     \n",
      "epoch: 14\n",
      "Epoch 1/1\n",
      "74/74 [==============================] - 0s - loss: 3.9949     \n",
      "epoch: 15\n",
      "Epoch 1/1\n",
      "74/74 [==============================] - 0s - loss: 3.9812     \n",
      "epoch: 16\n",
      "Epoch 1/1\n",
      "74/74 [==============================] - 0s - loss: 3.9664     \n",
      "epoch: 17\n",
      "Epoch 1/1\n",
      "74/74 [==============================] - 0s - loss: 3.9502     \n",
      "epoch: 18\n",
      "Epoch 1/1\n",
      "74/74 [==============================] - 0s - loss: 3.9324     \n",
      "epoch: 19\n",
      "Epoch 1/1\n",
      "74/74 [==============================] - 0s - loss: 3.9125     \n",
      "epoch: 20\n",
      "Epoch 1/1\n",
      "74/74 [==============================] - 0s - loss: 3.8901     \n",
      "epoch: 21\n",
      "Epoch 1/1\n",
      "74/74 [==============================] - 0s - loss: 3.8682     \n",
      "epoch: 22\n",
      "Epoch 1/1\n",
      "74/74 [==============================] - 0s - loss: 3.8540     \n",
      "epoch: 23\n",
      "Epoch 1/1\n",
      "74/74 [==============================] - 0s - loss: 3.8386     \n",
      "epoch: 24\n",
      "Epoch 1/1\n",
      "74/74 [==============================] - 0s - loss: 3.8219     \n",
      "epoch: 25\n",
      "Epoch 1/1\n",
      "74/74 [==============================] - 0s - loss: 3.8046     \n",
      "epoch: 26\n",
      "Epoch 1/1\n",
      "74/74 [==============================] - 0s - loss: 3.7869     \n",
      "epoch: 27\n",
      "Epoch 1/1\n",
      "74/74 [==============================] - 0s - loss: 3.7687     \n",
      "epoch: 28\n",
      "Epoch 1/1\n",
      "74/74 [==============================] - 0s - loss: 3.7507     \n",
      "epoch: 29\n",
      "Epoch 1/1\n",
      "74/74 [==============================] - 0s - loss: 3.7320     \n",
      "epoch: 30\n",
      "Epoch 1/1\n",
      "74/74 [==============================] - 0s - loss: 3.7130     \n",
      "epoch: 31\n",
      "Epoch 1/1\n",
      "74/74 [==============================] - 0s - loss: 3.6942     \n",
      "epoch: 32\n",
      "Epoch 1/1\n",
      "74/74 [==============================] - 0s - loss: 3.6759     \n",
      "epoch: 33\n",
      "Epoch 1/1\n",
      "74/74 [==============================] - 0s - loss: 3.6573     \n",
      "epoch: 34\n",
      "Epoch 1/1\n",
      "74/74 [==============================] - 0s - loss: 3.6392     \n",
      "epoch: 35\n",
      "Epoch 1/1\n",
      "74/74 [==============================] - 0s - loss: 3.6216     \n",
      "epoch: 36\n",
      "Epoch 1/1\n",
      "74/74 [==============================] - 0s - loss: 3.6026     \n",
      "epoch: 37\n",
      "Epoch 1/1\n",
      "74/74 [==============================] - 0s - loss: 3.5816     \n",
      "epoch: 38\n",
      "Epoch 1/1\n",
      "74/74 [==============================] - 0s - loss: 3.5587     \n",
      "epoch: 39\n",
      "Epoch 1/1\n",
      "74/74 [==============================] - 0s - loss: 3.5357     \n",
      "epoch: 40\n",
      "Epoch 1/1\n",
      "74/74 [==============================] - 0s - loss: 3.5129     \n",
      "epoch: 41\n",
      "Epoch 1/1\n",
      "74/74 [==============================] - 0s - loss: 3.4908     \n",
      "epoch: 42\n",
      "Epoch 1/1\n",
      "74/74 [==============================] - 0s - loss: 3.4730     \n",
      "epoch: 43\n",
      "Epoch 1/1\n",
      "74/74 [==============================] - 0s - loss: 3.4357     \n",
      "epoch: 44\n",
      "Epoch 1/1\n",
      "74/74 [==============================] - 0s - loss: 3.3495     \n",
      "epoch: 45\n",
      "Epoch 1/1\n",
      "74/74 [==============================] - 0s - loss: 3.2555     \n",
      "epoch: 46\n",
      "Epoch 1/1\n",
      "74/74 [==============================] - 0s - loss: 3.1642     \n",
      "epoch: 47\n",
      "Epoch 1/1\n",
      "74/74 [==============================] - 0s - loss: 3.0886     \n",
      "epoch: 48\n",
      "Epoch 1/1\n",
      "74/74 [==============================] - 0s - loss: 3.0266     \n",
      "epoch: 49\n",
      "Epoch 1/1\n",
      "74/74 [==============================] - 0s - loss: 2.9684     \n",
      "epoch: 50\n",
      "Epoch 1/1\n",
      "74/74 [==============================] - 0s - loss: 2.9203     \n",
      "epoch: 51\n",
      "Epoch 1/1\n",
      "74/74 [==============================] - 0s - loss: 2.8787     \n",
      "epoch: 52\n",
      "Epoch 1/1\n",
      "74/74 [==============================] - 0s - loss: 2.8434     \n",
      "epoch: 53\n",
      "Epoch 1/1\n",
      "74/74 [==============================] - 0s - loss: 2.8104     \n",
      "epoch: 54\n",
      "Epoch 1/1\n",
      "74/74 [==============================] - 0s - loss: 2.7772     \n",
      "epoch: 55\n",
      "Epoch 1/1\n",
      "74/74 [==============================] - 0s - loss: 2.7442     \n",
      "epoch: 56\n",
      "Epoch 1/1\n",
      "74/74 [==============================] - 0s - loss: 2.7177     \n",
      "epoch: 57\n",
      "Epoch 1/1\n",
      "74/74 [==============================] - 0s - loss: 2.6931     \n",
      "epoch: 58\n",
      "Epoch 1/1\n",
      "74/74 [==============================] - 0s - loss: 2.6699     \n",
      "epoch: 59\n",
      "Epoch 1/1\n",
      "74/74 [==============================] - 0s - loss: 2.6468     \n",
      "epoch: 60\n",
      "Epoch 1/1\n",
      "74/74 [==============================] - 0s - loss: 2.6252     \n",
      "epoch: 61\n",
      "Epoch 1/1\n",
      "74/74 [==============================] - 0s - loss: 2.6042     \n",
      "epoch: 62\n",
      "Epoch 1/1\n",
      "74/74 [==============================] - 0s - loss: 2.5837     \n",
      "epoch: 63\n",
      "Epoch 1/1\n",
      "74/74 [==============================] - 0s - loss: 2.5636     \n",
      "epoch: 64\n",
      "Epoch 1/1\n",
      "74/74 [==============================] - 0s - loss: 2.5439     \n",
      "epoch: 65\n",
      "Epoch 1/1\n",
      "74/74 [==============================] - 0s - loss: 2.5244     \n",
      "epoch: 66\n",
      "Epoch 1/1\n",
      "74/74 [==============================] - 0s - loss: 2.5051     \n",
      "epoch: 67\n",
      "Epoch 1/1\n",
      "74/74 [==============================] - 0s - loss: 2.4857     \n",
      "epoch: 68\n",
      "Epoch 1/1\n",
      "74/74 [==============================] - 0s - loss: 2.4660     \n",
      "epoch: 69\n",
      "Epoch 1/1\n",
      "74/74 [==============================] - 0s - loss: 2.4459     \n",
      "epoch: 70\n",
      "Epoch 1/1\n",
      "74/74 [==============================] - 0s - loss: 2.4251     \n",
      "epoch: 71\n",
      "Epoch 1/1\n",
      "74/74 [==============================] - 0s - loss: 2.4040     \n",
      "epoch: 72\n",
      "Epoch 1/1\n",
      "74/74 [==============================] - 0s - loss: 2.3824     \n",
      "epoch: 73\n",
      "Epoch 1/1\n",
      "74/74 [==============================] - 0s - loss: 2.3605     \n",
      "epoch: 74\n",
      "Epoch 1/1\n",
      "74/74 [==============================] - 0s - loss: 2.3379     \n",
      "epoch: 75\n",
      "Epoch 1/1\n",
      "74/74 [==============================] - 0s - loss: 2.3150     \n",
      "epoch: 76\n",
      "Epoch 1/1\n",
      "74/74 [==============================] - 0s - loss: 2.2920     \n",
      "epoch: 77\n",
      "Epoch 1/1\n",
      "74/74 [==============================] - 0s - loss: 2.2688     \n",
      "epoch: 78\n",
      "Epoch 1/1\n",
      "74/74 [==============================] - 0s - loss: 2.2452     \n",
      "epoch: 79\n",
      "Epoch 1/1\n",
      "74/74 [==============================] - 0s - loss: 2.2213     \n",
      "epoch: 80\n",
      "Epoch 1/1\n",
      "74/74 [==============================] - 0s - loss: 2.1972     \n",
      "epoch: 81\n",
      "Epoch 1/1\n",
      "74/74 [==============================] - 0s - loss: 2.1729     \n",
      "epoch: 82\n",
      "Epoch 1/1\n",
      "74/74 [==============================] - 0s - loss: 2.1485     \n",
      "epoch: 83\n",
      "Epoch 1/1\n",
      "74/74 [==============================] - 0s - loss: 2.1239     \n",
      "epoch: 84\n",
      "Epoch 1/1\n",
      "74/74 [==============================] - 0s - loss: 2.0992     \n",
      "epoch: 85\n",
      "Epoch 1/1\n",
      "74/74 [==============================] - 0s - loss: 2.0745     \n",
      "epoch: 86\n",
      "Epoch 1/1\n",
      "74/74 [==============================] - 0s - loss: 2.0498     \n",
      "epoch: 87\n",
      "Epoch 1/1\n",
      "74/74 [==============================] - 0s - loss: 2.0252     \n",
      "epoch: 88\n",
      "Epoch 1/1\n",
      "74/74 [==============================] - 0s - loss: 2.0007     \n",
      "epoch: 89\n",
      "Epoch 1/1\n",
      "74/74 [==============================] - 0s - loss: 1.9760     \n",
      "epoch: 90\n",
      "Epoch 1/1\n",
      "74/74 [==============================] - 0s - loss: 1.9511     \n",
      "epoch: 91\n",
      "Epoch 1/1\n",
      "74/74 [==============================] - 0s - loss: 1.9265     \n",
      "epoch: 92\n",
      "Epoch 1/1\n",
      "74/74 [==============================] - 0s - loss: 1.9021     \n",
      "epoch: 93\n",
      "Epoch 1/1\n",
      "74/74 [==============================] - 0s - loss: 1.8776     \n",
      "epoch: 94\n",
      "Epoch 1/1\n",
      "74/74 [==============================] - 0s - loss: 1.8534     \n",
      "epoch: 95\n",
      "Epoch 1/1\n",
      "74/74 [==============================] - 0s - loss: 1.8294     \n",
      "epoch: 96\n",
      "Epoch 1/1\n",
      "74/74 [==============================] - 0s - loss: 1.8053     \n",
      "epoch: 97\n",
      "Epoch 1/1\n"
     ]
    },
    {
     "name": "stdout",
     "output_type": "stream",
     "text": [
      "74/74 [==============================] - 0s - loss: 1.7823     \n",
      "epoch: 98\n",
      "Epoch 1/1\n",
      "74/74 [==============================] - 0s - loss: 1.7599     \n",
      "epoch: 99\n",
      "Epoch 1/1\n",
      "74/74 [==============================] - 0s - loss: 1.7380     \n",
      "epoch: 100\n",
      "Epoch 1/1\n",
      "74/74 [==============================] - 0s - loss: 1.7175     \n",
      "epoch: 101\n",
      "Epoch 1/1\n",
      "74/74 [==============================] - 0s - loss: 1.6983     \n",
      "epoch: 102\n",
      "Epoch 1/1\n",
      "74/74 [==============================] - 0s - loss: 1.6788     \n",
      "epoch: 103\n",
      "Epoch 1/1\n",
      "74/74 [==============================] - 0s - loss: 1.6600     \n",
      "epoch: 104\n",
      "Epoch 1/1\n",
      "74/74 [==============================] - 0s - loss: 1.6419     \n",
      "epoch: 105\n",
      "Epoch 1/1\n",
      "74/74 [==============================] - 0s - loss: 1.6241     \n",
      "epoch: 106\n",
      "Epoch 1/1\n",
      "74/74 [==============================] - 0s - loss: 1.6063     \n",
      "epoch: 107\n",
      "Epoch 1/1\n",
      "74/74 [==============================] - 0s - loss: 1.5888     \n",
      "epoch: 108\n",
      "Epoch 1/1\n",
      "74/74 [==============================] - 0s - loss: 1.5713     \n",
      "epoch: 109\n",
      "Epoch 1/1\n",
      "74/74 [==============================] - 0s - loss: 1.5542     \n",
      "epoch: 110\n",
      "Epoch 1/1\n",
      "74/74 [==============================] - 0s - loss: 1.5371     \n",
      "epoch: 111\n",
      "Epoch 1/1\n",
      "74/74 [==============================] - 0s - loss: 1.5201     \n",
      "epoch: 112\n",
      "Epoch 1/1\n",
      "74/74 [==============================] - 0s - loss: 1.5031     \n",
      "epoch: 113\n",
      "Epoch 1/1\n",
      "74/74 [==============================] - 0s - loss: 1.4864     \n",
      "epoch: 114\n",
      "Epoch 1/1\n",
      "74/74 [==============================] - 0s - loss: 1.4696     \n",
      "epoch: 115\n",
      "Epoch 1/1\n",
      "74/74 [==============================] - 0s - loss: 1.4531     \n",
      "epoch: 116\n",
      "Epoch 1/1\n",
      "74/74 [==============================] - 0s - loss: 1.4365     \n",
      "epoch: 117\n",
      "Epoch 1/1\n",
      "74/74 [==============================] - 0s - loss: 1.4193     \n",
      "epoch: 118\n",
      "Epoch 1/1\n",
      "74/74 [==============================] - 0s - loss: 1.4020     \n",
      "epoch: 119\n",
      "Epoch 1/1\n",
      "74/74 [==============================] - 0s - loss: 1.3846     \n",
      "epoch: 120\n",
      "Epoch 1/1\n",
      "74/74 [==============================] - 0s - loss: 1.3672     \n",
      "epoch: 121\n",
      "Epoch 1/1\n",
      "74/74 [==============================] - 0s - loss: 1.3498     \n",
      "epoch: 122\n",
      "Epoch 1/1\n",
      "74/74 [==============================] - 0s - loss: 1.3324     \n",
      "epoch: 123\n",
      "Epoch 1/1\n",
      "74/74 [==============================] - 0s - loss: 1.3150     \n",
      "epoch: 124\n",
      "Epoch 1/1\n",
      "74/74 [==============================] - 0s - loss: 1.2973     \n",
      "epoch: 125\n",
      "Epoch 1/1\n",
      "74/74 [==============================] - 0s - loss: 1.2796     \n",
      "epoch: 126\n",
      "Epoch 1/1\n",
      "74/74 [==============================] - 0s - loss: 1.2619     \n",
      "epoch: 127\n",
      "Epoch 1/1\n",
      "74/74 [==============================] - 0s - loss: 1.2440     \n",
      "epoch: 128\n",
      "Epoch 1/1\n",
      "74/74 [==============================] - 0s - loss: 1.2262     \n",
      "epoch: 129\n",
      "Epoch 1/1\n",
      "74/74 [==============================] - 0s - loss: 1.2082     \n",
      "epoch: 130\n",
      "Epoch 1/1\n",
      "74/74 [==============================] - 0s - loss: 1.1903     \n",
      "epoch: 131\n",
      "Epoch 1/1\n",
      "74/74 [==============================] - 0s - loss: 1.1722     \n",
      "epoch: 132\n",
      "Epoch 1/1\n",
      "74/74 [==============================] - 0s - loss: 1.1537     \n",
      "epoch: 133\n",
      "Epoch 1/1\n",
      "74/74 [==============================] - 0s - loss: 1.1360     \n",
      "epoch: 134\n",
      "Epoch 1/1\n",
      "74/74 [==============================] - 0s - loss: 1.1179     \n",
      "epoch: 135\n",
      "Epoch 1/1\n",
      "74/74 [==============================] - 0s - loss: 1.1002     \n",
      "epoch: 136\n",
      "Epoch 1/1\n",
      "74/74 [==============================] - 0s - loss: 1.0829     \n",
      "epoch: 137\n",
      "Epoch 1/1\n",
      "74/74 [==============================] - 0s - loss: 1.0662     \n",
      "epoch: 138\n",
      "Epoch 1/1\n",
      "74/74 [==============================] - 0s - loss: 1.0496     \n",
      "epoch: 139\n",
      "Epoch 1/1\n",
      "74/74 [==============================] - 0s - loss: 1.0332     \n",
      "epoch: 140\n",
      "Epoch 1/1\n",
      "74/74 [==============================] - 0s - loss: 1.0170     \n",
      "epoch: 141\n",
      "Epoch 1/1\n",
      "74/74 [==============================] - 0s - loss: 1.0007     \n",
      "epoch: 142\n",
      "Epoch 1/1\n",
      "74/74 [==============================] - 0s - loss: 0.9853     \n",
      "epoch: 143\n",
      "Epoch 1/1\n",
      "74/74 [==============================] - 0s - loss: 0.9696     \n",
      "epoch: 144\n",
      "Epoch 1/1\n",
      "74/74 [==============================] - 0s - loss: 0.9540     \n",
      "epoch: 145\n",
      "Epoch 1/1\n",
      "74/74 [==============================] - 0s - loss: 0.9385     \n",
      "epoch: 146\n",
      "Epoch 1/1\n",
      "74/74 [==============================] - 0s - loss: 0.9231     \n",
      "epoch: 147\n",
      "Epoch 1/1\n",
      "74/74 [==============================] - 0s - loss: 0.9075     \n",
      "epoch: 148\n",
      "Epoch 1/1\n",
      "74/74 [==============================] - 0s - loss: 0.8921     \n",
      "epoch: 149\n",
      "Epoch 1/1\n",
      "74/74 [==============================] - 0s - loss: 0.8765     \n",
      "epoch: 150\n",
      "Epoch 1/1\n",
      "74/74 [==============================] - 0s - loss: 0.8609     \n",
      "epoch: 151\n",
      "Epoch 1/1\n",
      "74/74 [==============================] - 0s - loss: 0.8455     \n",
      "epoch: 152\n",
      "Epoch 1/1\n",
      "74/74 [==============================] - 0s - loss: 0.8302     \n",
      "epoch: 153\n",
      "Epoch 1/1\n",
      "74/74 [==============================] - 0s - loss: 0.8150     \n",
      "epoch: 154\n",
      "Epoch 1/1\n",
      "74/74 [==============================] - 0s - loss: 0.7999     \n",
      "epoch: 155\n",
      "Epoch 1/1\n",
      "74/74 [==============================] - 0s - loss: 0.7851     \n",
      "epoch: 156\n",
      "Epoch 1/1\n",
      "74/74 [==============================] - 0s - loss: 0.7703     \n",
      "epoch: 157\n",
      "Epoch 1/1\n",
      "74/74 [==============================] - 0s - loss: 0.7559     \n",
      "epoch: 158\n",
      "Epoch 1/1\n",
      "74/74 [==============================] - 0s - loss: 0.7415     \n",
      "epoch: 159\n",
      "Epoch 1/1\n",
      "74/74 [==============================] - 0s - loss: 0.7272     \n",
      "epoch: 160\n",
      "Epoch 1/1\n",
      "74/74 [==============================] - 0s - loss: 0.7132     \n",
      "epoch: 161\n",
      "Epoch 1/1\n",
      "74/74 [==============================] - 0s - loss: 0.6993     \n",
      "epoch: 162\n",
      "Epoch 1/1\n",
      "74/74 [==============================] - 0s - loss: 0.6856     \n",
      "epoch: 163\n",
      "Epoch 1/1\n",
      "74/74 [==============================] - 0s - loss: 0.6722     \n",
      "epoch: 164\n",
      "Epoch 1/1\n",
      "74/74 [==============================] - 0s - loss: 0.6590     \n",
      "epoch: 165\n",
      "Epoch 1/1\n",
      "74/74 [==============================] - 0s - loss: 0.6460     \n",
      "epoch: 166\n",
      "Epoch 1/1\n",
      "74/74 [==============================] - 0s - loss: 0.6332     \n",
      "epoch: 167\n",
      "Epoch 1/1\n",
      "74/74 [==============================] - 0s - loss: 0.6206     \n",
      "epoch: 168\n",
      "Epoch 1/1\n",
      "74/74 [==============================] - 0s - loss: 0.6082     \n",
      "epoch: 169\n",
      "Epoch 1/1\n",
      "74/74 [==============================] - 0s - loss: 0.5960     \n",
      "epoch: 170\n",
      "Epoch 1/1\n",
      "74/74 [==============================] - 0s - loss: 0.5855     \n",
      "epoch: 171\n",
      "Epoch 1/1\n",
      "74/74 [==============================] - 0s - loss: 0.5752     \n",
      "epoch: 172\n",
      "Epoch 1/1\n",
      "74/74 [==============================] - 0s - loss: 0.5649     \n",
      "epoch: 173\n",
      "Epoch 1/1\n",
      "74/74 [==============================] - 0s - loss: 0.5549     \n",
      "epoch: 174\n",
      "Epoch 1/1\n",
      "74/74 [==============================] - 0s - loss: 0.5455     \n",
      "epoch: 175\n",
      "Epoch 1/1\n",
      "74/74 [==============================] - 0s - loss: 0.5364     \n",
      "epoch: 176\n",
      "Epoch 1/1\n",
      "74/74 [==============================] - 0s - loss: 0.5275     \n",
      "epoch: 177\n",
      "Epoch 1/1\n",
      "74/74 [==============================] - 0s - loss: 0.5187     \n",
      "epoch: 178\n",
      "Epoch 1/1\n",
      "74/74 [==============================] - 0s - loss: 0.5103     \n",
      "epoch: 179\n",
      "Epoch 1/1\n",
      "74/74 [==============================] - 0s - loss: 0.5020     \n",
      "epoch: 180\n",
      "Epoch 1/1\n",
      "74/74 [==============================] - 0s - loss: 0.4939     \n",
      "epoch: 181\n",
      "Epoch 1/1\n",
      "74/74 [==============================] - 0s - loss: 0.4859     \n",
      "epoch: 182\n",
      "Epoch 1/1\n",
      "74/74 [==============================] - 0s - loss: 0.4780     \n",
      "epoch: 183\n",
      "Epoch 1/1\n",
      "74/74 [==============================] - 0s - loss: 0.4705     \n",
      "epoch: 184\n",
      "Epoch 1/1\n",
      "74/74 [==============================] - 0s - loss: 0.4634     \n",
      "epoch: 185\n",
      "Epoch 1/1\n",
      "74/74 [==============================] - 0s - loss: 0.4567     \n",
      "epoch: 186\n",
      "Epoch 1/1\n",
      "74/74 [==============================] - 0s - loss: 0.4501     \n",
      "epoch: 187\n",
      "Epoch 1/1\n",
      "74/74 [==============================] - 0s - loss: 0.4434     \n",
      "epoch: 188\n",
      "Epoch 1/1\n",
      "74/74 [==============================] - 0s - loss: 0.4367     \n",
      "epoch: 189\n",
      "Epoch 1/1\n",
      "74/74 [==============================] - 0s - loss: 0.4301     \n",
      "epoch: 190\n",
      "Epoch 1/1\n",
      "74/74 [==============================] - 0s - loss: 0.4235     \n",
      "epoch: 191\n",
      "Epoch 1/1\n",
      "74/74 [==============================] - 0s - loss: 0.4170     \n",
      "epoch: 192\n",
      "Epoch 1/1\n",
      "74/74 [==============================] - 0s - loss: 0.4105     \n",
      "epoch: 193\n",
      "Epoch 1/1\n"
     ]
    },
    {
     "name": "stdout",
     "output_type": "stream",
     "text": [
      "74/74 [==============================] - 0s - loss: 0.4040     \n",
      "epoch: 194\n",
      "Epoch 1/1\n",
      "74/74 [==============================] - 0s - loss: 0.3976     \n",
      "epoch: 195\n",
      "Epoch 1/1\n",
      "74/74 [==============================] - 0s - loss: 0.3913     \n",
      "epoch: 196\n",
      "Epoch 1/1\n",
      "74/74 [==============================] - 0s - loss: 0.3849     \n",
      "epoch: 197\n",
      "Epoch 1/1\n",
      "74/74 [==============================] - 0s - loss: 0.3788     \n",
      "epoch: 198\n",
      "Epoch 1/1\n",
      "74/74 [==============================] - 0s - loss: 0.3726     \n",
      "epoch: 199\n",
      "Epoch 1/1\n",
      "74/74 [==============================] - 0s - loss: 0.3666     \n"
     ]
    }
   ],
   "source": [
    "if not model_exists:\n",
    "    if use_LSTM & lstm_stateful:\n",
    "\n",
    "        for i in range(num_epochs):\n",
    "                print('epoch: ' + str(i))\n",
    "                # shuffle must be False!\n",
    "                model.fit(X_train, y_train, epochs = 1, batch_size = batch_size, shuffle = False)\n",
    "                model.reset_states()\n",
    "\n",
    "    else: \n",
    "        model.fit(X_train, y_train, epochs = num_epochs, batch_size = batch_size)\n"
   ]
  },
  {
   "cell_type": "code",
   "execution_count": 27,
   "metadata": {
    "collapsed": true
   },
   "outputs": [],
   "source": [
    "if not model_exists:\n",
    "    model.save(model_name)"
   ]
  },
  {
   "cell_type": "code",
   "execution_count": 28,
   "metadata": {},
   "outputs": [
    {
     "name": "stdout",
     "output_type": "stream",
     "text": [
      "\r",
      " 1/11 [=>............................] - ETA: 0s"
     ]
    },
    {
     "data": {
      "text/plain": [
       "0.5308593362569809"
      ]
     },
     "execution_count": 28,
     "metadata": {},
     "output_type": "execute_result"
    }
   ],
   "source": [
    "test_loss = np.nan\n",
    "if lstm_stateful:\n",
    "    test_loss = model.evaluate(X_test, y_test, batch_size = batch_size)\n",
    "else:\n",
    "    test_loss = model.evaluate(X_test, y_test, batch_size = batch_size)\n",
    "test_loss"
   ]
  },
  {
   "cell_type": "code",
   "execution_count": 29,
   "metadata": {},
   "outputs": [],
   "source": [
    "if lstm_stateful:\n",
    "    model.reset_states()\n",
    "    pred_train = model.predict(X_train, batch_size = batch_size)\n",
    "    model.reset_states()\n",
    "    pred_test = model.predict(X_test, batch_size = batch_size)\n",
    "else:\n",
    "    pred_train = model.predict(X_train, batch_size = batch_size)\n",
    "    pred_test = model.predict(X_test, batch_size = batch_size)"
   ]
  },
  {
   "cell_type": "code",
   "execution_count": 30,
   "metadata": {},
   "outputs": [
    {
     "name": "stdout",
     "output_type": "stream",
     "text": [
      "[[[ 3.78758597]\n",
      "  [ 4.30302477]\n",
      "  [ 1.05972099]\n",
      "  [ 2.02396679]\n",
      "  [ 3.14530754]]]\n",
      "[[[ 3.44153833]\n",
      "  [ 2.13514972]\n",
      "  [ 2.29536033]\n",
      "  [ 3.2024858 ]\n",
      "  [ 4.10491323]]]\n",
      "[[[ 4.01372862]\n",
      "  [ 3.42436576]\n",
      "  [ 3.482126  ]\n",
      "  [ 4.16405821]\n",
      "  [ 4.76164579]]]\n",
      "[[[ 4.06492615]\n",
      "  [ 4.26023149]\n",
      "  [ 4.40979671]\n",
      "  [ 4.82008886]\n",
      "  [ 6.60843182]]]\n",
      "[[[ 4.0649271 ]\n",
      "  [ 4.73364353]\n",
      "  [ 4.94404459]\n",
      "  [ 6.60471296]\n",
      "  [ 6.18497658]]]\n",
      "[[[ 4.0649271 ]\n",
      "  [ 4.98502827]\n",
      "  [ 6.57738543]\n",
      "  [ 6.14450073]\n",
      "  [ 1.60029697]]]\n",
      "[[[ 4.0649271 ]\n",
      "  [ 6.79715109]\n",
      "  [ 6.22236347]\n",
      "  [ 1.64695168]\n",
      "  [ 1.97623169]]]\n",
      "[[[ 3.78758597]\n",
      "  [ 4.30302477]\n",
      "  [ 1.05972099]\n",
      "  [ 2.02396679]\n",
      "  [ 3.14530754]]]\n",
      "[[[ 3.44153833]\n",
      "  [ 2.13514972]\n",
      "  [ 2.29536033]\n",
      "  [ 3.2024858 ]\n",
      "  [ 4.10491323]]]\n",
      "[[[ 4.01372862]\n",
      "  [ 3.42436576]\n",
      "  [ 3.482126  ]\n",
      "  [ 4.16405821]\n",
      "  [ 4.76164579]]]\n",
      "[[[ 4.06492615]\n",
      "  [ 4.26023149]\n",
      "  [ 4.40979671]\n",
      "  [ 4.82008886]\n",
      "  [ 6.60843182]]]\n"
     ]
    }
   ],
   "source": [
    "for i in X_test:\n",
    "    if use_LSTM:\n",
    "        if lstm_stateful:\n",
    "            model.reset_states()\n",
    "        #print(i)\n",
    "        r = i.reshape(1, len(i), 1)\n",
    "        #print(i.shape), print(r.shape)\n",
    "        print(model.predict(r))\n",
    "    else:\n",
    "        r = i.reshape(1, len(i))\n",
    "        #print(i.shape), print(r.shape)\n",
    "        print(model.predict(r))"
   ]
  },
  {
   "cell_type": "code",
   "execution_count": 31,
   "metadata": {},
   "outputs": [
    {
     "data": {
      "text/plain": [
       "array([[[ 3.78758597],\n",
       "        [ 4.30302477],\n",
       "        [ 1.05972099],\n",
       "        [ 2.02396679],\n",
       "        [ 3.14530754]],\n",
       "\n",
       "       [[ 5.14531898],\n",
       "        [ 1.24976325],\n",
       "        [ 1.9921385 ],\n",
       "        [ 3.13777757],\n",
       "        [ 4.09243822]],\n",
       "\n",
       "       [[ 1.95790184],\n",
       "        [ 2.09569263],\n",
       "        [ 3.15428805],\n",
       "        [ 4.09517717],\n",
       "        [ 4.74734116]],\n",
       "\n",
       "       [[ 2.53311896],\n",
       "        [ 3.21941686],\n",
       "        [ 4.10605431],\n",
       "        [ 4.74941826],\n",
       "        [ 6.6090169 ]],\n",
       "\n",
       "       [[ 2.90347791],\n",
       "        [ 4.05414152],\n",
       "        [ 4.73961353],\n",
       "        [ 6.6090169 ],\n",
       "        [ 6.19166088]],\n",
       "\n",
       "       [[ 3.66004443],\n",
       "        [ 4.6722703 ],\n",
       "        [ 6.6090169 ],\n",
       "        [ 6.19166088],\n",
       "        [ 1.62830627]],\n",
       "\n",
       "       [[ 4.21880913],\n",
       "        [ 6.6090169 ],\n",
       "        [ 6.19166088],\n",
       "        [ 1.62830627],\n",
       "        [ 1.97062731]],\n",
       "\n",
       "       [[ 6.74134207],\n",
       "        [ 6.30520153],\n",
       "        [ 1.69724166],\n",
       "        [ 1.97121501],\n",
       "        [ 3.13437772]],\n",
       "\n",
       "       [[ 5.13703537],\n",
       "        [ 1.24507749],\n",
       "        [ 1.99213624],\n",
       "        [ 3.13777709],\n",
       "        [ 4.09243822]],\n",
       "\n",
       "       [[ 1.95790112],\n",
       "        [ 2.09569287],\n",
       "        [ 3.15428853],\n",
       "        [ 4.09517717],\n",
       "        [ 4.74734116]],\n",
       "\n",
       "       [[ 2.53311896],\n",
       "        [ 3.21941686],\n",
       "        [ 4.10605431],\n",
       "        [ 4.74941826],\n",
       "        [ 6.6090169 ]]], dtype=float32)"
      ]
     },
     "execution_count": 31,
     "metadata": {},
     "output_type": "execute_result"
    }
   ],
   "source": [
    "pred_test"
   ]
  },
  {
   "cell_type": "code",
   "execution_count": 32,
   "metadata": {
    "collapsed": true
   },
   "outputs": [],
   "source": [
    "def calc_dependent_predictions(model, data, prediction_window):\n",
    "    prediction_seqs = []\n",
    "    for i in range(int(len(data)/prediction_window)):\n",
    "        print('Calculating predictions starting from: {}'.format(i))\n",
    "        curr_frame = data[i*prediction_window]\n",
    "        predicted = []\n",
    "        for j in range(prediction_window):\n",
    "            #print('Calculating single prediction: {}'.format(j))\n",
    "            #print(curr_frame)\n",
    "            pred = model.predict(curr_frame[np.newaxis,:,:])[0,0]\n",
    "            #pred = model.predict(curr_frame.reshape(1, len(curr_frame), 1)) # same\n",
    "            #print(pred)\n",
    "            predicted.append(pred)\n",
    "            curr_frame = curr_frame[1:] \n",
    "            curr_frame = np.insert(curr_frame, [window_size-1], predicted[-1], axis=0)\n",
    "        prediction_seqs.append(predicted)\n",
    "    return prediction_seqs"
   ]
  },
  {
   "cell_type": "code",
   "execution_count": 45,
   "metadata": {},
   "outputs": [],
   "source": [
    "if use_LSTM and not lstm_predict_sequences:\n",
    "    prediction_seqs_train = calc_dependent_predictions(model, X_train, prediction_window)\n",
    "    prediction_seqs_test = calc_dependent_predictions(model, X_test, prediction_window)"
   ]
  },
  {
   "cell_type": "code",
   "execution_count": 46,
   "metadata": {},
   "outputs": [],
   "source": [
    "if use_LSTM and not lstm_predict_sequences:\n",
    "    print(prediction_seqs_train)"
   ]
  },
  {
   "cell_type": "code",
   "execution_count": 47,
   "metadata": {},
   "outputs": [],
   "source": [
    "if use_LSTM and not lstm_predict_sequences:\n",
    "    print(prediction_seqs_test)"
   ]
  },
  {
   "cell_type": "code",
   "execution_count": 48,
   "metadata": {},
   "outputs": [
    {
     "data": {
      "text/plain": [
       "array([[[ 6.],\n",
       "        [ 7.],\n",
       "        [ 1.],\n",
       "        [ 2.],\n",
       "        [ 3.]],\n",
       "\n",
       "       [[ 7.],\n",
       "        [ 1.],\n",
       "        [ 2.],\n",
       "        [ 3.],\n",
       "        [ 4.]],\n",
       "\n",
       "       [[ 1.],\n",
       "        [ 2.],\n",
       "        [ 3.],\n",
       "        [ 4.],\n",
       "        [ 5.]],\n",
       "\n",
       "       [[ 2.],\n",
       "        [ 3.],\n",
       "        [ 4.],\n",
       "        [ 5.],\n",
       "        [ 6.]],\n",
       "\n",
       "       [[ 3.],\n",
       "        [ 4.],\n",
       "        [ 5.],\n",
       "        [ 6.],\n",
       "        [ 7.]],\n",
       "\n",
       "       [[ 4.],\n",
       "        [ 5.],\n",
       "        [ 6.],\n",
       "        [ 7.],\n",
       "        [ 1.]],\n",
       "\n",
       "       [[ 5.],\n",
       "        [ 6.],\n",
       "        [ 7.],\n",
       "        [ 1.],\n",
       "        [ 2.]],\n",
       "\n",
       "       [[ 6.],\n",
       "        [ 7.],\n",
       "        [ 1.],\n",
       "        [ 2.],\n",
       "        [ 3.]],\n",
       "\n",
       "       [[ 7.],\n",
       "        [ 1.],\n",
       "        [ 2.],\n",
       "        [ 3.],\n",
       "        [ 4.]],\n",
       "\n",
       "       [[ 1.],\n",
       "        [ 2.],\n",
       "        [ 3.],\n",
       "        [ 4.],\n",
       "        [ 5.]]])"
      ]
     },
     "execution_count": 48,
     "metadata": {},
     "output_type": "execute_result"
    }
   ],
   "source": [
    "y_train[:10]"
   ]
  },
  {
   "cell_type": "code",
   "execution_count": 49,
   "metadata": {},
   "outputs": [
    {
     "data": {
      "text/plain": [
       "array([[ 3.78758597],\n",
       "       [ 5.14531898],\n",
       "       [ 1.95790184],\n",
       "       [ 2.53311896],\n",
       "       [ 2.90347791],\n",
       "       [ 3.66004443],\n",
       "       [ 4.21880913],\n",
       "       [ 6.74134207],\n",
       "       [ 5.13703537],\n",
       "       [ 1.95790112]], dtype=float32)"
      ]
     },
     "execution_count": 49,
     "metadata": {},
     "output_type": "execute_result"
    }
   ],
   "source": [
    "pred_train[:10,0]"
   ]
  },
  {
   "cell_type": "code",
   "execution_count": 50,
   "metadata": {},
   "outputs": [
    {
     "data": {
      "text/plain": [
       "array([[[ 6.],\n",
       "        [ 7.],\n",
       "        [ 1.],\n",
       "        [ 2.],\n",
       "        [ 3.]],\n",
       "\n",
       "       [[ 7.],\n",
       "        [ 1.],\n",
       "        [ 2.],\n",
       "        [ 3.],\n",
       "        [ 4.]],\n",
       "\n",
       "       [[ 1.],\n",
       "        [ 2.],\n",
       "        [ 3.],\n",
       "        [ 4.],\n",
       "        [ 5.]],\n",
       "\n",
       "       [[ 2.],\n",
       "        [ 3.],\n",
       "        [ 4.],\n",
       "        [ 5.],\n",
       "        [ 6.]],\n",
       "\n",
       "       [[ 3.],\n",
       "        [ 4.],\n",
       "        [ 5.],\n",
       "        [ 6.],\n",
       "        [ 7.]],\n",
       "\n",
       "       [[ 4.],\n",
       "        [ 5.],\n",
       "        [ 6.],\n",
       "        [ 7.],\n",
       "        [ 1.]],\n",
       "\n",
       "       [[ 5.],\n",
       "        [ 6.],\n",
       "        [ 7.],\n",
       "        [ 1.],\n",
       "        [ 2.]],\n",
       "\n",
       "       [[ 6.],\n",
       "        [ 7.],\n",
       "        [ 1.],\n",
       "        [ 2.],\n",
       "        [ 3.]],\n",
       "\n",
       "       [[ 7.],\n",
       "        [ 1.],\n",
       "        [ 2.],\n",
       "        [ 3.],\n",
       "        [ 4.]],\n",
       "\n",
       "       [[ 1.],\n",
       "        [ 2.],\n",
       "        [ 3.],\n",
       "        [ 4.],\n",
       "        [ 5.]]])"
      ]
     },
     "execution_count": 50,
     "metadata": {},
     "output_type": "execute_result"
    }
   ],
   "source": [
    "y_test[:10]"
   ]
  },
  {
   "cell_type": "code",
   "execution_count": 51,
   "metadata": {},
   "outputs": [
    {
     "data": {
      "text/plain": [
       "array([[ 3.78758597],\n",
       "       [ 5.14531898],\n",
       "       [ 1.95790184],\n",
       "       [ 2.53311896],\n",
       "       [ 2.90347791],\n",
       "       [ 3.66004443],\n",
       "       [ 4.21880913],\n",
       "       [ 6.74134207],\n",
       "       [ 5.13703537],\n",
       "       [ 1.95790112]], dtype=float32)"
      ]
     },
     "execution_count": 51,
     "metadata": {},
     "output_type": "execute_result"
    }
   ],
   "source": [
    "pred_test[:10,0]"
   ]
  },
  {
   "cell_type": "code",
   "execution_count": 52,
   "metadata": {
    "collapsed": true
   },
   "outputs": [],
   "source": [
    "if scale:\n",
    "    pred_train = scaler.inverse_transform(pred_train)\n",
    "    y_train = scaler.inverse_transform(y_train.reshape(-1,1))\n",
    "    pred_test = scaler.inverse_transform(pred_test)\n",
    "    y_test = scaler.inverse_transform(y_test.reshape(-1,1))\n"
   ]
  },
  {
   "cell_type": "code",
   "execution_count": 53,
   "metadata": {},
   "outputs": [
    {
     "data": {
      "text/plain": [
       "(array([[[ 6.],\n",
       "         [ 7.],\n",
       "         [ 1.],\n",
       "         [ 2.],\n",
       "         [ 3.]],\n",
       " \n",
       "        [[ 7.],\n",
       "         [ 1.],\n",
       "         [ 2.],\n",
       "         [ 3.],\n",
       "         [ 4.]],\n",
       " \n",
       "        [[ 1.],\n",
       "         [ 2.],\n",
       "         [ 3.],\n",
       "         [ 4.],\n",
       "         [ 5.]],\n",
       " \n",
       "        [[ 2.],\n",
       "         [ 3.],\n",
       "         [ 4.],\n",
       "         [ 5.],\n",
       "         [ 6.]],\n",
       " \n",
       "        [[ 3.],\n",
       "         [ 4.],\n",
       "         [ 5.],\n",
       "         [ 6.],\n",
       "         [ 7.]],\n",
       " \n",
       "        [[ 4.],\n",
       "         [ 5.],\n",
       "         [ 6.],\n",
       "         [ 7.],\n",
       "         [ 1.]],\n",
       " \n",
       "        [[ 5.],\n",
       "         [ 6.],\n",
       "         [ 7.],\n",
       "         [ 1.],\n",
       "         [ 2.]],\n",
       " \n",
       "        [[ 6.],\n",
       "         [ 7.],\n",
       "         [ 1.],\n",
       "         [ 2.],\n",
       "         [ 3.]],\n",
       " \n",
       "        [[ 7.],\n",
       "         [ 1.],\n",
       "         [ 2.],\n",
       "         [ 3.],\n",
       "         [ 4.]],\n",
       " \n",
       "        [[ 1.],\n",
       "         [ 2.],\n",
       "         [ 3.],\n",
       "         [ 4.],\n",
       "         [ 5.]]]), array([[ 3.78758597],\n",
       "        [ 5.14531898],\n",
       "        [ 1.95790184],\n",
       "        [ 2.53311896],\n",
       "        [ 2.90347791],\n",
       "        [ 3.66004443],\n",
       "        [ 4.21880913],\n",
       "        [ 6.74134207],\n",
       "        [ 5.13703537],\n",
       "        [ 1.95790112]], dtype=float32))"
      ]
     },
     "execution_count": 53,
     "metadata": {},
     "output_type": "execute_result"
    }
   ],
   "source": [
    "y_train[:10],pred_train[:10,0]"
   ]
  },
  {
   "cell_type": "code",
   "execution_count": 54,
   "metadata": {},
   "outputs": [
    {
     "data": {
      "text/plain": [
       "(array([[[ 6.],\n",
       "         [ 7.],\n",
       "         [ 1.],\n",
       "         [ 2.],\n",
       "         [ 3.]],\n",
       " \n",
       "        [[ 7.],\n",
       "         [ 1.],\n",
       "         [ 2.],\n",
       "         [ 3.],\n",
       "         [ 4.]],\n",
       " \n",
       "        [[ 1.],\n",
       "         [ 2.],\n",
       "         [ 3.],\n",
       "         [ 4.],\n",
       "         [ 5.]],\n",
       " \n",
       "        [[ 2.],\n",
       "         [ 3.],\n",
       "         [ 4.],\n",
       "         [ 5.],\n",
       "         [ 6.]],\n",
       " \n",
       "        [[ 3.],\n",
       "         [ 4.],\n",
       "         [ 5.],\n",
       "         [ 6.],\n",
       "         [ 7.]],\n",
       " \n",
       "        [[ 4.],\n",
       "         [ 5.],\n",
       "         [ 6.],\n",
       "         [ 7.],\n",
       "         [ 1.]],\n",
       " \n",
       "        [[ 5.],\n",
       "         [ 6.],\n",
       "         [ 7.],\n",
       "         [ 1.],\n",
       "         [ 2.]],\n",
       " \n",
       "        [[ 6.],\n",
       "         [ 7.],\n",
       "         [ 1.],\n",
       "         [ 2.],\n",
       "         [ 3.]],\n",
       " \n",
       "        [[ 7.],\n",
       "         [ 1.],\n",
       "         [ 2.],\n",
       "         [ 3.],\n",
       "         [ 4.]],\n",
       " \n",
       "        [[ 1.],\n",
       "         [ 2.],\n",
       "         [ 3.],\n",
       "         [ 4.],\n",
       "         [ 5.]],\n",
       " \n",
       "        [[ 2.],\n",
       "         [ 3.],\n",
       "         [ 4.],\n",
       "         [ 5.],\n",
       "         [ 6.]]]), array([[ 3.78758597],\n",
       "        [ 5.14531898],\n",
       "        [ 1.95790184],\n",
       "        [ 2.53311896],\n",
       "        [ 2.90347791],\n",
       "        [ 3.66004443],\n",
       "        [ 4.21880913],\n",
       "        [ 6.74134207],\n",
       "        [ 5.13703537],\n",
       "        [ 1.95790112],\n",
       "        [ 2.53311896]], dtype=float32))"
      ]
     },
     "execution_count": 54,
     "metadata": {},
     "output_type": "execute_result"
    }
   ],
   "source": [
    "y_test[:],pred_test[:,0]"
   ]
  },
  {
   "cell_type": "code",
   "execution_count": 55,
   "metadata": {},
   "outputs": [
    {
     "ename": "ValueError",
     "evalue": "Found array with dim 3. Estimator expected <= 2.",
     "output_type": "error",
     "traceback": [
      "\u001b[0;31m---------------------------------------------------------------------------\u001b[0m",
      "\u001b[0;31mValueError\u001b[0m                                Traceback (most recent call last)",
      "\u001b[0;32m<ipython-input-55-8c817673a9be>\u001b[0m in \u001b[0;36m<module>\u001b[0;34m()\u001b[0m\n\u001b[1;32m      1\u001b[0m \u001b[0;31m# calculate root mean squared error\u001b[0m\u001b[0;34m\u001b[0m\u001b[0;34m\u001b[0m\u001b[0m\n\u001b[0;32m----> 2\u001b[0;31m \u001b[0mrsme_train\u001b[0m \u001b[0;34m=\u001b[0m \u001b[0mmath\u001b[0m\u001b[0;34m.\u001b[0m\u001b[0msqrt\u001b[0m\u001b[0;34m(\u001b[0m\u001b[0mmean_squared_error\u001b[0m\u001b[0;34m(\u001b[0m\u001b[0my_train\u001b[0m\u001b[0;34m,\u001b[0m \u001b[0mpred_train\u001b[0m\u001b[0;34m[\u001b[0m\u001b[0;34m:\u001b[0m\u001b[0;34m,\u001b[0m\u001b[0;36m0\u001b[0m\u001b[0;34m]\u001b[0m\u001b[0;34m)\u001b[0m\u001b[0;34m)\u001b[0m\u001b[0;34m\u001b[0m\u001b[0m\n\u001b[0m\u001b[1;32m      3\u001b[0m \u001b[0mprint\u001b[0m\u001b[0;34m(\u001b[0m\u001b[0;34m'Train Score: %.2f RMSE'\u001b[0m \u001b[0;34m%\u001b[0m \u001b[0;34m(\u001b[0m\u001b[0mrsme_train\u001b[0m\u001b[0;34m)\u001b[0m\u001b[0;34m)\u001b[0m\u001b[0;34m\u001b[0m\u001b[0m\n\u001b[1;32m      4\u001b[0m \u001b[0mrsme_test\u001b[0m \u001b[0;34m=\u001b[0m \u001b[0mmath\u001b[0m\u001b[0;34m.\u001b[0m\u001b[0msqrt\u001b[0m\u001b[0;34m(\u001b[0m\u001b[0mmean_squared_error\u001b[0m\u001b[0;34m(\u001b[0m\u001b[0my_test\u001b[0m\u001b[0;34m,\u001b[0m \u001b[0mpred_test\u001b[0m\u001b[0;34m[\u001b[0m\u001b[0;34m:\u001b[0m\u001b[0;34m,\u001b[0m\u001b[0;36m0\u001b[0m\u001b[0;34m]\u001b[0m\u001b[0;34m)\u001b[0m\u001b[0;34m)\u001b[0m\u001b[0;34m\u001b[0m\u001b[0m\n\u001b[1;32m      5\u001b[0m \u001b[0mprint\u001b[0m\u001b[0;34m(\u001b[0m\u001b[0;34m'Test Score: %.2f RMSE'\u001b[0m \u001b[0;34m%\u001b[0m \u001b[0;34m(\u001b[0m\u001b[0mrsme_test\u001b[0m\u001b[0;34m)\u001b[0m\u001b[0;34m)\u001b[0m\u001b[0;34m\u001b[0m\u001b[0m\n",
      "\u001b[0;32m/home/key/software/anaconda3/envs/tf3.5/lib/python3.5/site-packages/sklearn/metrics/regression.py\u001b[0m in \u001b[0;36mmean_squared_error\u001b[0;34m(y_true, y_pred, sample_weight, multioutput)\u001b[0m\n\u001b[1;32m    229\u001b[0m     \"\"\"\n\u001b[1;32m    230\u001b[0m     y_type, y_true, y_pred, multioutput = _check_reg_targets(\n\u001b[0;32m--> 231\u001b[0;31m         y_true, y_pred, multioutput)\n\u001b[0m\u001b[1;32m    232\u001b[0m     output_errors = np.average((y_true - y_pred) ** 2, axis=0,\n\u001b[1;32m    233\u001b[0m                                weights=sample_weight)\n",
      "\u001b[0;32m/home/key/software/anaconda3/envs/tf3.5/lib/python3.5/site-packages/sklearn/metrics/regression.py\u001b[0m in \u001b[0;36m_check_reg_targets\u001b[0;34m(y_true, y_pred, multioutput)\u001b[0m\n\u001b[1;32m     73\u001b[0m     \"\"\"\n\u001b[1;32m     74\u001b[0m     \u001b[0mcheck_consistent_length\u001b[0m\u001b[0;34m(\u001b[0m\u001b[0my_true\u001b[0m\u001b[0;34m,\u001b[0m \u001b[0my_pred\u001b[0m\u001b[0;34m)\u001b[0m\u001b[0;34m\u001b[0m\u001b[0m\n\u001b[0;32m---> 75\u001b[0;31m     \u001b[0my_true\u001b[0m \u001b[0;34m=\u001b[0m \u001b[0mcheck_array\u001b[0m\u001b[0;34m(\u001b[0m\u001b[0my_true\u001b[0m\u001b[0;34m,\u001b[0m \u001b[0mensure_2d\u001b[0m\u001b[0;34m=\u001b[0m\u001b[0;32mFalse\u001b[0m\u001b[0;34m)\u001b[0m\u001b[0;34m\u001b[0m\u001b[0m\n\u001b[0m\u001b[1;32m     76\u001b[0m     \u001b[0my_pred\u001b[0m \u001b[0;34m=\u001b[0m \u001b[0mcheck_array\u001b[0m\u001b[0;34m(\u001b[0m\u001b[0my_pred\u001b[0m\u001b[0;34m,\u001b[0m \u001b[0mensure_2d\u001b[0m\u001b[0;34m=\u001b[0m\u001b[0;32mFalse\u001b[0m\u001b[0;34m)\u001b[0m\u001b[0;34m\u001b[0m\u001b[0m\n\u001b[1;32m     77\u001b[0m \u001b[0;34m\u001b[0m\u001b[0m\n",
      "\u001b[0;32m/home/key/software/anaconda3/envs/tf3.5/lib/python3.5/site-packages/sklearn/utils/validation.py\u001b[0m in \u001b[0;36mcheck_array\u001b[0;34m(array, accept_sparse, dtype, order, copy, force_all_finite, ensure_2d, allow_nd, ensure_min_samples, ensure_min_features, warn_on_dtype, estimator)\u001b[0m\n\u001b[1;32m    403\u001b[0m         \u001b[0;32mif\u001b[0m \u001b[0;32mnot\u001b[0m \u001b[0mallow_nd\u001b[0m \u001b[0;32mand\u001b[0m \u001b[0marray\u001b[0m\u001b[0;34m.\u001b[0m\u001b[0mndim\u001b[0m \u001b[0;34m>=\u001b[0m \u001b[0;36m3\u001b[0m\u001b[0;34m:\u001b[0m\u001b[0;34m\u001b[0m\u001b[0m\n\u001b[1;32m    404\u001b[0m             raise ValueError(\"Found array with dim %d. %s expected <= 2.\"\n\u001b[0;32m--> 405\u001b[0;31m                              % (array.ndim, estimator_name))\n\u001b[0m\u001b[1;32m    406\u001b[0m         \u001b[0;32mif\u001b[0m \u001b[0mforce_all_finite\u001b[0m\u001b[0;34m:\u001b[0m\u001b[0;34m\u001b[0m\u001b[0m\n\u001b[1;32m    407\u001b[0m             \u001b[0m_assert_all_finite\u001b[0m\u001b[0;34m(\u001b[0m\u001b[0marray\u001b[0m\u001b[0;34m)\u001b[0m\u001b[0;34m\u001b[0m\u001b[0m\n",
      "\u001b[0;31mValueError\u001b[0m: Found array with dim 3. Estimator expected <= 2."
     ]
    }
   ],
   "source": [
    "# calculate root mean squared error\n",
    "rsme_train = math.sqrt(mean_squared_error(y_train, pred_train[:,0]))\n",
    "print('Train Score: %.2f RMSE' % (rsme_train))\n",
    "rsme_test = math.sqrt(mean_squared_error(y_test, pred_test[:,0]))\n",
    "print('Test Score: %.2f RMSE' % (rsme_test))"
   ]
  },
  {
   "cell_type": "code",
   "execution_count": 57,
   "metadata": {},
   "outputs": [
    {
     "name": "stdout",
     "output_type": "stream",
     "text": [
      "84 74 74\n"
     ]
    },
    {
     "data": {
      "text/plain": [
       "(21, 11, 11)"
      ]
     },
     "execution_count": 57,
     "metadata": {},
     "output_type": "execute_result"
    }
   ],
   "source": [
    "print(len(ts_train), len(pred_train), len(y_train))\n",
    "len(ts_test), len(pred_test), len(y_test) "
   ]
  },
  {
   "cell_type": "code",
   "execution_count": 58,
   "metadata": {},
   "outputs": [
    {
     "name": "stdout",
     "output_type": "stream",
     "text": [
      "105\n"
     ]
    },
    {
     "ename": "ValueError",
     "evalue": "could not broadcast input array from shape (74,5,1) into shape (74,1)",
     "output_type": "error",
     "traceback": [
      "\u001b[0;31m---------------------------------------------------------------------------\u001b[0m",
      "\u001b[0;31mValueError\u001b[0m                                Traceback (most recent call last)",
      "\u001b[0;32m<ipython-input-58-6901cb188eea>\u001b[0m in \u001b[0;36m<module>\u001b[0;34m()\u001b[0m\n\u001b[1;32m      4\u001b[0m \u001b[0mpred_train_shifted\u001b[0m\u001b[0;34m[\u001b[0m\u001b[0;34m:\u001b[0m\u001b[0;34m,\u001b[0m \u001b[0;34m:\u001b[0m\u001b[0;34m]\u001b[0m \u001b[0;34m=\u001b[0m \u001b[0mnp\u001b[0m\u001b[0;34m.\u001b[0m\u001b[0mnan\u001b[0m\u001b[0;34m\u001b[0m\u001b[0m\n\u001b[1;32m      5\u001b[0m \u001b[0;31m# train predictions start at position window_size + 1 (or window_size, if counting from 0)\u001b[0m\u001b[0;34m\u001b[0m\u001b[0;34m\u001b[0m\u001b[0m\n\u001b[0;32m----> 6\u001b[0;31m \u001b[0mpred_train_shifted\u001b[0m\u001b[0;34m[\u001b[0m\u001b[0mwindow_size\u001b[0m \u001b[0;34m:\u001b[0m \u001b[0mlen\u001b[0m\u001b[0;34m(\u001b[0m\u001b[0mpred_train\u001b[0m\u001b[0;34m)\u001b[0m \u001b[0;34m+\u001b[0m \u001b[0mwindow_size\u001b[0m\u001b[0;34m,\u001b[0m \u001b[0;34m:\u001b[0m\u001b[0;34m]\u001b[0m \u001b[0;34m=\u001b[0m \u001b[0mpred_train\u001b[0m\u001b[0;34m\u001b[0m\u001b[0m\n\u001b[0m\u001b[1;32m      7\u001b[0m \u001b[0mpred_train_shifted\u001b[0m\u001b[0;34m[\u001b[0m\u001b[0;34m:\u001b[0m\u001b[0;36m13\u001b[0m\u001b[0;34m]\u001b[0m\u001b[0;34m\u001b[0m\u001b[0m\n",
      "\u001b[0;31mValueError\u001b[0m: could not broadcast input array from shape (74,5,1) into shape (74,1)"
     ]
    }
   ],
   "source": [
    "# shift train predictions for plotting\n",
    "pred_train_shifted = np.empty_like(ts_all)\n",
    "print(pred_train_shifted.size)\n",
    "pred_train_shifted[:, :] = np.nan\n",
    "# train predictions start at position window_size + 1 (or window_size, if counting from 0)\n",
    "pred_train_shifted[window_size : len(pred_train) + window_size, :] = pred_train\n",
    "pred_train_shifted[:13]"
   ]
  },
  {
   "cell_type": "code",
   "execution_count": 59,
   "metadata": {},
   "outputs": [
    {
     "ename": "ValueError",
     "evalue": "could not broadcast input array from shape (11,5,1) into shape (21,1)",
     "output_type": "error",
     "traceback": [
      "\u001b[0;31m---------------------------------------------------------------------------\u001b[0m",
      "\u001b[0;31mValueError\u001b[0m                                Traceback (most recent call last)",
      "\u001b[0;32m<ipython-input-59-25e8cb217489>\u001b[0m in \u001b[0;36m<module>\u001b[0;34m()\u001b[0m\n\u001b[1;32m      3\u001b[0m \u001b[0mpred_test_shifted\u001b[0m \u001b[0;34m=\u001b[0m \u001b[0mnp\u001b[0m\u001b[0;34m.\u001b[0m\u001b[0mempty_like\u001b[0m\u001b[0;34m(\u001b[0m\u001b[0mts_all\u001b[0m\u001b[0;34m)\u001b[0m\u001b[0;34m\u001b[0m\u001b[0m\n\u001b[1;32m      4\u001b[0m \u001b[0mpred_test_shifted\u001b[0m\u001b[0;34m[\u001b[0m\u001b[0;34m:\u001b[0m\u001b[0;34m,\u001b[0m \u001b[0;34m:\u001b[0m\u001b[0;34m]\u001b[0m \u001b[0;34m=\u001b[0m \u001b[0mnp\u001b[0m\u001b[0;34m.\u001b[0m\u001b[0mnan\u001b[0m\u001b[0;34m\u001b[0m\u001b[0m\n\u001b[0;32m----> 5\u001b[0;31m \u001b[0mpred_test_shifted\u001b[0m\u001b[0;34m[\u001b[0m\u001b[0mlen\u001b[0m\u001b[0;34m(\u001b[0m\u001b[0mpred_train\u001b[0m\u001b[0;34m)\u001b[0m \u001b[0;34m+\u001b[0m \u001b[0;34m(\u001b[0m\u001b[0mwindow_size\u001b[0m \u001b[0;34m*\u001b[0m \u001b[0;36m2\u001b[0m\u001b[0;34m)\u001b[0m \u001b[0;34m:\u001b[0m \u001b[0mlen_overall\u001b[0m \u001b[0;34m+\u001b[0m \u001b[0;36m1\u001b[0m\u001b[0;34m,\u001b[0m \u001b[0;34m:\u001b[0m\u001b[0;34m]\u001b[0m \u001b[0;34m=\u001b[0m \u001b[0mpred_test\u001b[0m\u001b[0;34m\u001b[0m\u001b[0m\n\u001b[0m\u001b[1;32m      6\u001b[0m \u001b[0mpred_test_shifted\u001b[0m\u001b[0;34m[\u001b[0m\u001b[0;34m-\u001b[0m\u001b[0;36m13\u001b[0m\u001b[0;34m:\u001b[0m\u001b[0;34m]\u001b[0m\u001b[0;34m\u001b[0m\u001b[0m\n",
      "\u001b[0;31mValueError\u001b[0m: could not broadcast input array from shape (11,5,1) into shape (21,1)"
     ]
    }
   ],
   "source": [
    "# shift test predictions for plotting\n",
    "window_size = lstm_num_timesteps if use_LSTM else mlp_num_features\n",
    "pred_test_shifted = np.empty_like(ts_all)\n",
    "pred_test_shifted[:, :] = np.nan\n",
    "pred_test_shifted[len(pred_train) + (window_size * 2) : len_overall + 1, :] = pred_test\n",
    "pred_test_shifted[-13:]"
   ]
  },
  {
   "cell_type": "code",
   "execution_count": 60,
   "metadata": {},
   "outputs": [
    {
     "data": {
      "image/png": "[encoded data removed]",
      "text/plain": [
       "<matplotlib.figure.Figure at 0x7fbd266b2da0>"
      ]
     },
     "metadata": {},
     "output_type": "display_data"
    }
   ],
   "source": [
    "plt.plot(ts_all)\n",
    "plt.plot(pred_train_shifted)\n",
    "plt.plot(pred_test_shifted)\n",
    "#plt.savefig(fig_name)\n",
    "plt.show()"
   ]
  },
  {
   "cell_type": "code",
   "execution_count": null,
   "metadata": {},
   "outputs": [],
   "source": [
    "plot_start = -30\n",
    "plot_end = -1\n",
    "plt.plot(ts_all[plot_start:plot_end])\n",
    "plt.plot(pred_train_shifted[plot_start:plot_end])\n",
    "plt.plot(pred_test_shifted[plot_start:plot_end])\n",
    "plt.show()\n"
   ]
  },
  {
   "cell_type": "code",
   "execution_count": null,
   "metadata": {
    "collapsed": true
   },
   "outputs": [],
   "source": [
    "def plot_results(predicted_data, true_data):\n",
    "    fig = plt.figure(facecolor='white')\n",
    "    ax = fig.add_subplot(111)\n",
    "    ax.plot(true_data, label='True Data')\n",
    "    plt.plot(predicted_data, label='Prediction')\n",
    "    plt.legend()\n",
    "    plt.show()"
   ]
  },
  {
   "cell_type": "code",
   "execution_count": null,
   "metadata": {},
   "outputs": [],
   "source": [
    "plot_results(pred_train, y_train)"
   ]
  },
  {
   "cell_type": "code",
   "execution_count": null,
   "metadata": {},
   "outputs": [],
   "source": [
    "plot_results(pred_test, y_test)"
   ]
  },
  {
   "cell_type": "code",
   "execution_count": null,
   "metadata": {
    "collapsed": true
   },
   "outputs": [],
   "source": [
    "def plot_results_multiple(predicted_data, true_data, prediction_window):\n",
    "    fig = plt.figure(facecolor='white')\n",
    "    ax = fig.add_subplot(111)\n",
    "    ax.plot(true_data, label='True Data')\n",
    "    #Pad the list of predictions to shift it in the graph to it's correct start\n",
    "    for i, data in enumerate(predicted_data):\n",
    "        padding = [None for p in range(i * prediction_window)]\n",
    "        plt.plot(padding + data, label='Prediction')\n",
    "        plt.legend()\n",
    "    plt.savefig(fig_name)\n",
    "    plt.show()"
   ]
  },
  {
   "cell_type": "code",
   "execution_count": null,
   "metadata": {},
   "outputs": [],
   "source": [
    "if use_LSTM:\n",
    "    plot_results_multiple(prediction_seqs_train, y_train, prediction_window)"
   ]
  },
  {
   "cell_type": "code",
   "execution_count": null,
   "metadata": {},
   "outputs": [],
   "source": [
    "if use_LSTM:\n",
    "    plot_results_multiple(prediction_seqs_test, y_test, prediction_window)"
   ]
  },
  {
   "cell_type": "code",
   "execution_count": null,
   "metadata": {
    "collapsed": true
   },
   "outputs": [],
   "source": []
  }
 ],
 "metadata": {
  "anaconda-cloud": {},
  "kernelspec": {
   "display_name": "Python 3",
   "language": "python",
   "name": "python3"
  },
  "language_info": {
   "codemirror_mode": {
    "name": "ipython",
    "version": 3
   },
   "file_extension": ".py",
   "mimetype": "text/x-python",
   "name": "python",
   "nbconvert_exporter": "python",
   "pygments_lexer": "ipython3",
   "version": "3.5.3"
  }
 },
 "nbformat": 4,
 "nbformat_minor": 1
}

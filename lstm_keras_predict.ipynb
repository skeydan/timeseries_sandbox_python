{
 "cells": [
  {
   "cell_type": "code",
   "execution_count": 1,
   "metadata": {},
   "outputs": [
    {
     "name": "stderr",
     "output_type": "stream",
     "text": [
      "Using TensorFlow backend.\n"
     ]
    }
   ],
   "source": [
    "import pandas as pd\n",
    "import matplotlib.pyplot as plt\n",
    "from keras.models import Sequential\n",
    "from keras.models import load_model\n",
    "from keras.layers import Dense\n",
    "from keras.layers import TimeDistributed\n",
    "from keras.layers import LSTM\n",
    "from keras.layers import Activation\n",
    "import math\n",
    "from sklearn.preprocessing import MinMaxScaler\n",
    "from sklearn.preprocessing import StandardScaler\n",
    "from sklearn.metrics import mean_squared_error\n",
    "import numpy as np\n",
    "\n",
    "%matplotlib inline\n",
    "plt.rcParams['figure.figsize'] = (16, 10)"
   ]
  },
  {
   "cell_type": "code",
   "execution_count": 2,
   "metadata": {
    "collapsed": true
   },
   "outputs": [],
   "source": [
    "np.random.seed(7)"
   ]
  },
  {
   "cell_type": "code",
   "execution_count": 3,
   "metadata": {
    "collapsed": true
   },
   "outputs": [],
   "source": [
    "# whether to use LSTM or MLP\n",
    "use_LSTM = True\n",
    "\n",
    "# number of features used in the regression (for MLP)\n",
    "mlp_num_features = 5\n",
    "#\n",
    "\n",
    "# predict several timesteps at once\n",
    "lstm_predict_sequences = True\n",
    "lstm_num_predictions = 5\n",
    "\n",
    "# lstm_num_timesteps\n",
    "lstm_num_timesteps = 5\n",
    "# lstm_num_features\n",
    "lstm_num_features = 1\n",
    "# stateful?\n",
    "lstm_stateful = True\n",
    "# use two lstm layers?\n",
    "lstm_stack_layers = False\n",
    "\n",
    "# window_size\n",
    "window_size = lstm_num_timesteps if use_LSTM else mlp_num_features\n",
    "\n",
    "batch_size = 1\n",
    "num_epochs = 200\n",
    "# dimensionality of the output space\n",
    "num_neurons = 4\n",
    "\n",
    "# scale the dataset to values between scale_min and scale_max\n",
    "scale = False\n",
    "scale_min = -1\n",
    "scale_max = 1\n",
    "#scaler = MinMaxScaler(feature_range=(scale_min, scale_max))\n",
    "scaler = StandardScaler()\n",
    "\n",
    "# number of consecutive (dependent) predictions\n",
    "prediction_window = 5 \n"
   ]
  },
  {
   "cell_type": "code",
   "execution_count": 4,
   "metadata": {
    "collapsed": true
   },
   "outputs": [],
   "source": [
    "testname = 'predict'\n",
    "properties = 'lstm_' + str(use_LSTM) + '_stateful_' + str(lstm_stateful) + '_window_' + str(window_size) + '_predict_sequences_' + str(lstm_predict_sequences) + '_epochs_' + str(num_epochs) + '_2layers_' + str(lstm_stack_layers) + '_scale_' + str(scale)\n",
    "model_name = testname + '_' + properties + '.h5'\n",
    "fig_name = testname + '_' + properties + '.png'\n",
    "fig_name_multiple = testname + '_' + properties + '_multiplepreds_' + str(prediction_window) + '.png'\n",
    "\n",
    "\n",
    "model_exists = False"
   ]
  },
  {
   "cell_type": "code",
   "execution_count": 5,
   "metadata": {
    "collapsed": true
   },
   "outputs": [],
   "source": [
    "filename = '108_7_3.train.csv'\n",
    "df_train = pd.read_csv(filename, usecols=[1])\n",
    "ts_train = df_train.values.astype('float64')\n",
    "df_test = pd.read_csv(filename, usecols=[1])\n",
    "ts_test = df_test.values.astype('float64')\n",
    "ts_all = np.append(ts_train, ts_test).reshape(-1,1)\n",
    "len_overall = len(ts_all)"
   ]
  },
  {
   "cell_type": "code",
   "execution_count": 6,
   "metadata": {},
   "outputs": [
    {
     "data": {
      "text/plain": [
       "1798"
      ]
     },
     "execution_count": 6,
     "metadata": {},
     "output_type": "execute_result"
    }
   ],
   "source": [
    "len_overall"
   ]
  },
  {
   "cell_type": "code",
   "execution_count": 7,
   "metadata": {},
   "outputs": [
    {
     "data": {
      "text/plain": [
       "((899, 1), (899, 1))"
      ]
     },
     "execution_count": 7,
     "metadata": {},
     "output_type": "execute_result"
    }
   ],
   "source": [
    "ts_train.shape, ts_test.shape"
   ]
  },
  {
   "cell_type": "code",
   "execution_count": 8,
   "metadata": {},
   "outputs": [
    {
     "data": {
      "text/plain": [
       "array([[ 4164.],\n",
       "       [ 3540.],\n",
       "       [ 3560.],\n",
       "       [ 3094.],\n",
       "       [ 3658.],\n",
       "       [ 3049.],\n",
       "       [ 3526.],\n",
       "       [ 3290.],\n",
       "       [ 4447.],\n",
       "       [ 2305.]])"
      ]
     },
     "execution_count": 8,
     "metadata": {},
     "output_type": "execute_result"
    }
   ],
   "source": [
    "ts_train[:10]"
   ]
  },
  {
   "cell_type": "code",
   "execution_count": 9,
   "metadata": {},
   "outputs": [
    {
     "data": {
      "text/plain": [
       "array([[ 4164.],\n",
       "       [ 3540.],\n",
       "       [ 3560.],\n",
       "       [ 3094.],\n",
       "       [ 3658.],\n",
       "       [ 3049.],\n",
       "       [ 3526.],\n",
       "       [ 3290.],\n",
       "       [ 4447.],\n",
       "       [ 2305.]])"
      ]
     },
     "execution_count": 9,
     "metadata": {},
     "output_type": "execute_result"
    }
   ],
   "source": [
    "ts_test[:10]"
   ]
  },
  {
   "cell_type": "code",
   "execution_count": 10,
   "metadata": {
    "collapsed": true
   },
   "outputs": [],
   "source": [
    "if scale:\n",
    "    ts_train = scaler.fit_transform(ts_train)\n",
    "    ts_test = scaler.transform(ts_test)"
   ]
  },
  {
   "cell_type": "code",
   "execution_count": 11,
   "metadata": {},
   "outputs": [
    {
     "data": {
      "text/plain": [
       "array([[ 4164.],\n",
       "       [ 3540.],\n",
       "       [ 3560.],\n",
       "       [ 3094.],\n",
       "       [ 3658.],\n",
       "       [ 3049.],\n",
       "       [ 3526.],\n",
       "       [ 3290.],\n",
       "       [ 4447.],\n",
       "       [ 2305.]])"
      ]
     },
     "execution_count": 11,
     "metadata": {},
     "output_type": "execute_result"
    }
   ],
   "source": [
    "ts_train[:10]"
   ]
  },
  {
   "cell_type": "code",
   "execution_count": 12,
   "metadata": {},
   "outputs": [
    {
     "data": {
      "text/plain": [
       "array([[ 4164.],\n",
       "       [ 3540.],\n",
       "       [ 3560.],\n",
       "       [ 3094.],\n",
       "       [ 3658.],\n",
       "       [ 3049.],\n",
       "       [ 3526.],\n",
       "       [ 3290.],\n",
       "       [ 4447.],\n",
       "       [ 2305.]])"
      ]
     },
     "execution_count": 12,
     "metadata": {},
     "output_type": "execute_result"
    }
   ],
   "source": [
    "ts_test[:10]"
   ]
  },
  {
   "cell_type": "code",
   "execution_count": 13,
   "metadata": {
    "collapsed": true
   },
   "outputs": [],
   "source": [
    "# split into train and test sets\n",
    "#train_size = int(len(ts) * 0.67)\n",
    "#test_size = len(ts) - train_size\n",
    "#ts_train, ts_test = ts[0:train_size,:], ts[train_size:len(ts),:]\n",
    "#print(len(ts_train), len(ts_test))\n"
   ]
  },
  {
   "cell_type": "code",
   "execution_count": 14,
   "metadata": {
    "collapsed": true
   },
   "outputs": [],
   "source": [
    "# convert an array of values into a dataset matrix\n",
    "def create_dataset(dataset, window_size):\n",
    "    dataX, dataY = [], []\n",
    "    for i in range(len(dataset) - window_size):\n",
    "        a = dataset[i:(i + window_size), 0]\n",
    "        dataX.append(a)\n",
    "        dataY.append(dataset[i + window_size, 0])\n",
    "    return np.array(dataX), np.array(dataY)"
   ]
  },
  {
   "cell_type": "code",
   "execution_count": 15,
   "metadata": {
    "collapsed": true
   },
   "outputs": [],
   "source": [
    "def create_dataset_multiple_y(dataset, window_size):\n",
    "    dataX, dataY = [], []\n",
    "    for i in range(len(dataset) - 2 * window_size):\n",
    "        a = dataset[i:(i + window_size), 0]\n",
    "        #print(a)\n",
    "        dataX.append(a)\n",
    "        b = dataset[(i + window_size):(i + 2* window_size), 0]\n",
    "        #print(b)\n",
    "        dataY.append(b)\n",
    "    return np.array(dataX), np.array(dataY)"
   ]
  },
  {
   "cell_type": "code",
   "execution_count": 16,
   "metadata": {},
   "outputs": [
    {
     "data": {
      "text/plain": [
       "((889, 5), (889, 5), (889, 5), (889, 5))"
      ]
     },
     "execution_count": 16,
     "metadata": {},
     "output_type": "execute_result"
    }
   ],
   "source": [
    "if use_LSTM:\n",
    "    if lstm_predict_sequences:\n",
    "        X_train, y_train = create_dataset_multiple_y(ts_train, lstm_num_timesteps)\n",
    "        X_test, y_test = create_dataset_multiple_y(ts_test, lstm_num_timesteps)\n",
    "    else:    \n",
    "        X_train, y_train = create_dataset(ts_train, lstm_num_timesteps)\n",
    "        X_test, y_test = create_dataset(ts_test, lstm_num_timesteps)\n",
    "else:\n",
    "    X_train, y_train = create_dataset(ts_train, mlp_num_features)\n",
    "    X_test, y_test = create_dataset(ts_test, mlp_num_features)\n",
    "    \n",
    "# the train and test matrices end up shorter than the respective timeseries by window_size + 1!\n",
    "X_train.shape, y_train.shape, X_test.shape,  y_test.shape"
   ]
  },
  {
   "cell_type": "code",
   "execution_count": 17,
   "metadata": {},
   "outputs": [
    {
     "data": {
      "text/plain": [
       "array([[ 4164.,  3540.,  3560.,  3094.,  3658.],\n",
       "       [ 3540.,  3560.,  3094.,  3658.,  3049.],\n",
       "       [ 3560.,  3094.,  3658.,  3049.,  3526.],\n",
       "       [ 3094.,  3658.,  3049.,  3526.,  3290.],\n",
       "       [ 3658.,  3049.,  3526.,  3290.,  4447.]])"
      ]
     },
     "execution_count": 17,
     "metadata": {},
     "output_type": "execute_result"
    }
   ],
   "source": [
    "X_train[:5,:]"
   ]
  },
  {
   "cell_type": "code",
   "execution_count": 18,
   "metadata": {},
   "outputs": [
    {
     "data": {
      "text/plain": [
       "array([[ 3049.,  3526.,  3290.,  4447.,  2305.],\n",
       "       [ 3526.,  3290.,  4447.,  2305.,  2657.],\n",
       "       [ 3290.,  4447.,  2305.,  2657.,  2784.],\n",
       "       [ 4447.,  2305.,  2657.,  2784.,  3068.],\n",
       "       [ 2305.,  2657.,  2784.,  3068.,  4036.]])"
      ]
     },
     "execution_count": 18,
     "metadata": {},
     "output_type": "execute_result"
    }
   ],
   "source": [
    "y_train[:5]"
   ]
  },
  {
   "cell_type": "code",
   "execution_count": 19,
   "metadata": {},
   "outputs": [
    {
     "data": {
      "text/plain": [
       "array([[ 4164.,  3540.,  3560.,  3094.,  3658.],\n",
       "       [ 3540.,  3560.,  3094.,  3658.,  3049.],\n",
       "       [ 3560.,  3094.,  3658.,  3049.,  3526.],\n",
       "       [ 3094.,  3658.,  3049.,  3526.,  3290.],\n",
       "       [ 3658.,  3049.,  3526.,  3290.,  4447.]])"
      ]
     },
     "execution_count": 19,
     "metadata": {},
     "output_type": "execute_result"
    }
   ],
   "source": [
    "X_test[:5,:]"
   ]
  },
  {
   "cell_type": "code",
   "execution_count": 20,
   "metadata": {},
   "outputs": [
    {
     "data": {
      "text/plain": [
       "array([[ 3049.,  3526.,  3290.,  4447.,  2305.],\n",
       "       [ 3526.,  3290.,  4447.,  2305.,  2657.],\n",
       "       [ 3290.,  4447.,  2305.,  2657.,  2784.],\n",
       "       [ 4447.,  2305.,  2657.,  2784.,  3068.],\n",
       "       [ 2305.,  2657.,  2784.,  3068.,  4036.]])"
      ]
     },
     "execution_count": 20,
     "metadata": {},
     "output_type": "execute_result"
    }
   ],
   "source": [
    "y_test[:5]"
   ]
  },
  {
   "cell_type": "code",
   "execution_count": 21,
   "metadata": {
    "collapsed": true
   },
   "outputs": [],
   "source": [
    "if use_LSTM:\n",
    "    # reshape input to be [samples, time steps, features]\n",
    "    X_train = np.reshape(X_train, (X_train.shape[0], lstm_num_timesteps, lstm_num_features))\n",
    "    X_test = np.reshape(X_test, (X_test.shape[0], lstm_num_timesteps, lstm_num_features))\n",
    "    \n",
    "    if lstm_predict_sequences:\n",
    "        y_train = np.reshape(y_train, (y_train.shape[0], lstm_num_predictions, lstm_num_features))\n",
    "        y_test = np.reshape(y_test, (y_test.shape[0], lstm_num_predictions, lstm_num_features))"
   ]
  },
  {
   "cell_type": "code",
   "execution_count": 22,
   "metadata": {},
   "outputs": [
    {
     "name": "stdout",
     "output_type": "stream",
     "text": [
      "LSTM\n",
      "stateful\n",
      "predict_sequences\n",
      "(1, 5, 4)\n",
      "(1, 5, 1)\n"
     ]
    }
   ],
   "source": [
    "if not model_exists:\n",
    "    \n",
    "    model = Sequential()\n",
    "\n",
    "    # LSTM input shape\n",
    "    # (samples, time steps, features)\n",
    "    # LSTM output shape\n",
    "    # if return_sequences: 3D tensor with shape (batch_size, timesteps, units).\n",
    "    # else, 2D tensor with shape (batch_size, units).\n",
    "\n",
    "    if use_LSTM:\n",
    "\n",
    "        print('LSTM')\n",
    "        # the last state for each sample at index i in a batch will be used as initial state\n",
    "        # for the sample of index i in the following batch\n",
    "        if lstm_stateful:\n",
    "            print('stateful')\n",
    "            #\n",
    "            if lstm_stack_layers:\n",
    "                print('stack_layers')\n",
    "                model.add(LSTM(num_neurons,\n",
    "                           batch_input_shape=(batch_size, X_train.shape[1], X_train.shape[2]),\n",
    "                           stateful = True,\n",
    "                           return_sequences = True))\n",
    "                print(model.output_shape)\n",
    "                model.add(LSTM(num_neurons,\n",
    "                           stateful = True))\n",
    "                print(model.output_shape)\n",
    "                model.add(Dense(1))\n",
    "                print(model.output_shape)\n",
    "                model.compile(loss='mean_squared_error', optimizer='adam')\n",
    "\n",
    "            # \n",
    "            elif lstm_predict_sequences:\n",
    "                print('predict_sequences')\n",
    "                model.add(LSTM(num_neurons,\n",
    "                           batch_input_shape=(batch_size, X_train.shape[1], X_train.shape[2]),\n",
    "                           stateful = True,\n",
    "                           return_sequences = True))\n",
    "                print(model.output_shape)\n",
    "                model.add(TimeDistributed(Dense(1)))\n",
    "                print(model.output_shape)\n",
    "                model.add(Activation(\"linear\"))  \n",
    "                model.compile(loss='mean_squared_error', optimizer='adam')\n",
    "\n",
    "            #    \n",
    "            else:\n",
    "                print('predict single')\n",
    "                model.add(LSTM(num_neurons,\n",
    "                           batch_input_shape=(batch_size, X_train.shape[1], X_train.shape[2]),\n",
    "                           stateful = True))\n",
    "                print(model.output_shape)\n",
    "                model.add(Dense(1))\n",
    "                print(model.output_shape)\n",
    "                model.compile(loss='mean_squared_error', optimizer='adam')\n",
    "\n",
    "\n",
    "\n",
    "        # stateful == False    \n",
    "        else: \n",
    "            print('stateless')\n",
    "\n",
    "            if lstm_stack_layers:\n",
    "                print('stack layers')\n",
    "                # input_dim: dimensionality of the input (alternatively, input_shape)\n",
    "                # required when using this layer as the first layer in a model\n",
    "                model.add(LSTM(num_neurons, input_dim = lstm_num_features, return_sequences = True))\n",
    "                print(model.output_shape)\n",
    "                model.add(LSTM(num_neurons))\n",
    "                print(model.output_shape)\n",
    "                model.add(Dense(1))\n",
    "                print(model.output_shape)\n",
    "                model.compile(loss='mean_squared_error', optimizer='adam')\n",
    "            # \n",
    "            # \n",
    "            elif lstm_predict_sequences:\n",
    "                print('predict_sequences')\n",
    "                model.add(LSTM(num_neurons,\n",
    "                          #  input_dim = lstm_num_features,\n",
    "                           batch_input_shape=(batch_size, X_train.shape[1], X_train.shape[2]), \n",
    "                           return_sequences = True))\n",
    "                print(model.output_shape) \n",
    "                model.add(TimeDistributed(Dense(1)))\n",
    "                print(model.output_shape) \n",
    "                model.compile(loss='mean_squared_error', optimizer='adam')\n",
    "\n",
    "            else:\n",
    "                print('predict single')\n",
    "                model.add(LSTM(num_neurons, \n",
    "                               input_shape=(X_train.shape[1], X_train.shape[2])\n",
    "                               #input_dim = lstm_num_features\n",
    "                              )\n",
    "                              )\n",
    "                print(model.output_shape) \n",
    "                model.add(Dense(1))\n",
    "                print(model.output_shape) \n",
    "                model.compile(loss='mean_squared_error', optimizer='adam')\n",
    "\n",
    "\n",
    "\n",
    "    # feedforward\n",
    "    else:\n",
    "        print('MLP')\n",
    "\n",
    "        model.add(Dense(num_neurons, input_dim = mlp_num_features, activation='relu'))\n",
    "        model.add(Dense(1))\n",
    "        model.compile(loss='mean_squared_error', optimizer='adam')\n",
    "\n",
    "else:\n",
    "    print('loading from file: ' + model_name)\n",
    "    model = load_model(model_name)"
   ]
  },
  {
   "cell_type": "code",
   "execution_count": 23,
   "metadata": {},
   "outputs": [
    {
     "name": "stdout",
     "output_type": "stream",
     "text": [
      "_________________________________________________________________\n",
      "Layer (type)                 Output Shape              Param #   \n",
      "=================================================================\n",
      "lstm_1 (LSTM)                (1, 5, 4)                 96        \n",
      "_________________________________________________________________\n",
      "time_distributed_1 (TimeDist (1, 5, 1)                 5         \n",
      "_________________________________________________________________\n",
      "activation_1 (Activation)    (1, 5, 1)                 0         \n",
      "=================================================================\n",
      "Total params: 101.0\n",
      "Trainable params: 101.0\n",
      "Non-trainable params: 0.0\n",
      "_________________________________________________________________\n"
     ]
    }
   ],
   "source": [
    "model.summary()"
   ]
  },
  {
   "cell_type": "code",
   "execution_count": null,
   "metadata": {},
   "outputs": [
    {
     "name": "stdout",
     "output_type": "stream",
     "text": [
      "epoch: 0\n",
      "Epoch 1/1\n",
      "889/889 [==============================] - 2s - loss: 3632207.0458     \n",
      "epoch: 1\n",
      "Epoch 1/1\n",
      "889/889 [==============================] - 2s - loss: 3626658.5357     \n",
      "epoch: 2\n",
      "Epoch 1/1\n",
      "889/889 [==============================] - 2s - loss: 3620810.3312     \n",
      "epoch: 3\n",
      "Epoch 1/1\n",
      "889/889 [==============================] - 2s - loss: 3614914.3772     \n",
      "epoch: 4\n",
      "Epoch 1/1\n",
      "889/889 [==============================] - 2s - loss: 3609006.7882     \n",
      "epoch: 5\n",
      "Epoch 1/1\n",
      "889/889 [==============================] - 3s - loss: 3603098.7289     \n",
      "epoch: 6\n",
      "Epoch 1/1\n",
      "889/889 [==============================] - 3s - loss: 3597194.2579     \n",
      "epoch: 7\n",
      "Epoch 1/1\n",
      "889/889 [==============================] - 3s - loss: 3591294.9859     \n",
      "epoch: 8\n",
      "Epoch 1/1\n",
      "889/889 [==============================] - 3s - loss: 3585401.5304     \n",
      "epoch: 9\n",
      "Epoch 1/1\n",
      "889/889 [==============================] - 3s - loss: 3579514.1121     \n",
      "epoch: 10\n",
      "Epoch 1/1\n",
      "889/889 [==============================] - 2s - loss: 3573632.8843     \n",
      "epoch: 11\n",
      "Epoch 1/1\n",
      "889/889 [==============================] - 2s - loss: 3567757.8647     \n",
      "epoch: 12\n",
      "Epoch 1/1\n",
      "889/889 [==============================] - 3s - loss: 3561889.0055     \n",
      "epoch: 13\n",
      "Epoch 1/1\n",
      "889/889 [==============================] - 3s - loss: 3556026.4806     \n",
      "epoch: 14\n",
      "Epoch 1/1\n",
      "889/889 [==============================] - 2s - loss: 3550170.2134     \n",
      "epoch: 15\n",
      "Epoch 1/1\n",
      "889/889 [==============================] - 2s - loss: 3544320.1138     \n",
      "epoch: 16\n",
      "Epoch 1/1\n",
      "889/889 [==============================] - 2s - loss: 3538476.2312     \n",
      "epoch: 17\n",
      "Epoch 1/1\n",
      "889/889 [==============================] - 2s - loss: 3532638.6534     \n",
      "epoch: 18\n",
      "Epoch 1/1\n",
      "889/889 [==============================] - 2s - loss: 3526807.2849     \n",
      "epoch: 19\n",
      "Epoch 1/1\n",
      "889/889 [==============================] - 2s - loss: 3520982.1194     \n",
      "epoch: 20\n",
      "Epoch 1/1\n",
      "889/889 [==============================] - 2s - loss: 3515163.3320     \n",
      "epoch: 21\n",
      "Epoch 1/1\n",
      "889/889 [==============================] - 2s - loss: 3509350.7682     \n",
      "epoch: 22\n",
      "Epoch 1/1\n",
      "673/889 [=====================>........] - ETA: 0s - loss: 3957183.6912"
     ]
    }
   ],
   "source": [
    "if not model_exists:\n",
    "    if use_LSTM & lstm_stateful:\n",
    "\n",
    "        for i in range(num_epochs):\n",
    "                print('epoch: ' + str(i))\n",
    "                # shuffle must be False!\n",
    "                model.fit(X_train, y_train, epochs = 1, batch_size = batch_size, shuffle = False)\n",
    "                model.reset_states()\n",
    "\n",
    "    else: \n",
    "        model.fit(X_train, y_train, epochs = num_epochs, batch_size = batch_size)\n"
   ]
  },
  {
   "cell_type": "code",
   "execution_count": null,
   "metadata": {
    "collapsed": true
   },
   "outputs": [],
   "source": [
    "if not model_exists:\n",
    "    model.save(model_name)"
   ]
  },
  {
   "cell_type": "code",
   "execution_count": null,
   "metadata": {
    "collapsed": true
   },
   "outputs": [],
   "source": [
    "test_loss = np.nan\n",
    "if lstm_stateful:\n",
    "    test_loss = model.evaluate(X_test, y_test, batch_size = batch_size)\n",
    "else:\n",
    "    test_loss = model.evaluate(X_test, y_test, batch_size = X_test.shape[0])\n",
    "test_loss"
   ]
  },
  {
   "cell_type": "code",
   "execution_count": null,
   "metadata": {
    "collapsed": true
   },
   "outputs": [],
   "source": [
    "if lstm_stateful:\n",
    "    model.reset_states()\n",
    "    pred_train = model.predict(X_train, batch_size = batch_size)\n",
    "    model.reset_states()\n",
    "    pred_test = model.predict(X_test, batch_size = batch_size)\n",
    "else:\n",
    "    pred_train = model.predict(X_train, batch_size = batch_size)\n",
    "    pred_test = model.predict(X_test, batch_size = batch_size)"
   ]
  },
  {
   "cell_type": "code",
   "execution_count": null,
   "metadata": {
    "collapsed": true
   },
   "outputs": [],
   "source": [
    "for i in X_test:\n",
    "    if use_LSTM:\n",
    "        if lstm_stateful:\n",
    "            model.reset_states()\n",
    "        #print(i)\n",
    "        r = i.reshape(1, len(i), 1)\n",
    "        #print(i.shape), print(r.shape)\n",
    "        print(model.predict(r))\n",
    "    else:\n",
    "        r = i.reshape(1, len(i))\n",
    "        #print(i.shape), print(r.shape)\n",
    "        print(model.predict(r))"
   ]
  },
  {
   "cell_type": "code",
   "execution_count": null,
   "metadata": {
    "collapsed": true
   },
   "outputs": [],
   "source": [
    "def calc_dependent_predictions(model, data, prediction_window):\n",
    "    prediction_seqs = []\n",
    "    for i in range(int(len(data)/prediction_window)):\n",
    "        print('Calculating predictions starting from: {}'.format(i))\n",
    "        curr_frame = data[i*prediction_window]\n",
    "        predicted = []\n",
    "        for j in range(prediction_window):\n",
    "            #print('Calculating single prediction: {}'.format(j))\n",
    "            #print(curr_frame)\n",
    "            pred = model.predict(curr_frame[np.newaxis,:,:])[0,0]\n",
    "            #pred = model.predict(curr_frame.reshape(1, len(curr_frame), 1)) # same\n",
    "            #print(pred)\n",
    "            predicted.append(pred)\n",
    "            curr_frame = curr_frame[1:] \n",
    "            curr_frame = np.insert(curr_frame, [window_size-1], predicted[-1], axis=0)\n",
    "        prediction_seqs.append(predicted)\n",
    "    return prediction_seqs"
   ]
  },
  {
   "cell_type": "code",
   "execution_count": null,
   "metadata": {
    "collapsed": true
   },
   "outputs": [],
   "source": [
    "if use_LSTM and not lstm_predict_sequences:\n",
    "    prediction_seqs_train = calc_dependent_predictions(model, X_train, prediction_window)\n",
    "    prediction_seqs_test = calc_dependent_predictions(model, X_test, prediction_window)"
   ]
  },
  {
   "cell_type": "code",
   "execution_count": null,
   "metadata": {
    "collapsed": true
   },
   "outputs": [],
   "source": [
    "if use_LSTM and not lstm_predict_sequences:\n",
    "    print(prediction_seqs_train)"
   ]
  },
  {
   "cell_type": "code",
   "execution_count": null,
   "metadata": {
    "collapsed": true
   },
   "outputs": [],
   "source": [
    "if use_LSTM and not lstm_predict_sequences:\n",
    "    print(prediction_seqs_test)"
   ]
  },
  {
   "cell_type": "code",
   "execution_count": null,
   "metadata": {
    "collapsed": true
   },
   "outputs": [],
   "source": [
    "y_train[:10]"
   ]
  },
  {
   "cell_type": "code",
   "execution_count": null,
   "metadata": {
    "collapsed": true
   },
   "outputs": [],
   "source": [
    "pred_train[:10,0]"
   ]
  },
  {
   "cell_type": "code",
   "execution_count": null,
   "metadata": {
    "collapsed": true
   },
   "outputs": [],
   "source": [
    "y_test[:10]"
   ]
  },
  {
   "cell_type": "code",
   "execution_count": null,
   "metadata": {
    "collapsed": true
   },
   "outputs": [],
   "source": [
    "pred_test[:10,0]"
   ]
  },
  {
   "cell_type": "code",
   "execution_count": null,
   "metadata": {
    "collapsed": true
   },
   "outputs": [],
   "source": [
    "if scale:\n",
    "    pred_train = scaler.inverse_transform(pred_train)\n",
    "    y_train = scaler.inverse_transform(y_train.reshape(-1,1))\n",
    "    pred_test = scaler.inverse_transform(pred_test)\n",
    "    y_test = scaler.inverse_transform(y_test.reshape(-1,1))\n",
    "    \n"
   ]
  },
  {
   "cell_type": "code",
   "execution_count": null,
   "metadata": {
    "collapsed": true
   },
   "outputs": [],
   "source": [
    "y_train[:10],pred_train[:10,0]"
   ]
  },
  {
   "cell_type": "code",
   "execution_count": null,
   "metadata": {
    "collapsed": true
   },
   "outputs": [],
   "source": [
    "y_test[:10],pred_test[:10,0]"
   ]
  },
  {
   "cell_type": "code",
   "execution_count": null,
   "metadata": {
    "collapsed": true
   },
   "outputs": [],
   "source": [
    "# calculate root mean squared error\n",
    "rsme_train = math.sqrt(mean_squared_error(y_train, pred_train[:,0]))\n",
    "print('Train Score: %.2f RMSE' % (rsme_train))\n",
    "rsme_test = math.sqrt(mean_squared_error(y_test, pred_test[:,0]))\n",
    "print('Test Score: %.2f RMSE' % (rsme_test))"
   ]
  },
  {
   "cell_type": "code",
   "execution_count": null,
   "metadata": {
    "collapsed": true
   },
   "outputs": [],
   "source": [
    "print(len(ts_train), len(pred_train), len(y_train))\n",
    "len(ts_test), len(pred_test), len(y_test) "
   ]
  },
  {
   "cell_type": "code",
   "execution_count": null,
   "metadata": {
    "collapsed": true
   },
   "outputs": [],
   "source": [
    "# shift train predictions for plotting\n",
    "window_size = lstm_num_timesteps if use_LSTM else mlp_num_features\n",
    "pred_train_shifted = np.empty_like(ts_all)\n",
    "print(pred_train_shifted.size)\n",
    "pred_train_shifted[:, :] = np.nan\n",
    "# train predictions start at position window_size + 1 (or window_size, if counting from 0)\n",
    "pred_train_shifted[window_size : len(pred_train) + window_size, :] = pred_train\n",
    "pred_train_shifted[:13]"
   ]
  },
  {
   "cell_type": "code",
   "execution_count": null,
   "metadata": {
    "collapsed": true
   },
   "outputs": [],
   "source": [
    "# shift test predictions for plotting\n",
    "window_size = lstm_num_timesteps if use_LSTM else mlp_num_features\n",
    "pred_test_shifted = np.empty_like(ts_all)\n",
    "pred_test_shifted[:, :] = np.nan\n",
    "pred_test_shifted[len(pred_train) + (window_size * 2) : len_overall + 1, :] = pred_test\n",
    "pred_test_shifted[-13:]"
   ]
  },
  {
   "cell_type": "code",
   "execution_count": null,
   "metadata": {
    "collapsed": true
   },
   "outputs": [],
   "source": [
    "plt.plot(ts_all)\n",
    "plt.plot(pred_train_shifted)\n",
    "plt.plot(pred_test_shifted)\n",
    "plt.show()"
   ]
  },
  {
   "cell_type": "code",
   "execution_count": null,
   "metadata": {
    "collapsed": true
   },
   "outputs": [],
   "source": [
    "plot_start = -100\n",
    "plot_end = -1\n",
    "plt.plot(ts_all[plot_start:plot_end])\n",
    "plt.plot(pred_train_shifted[plot_start:plot_end])\n",
    "plt.plot(pred_test_shifted[plot_start:plot_end])\n",
    "plt.savefig(fig_name)\n",
    "plt.show()\n"
   ]
  },
  {
   "cell_type": "code",
   "execution_count": null,
   "metadata": {
    "collapsed": true
   },
   "outputs": [],
   "source": [
    "def plot_results_multiple(predicted_data, true_data, prediction_window):\n",
    "    fig = plt.figure(facecolor='white')\n",
    "    ax = fig.add_subplot(111)\n",
    "    ax.plot(true_data, label='True Data')\n",
    "    #Pad the list of predictions to shift it in the graph to it's correct start\n",
    "    for i, data in enumerate(predicted_data):\n",
    "        padding = [None for p in range(i * prediction_window)]\n",
    "        plt.plot(padding + data, label='Prediction')\n",
    "        plt.legend()\n",
    "    plt.savefig(fig_name)\n",
    "    plt.show()"
   ]
  },
  {
   "cell_type": "code",
   "execution_count": null,
   "metadata": {
    "collapsed": true
   },
   "outputs": [],
   "source": [
    "if use_LSTM:\n",
    "    plot_results_multiple(prediction_seqs_train, y_train, prediction_window)"
   ]
  },
  {
   "cell_type": "code",
   "execution_count": null,
   "metadata": {
    "collapsed": true
   },
   "outputs": [],
   "source": [
    "if use_LSTM:\n",
    "    plot_results_multiple(prediction_seqs_test, y_test, prediction_window)"
   ]
  }
 ],
 "metadata": {
  "anaconda-cloud": {},
  "kernelspec": {
   "display_name": "Python 3",
   "language": "python",
   "name": "python3"
  },
  "language_info": {
   "codemirror_mode": {
    "name": "ipython",
    "version": 3
   },
   "file_extension": ".py",
   "mimetype": "text/x-python",
   "name": "python",
   "nbconvert_exporter": "python",
   "pygments_lexer": "ipython3",
   "version": "3.5.3"
  }
 },
 "nbformat": 4,
 "nbformat_minor": 1
}
